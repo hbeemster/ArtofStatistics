{
 "cells": [
  {
   "cell_type": "markdown",
   "metadata": {},
   "source": [
    "##  Art of Statistics: 01-3-child-heart-proportions-x"
   ]
  },
  {
   "cell_type": "code",
   "execution_count": 1,
   "metadata": {},
   "outputs": [],
   "source": [
    "import altair as alt\n",
    "import pandas as pd"
   ]
  },
  {
   "cell_type": "code",
   "execution_count": 24,
   "metadata": {},
   "outputs": [
    {
     "data": {
      "text/html": [
       "<div>\n",
       "<style scoped>\n",
       "    .dataframe tbody tr th:only-of-type {\n",
       "        vertical-align: middle;\n",
       "    }\n",
       "\n",
       "    .dataframe tbody tr th {\n",
       "        vertical-align: top;\n",
       "    }\n",
       "\n",
       "    .dataframe thead th {\n",
       "        text-align: right;\n",
       "    }\n",
       "</style>\n",
       "<table border=\"1\" class=\"dataframe\">\n",
       "  <thead>\n",
       "    <tr style=\"text-align: right;\">\n",
       "      <th></th>\n",
       "      <th>Hospital</th>\n",
       "      <th>Operations</th>\n",
       "      <th>Survivors</th>\n",
       "      <th>Deaths</th>\n",
       "      <th>ThirtyDaySurvival</th>\n",
       "      <th>PercentageDying</th>\n",
       "      <th>Percentage</th>\n",
       "    </tr>\n",
       "  </thead>\n",
       "  <tbody>\n",
       "    <tr>\n",
       "      <th>0</th>\n",
       "      <td>London - Harley Street</td>\n",
       "      <td>418</td>\n",
       "      <td>413</td>\n",
       "      <td>5</td>\n",
       "      <td>98.8</td>\n",
       "      <td>1.2</td>\n",
       "      <td>3.232042</td>\n",
       "    </tr>\n",
       "    <tr>\n",
       "      <th>1</th>\n",
       "      <td>Leicester</td>\n",
       "      <td>607</td>\n",
       "      <td>593</td>\n",
       "      <td>14</td>\n",
       "      <td>97.7</td>\n",
       "      <td>2.3</td>\n",
       "      <td>4.693420</td>\n",
       "    </tr>\n",
       "    <tr>\n",
       "      <th>2</th>\n",
       "      <td>Newcastle</td>\n",
       "      <td>668</td>\n",
       "      <td>653</td>\n",
       "      <td>15</td>\n",
       "      <td>97.8</td>\n",
       "      <td>2.2</td>\n",
       "      <td>5.165082</td>\n",
       "    </tr>\n",
       "    <tr>\n",
       "      <th>3</th>\n",
       "      <td>Glasgow</td>\n",
       "      <td>760</td>\n",
       "      <td>733</td>\n",
       "      <td>27</td>\n",
       "      <td>96.3</td>\n",
       "      <td>3.7</td>\n",
       "      <td>5.876440</td>\n",
       "    </tr>\n",
       "    <tr>\n",
       "      <th>4</th>\n",
       "      <td>Southampton</td>\n",
       "      <td>829</td>\n",
       "      <td>815</td>\n",
       "      <td>14</td>\n",
       "      <td>98.3</td>\n",
       "      <td>1.7</td>\n",
       "      <td>6.409959</td>\n",
       "    </tr>\n",
       "  </tbody>\n",
       "</table>\n",
       "</div>"
      ],
      "text/plain": [
       "                  Hospital  Operations  Survivors  Deaths  ThirtyDaySurvival  \\\n",
       "0  London - Harley Street          418        413       5               98.8   \n",
       "1                Leicester         607        593      14               97.7   \n",
       "2                Newcastle         668        653      15               97.8   \n",
       "3                  Glasgow         760        733      27               96.3   \n",
       "4              Southampton         829        815      14               98.3   \n",
       "\n",
       "   PercentageDying  Percentage  \n",
       "0              1.2    3.232042  \n",
       "1              2.3    4.693420  \n",
       "2              2.2    5.165082  \n",
       "3              3.7    5.876440  \n",
       "4              1.7    6.409959  "
      ]
     },
     "execution_count": 24,
     "metadata": {},
     "output_type": "execute_result"
    }
   ],
   "source": [
    "df = pd.read_csv(\"01-1-child-heart-survival-x.csv\")\n",
    "df[\"Percentage\"] = 100 * df[\"Operations\"] / sum(df[\"Operations\"])\n",
    "df.head()"
   ]
  },
  {
   "cell_type": "markdown",
   "metadata": {},
   "source": [
    "### Bar chart"
   ]
  },
  {
   "cell_type": "code",
   "execution_count": 28,
   "metadata": {},
   "outputs": [
    {
     "data": {
      "text/html": [
       "\n",
       "<div id=\"altair-viz-d3cfd092c161456eb14404d24f2187b8\"></div>\n",
       "<script type=\"text/javascript\">\n",
       "  (function(spec, embedOpt){\n",
       "    let outputDiv = document.currentScript.previousElementSibling;\n",
       "    if (outputDiv.id !== \"altair-viz-d3cfd092c161456eb14404d24f2187b8\") {\n",
       "      outputDiv = document.getElementById(\"altair-viz-d3cfd092c161456eb14404d24f2187b8\");\n",
       "    }\n",
       "    const paths = {\n",
       "      \"vega\": \"https://cdn.jsdelivr.net/npm//vega@5?noext\",\n",
       "      \"vega-lib\": \"https://cdn.jsdelivr.net/npm//vega-lib?noext\",\n",
       "      \"vega-lite\": \"https://cdn.jsdelivr.net/npm//vega-lite@4.8.1?noext\",\n",
       "      \"vega-embed\": \"https://cdn.jsdelivr.net/npm//vega-embed@6?noext\",\n",
       "    };\n",
       "\n",
       "    function loadScript(lib) {\n",
       "      return new Promise(function(resolve, reject) {\n",
       "        var s = document.createElement('script');\n",
       "        s.src = paths[lib];\n",
       "        s.async = true;\n",
       "        s.onload = () => resolve(paths[lib]);\n",
       "        s.onerror = () => reject(`Error loading script: ${paths[lib]}`);\n",
       "        document.getElementsByTagName(\"head\")[0].appendChild(s);\n",
       "      });\n",
       "    }\n",
       "\n",
       "    function showError(err) {\n",
       "      outputDiv.innerHTML = `<div class=\"error\" style=\"color:red;\">${err}</div>`;\n",
       "      throw err;\n",
       "    }\n",
       "\n",
       "    function displayChart(vegaEmbed) {\n",
       "      vegaEmbed(outputDiv, spec, embedOpt)\n",
       "        .catch(err => showError(`Javascript Error: ${err.message}<br>This usually means there's a typo in your chart specification. See the javascript console for the full traceback.`));\n",
       "    }\n",
       "\n",
       "    if(typeof define === \"function\" && define.amd) {\n",
       "      requirejs.config({paths});\n",
       "      require([\"vega-embed\"], displayChart, err => showError(`Error loading script: ${err.message}`));\n",
       "    } else if (typeof vegaEmbed === \"function\") {\n",
       "      displayChart(vegaEmbed);\n",
       "    } else {\n",
       "      loadScript(\"vega\")\n",
       "        .then(() => loadScript(\"vega-lite\"))\n",
       "        .then(() => loadScript(\"vega-embed\"))\n",
       "        .catch(showError)\n",
       "        .then(() => displayChart(vegaEmbed));\n",
       "    }\n",
       "  })({\"config\": {\"view\": {\"continuousWidth\": 400, \"continuousHeight\": 300}}, \"data\": {\"name\": \"data-9209506772b2e231670bddac974e82e6\"}, \"mark\": \"bar\", \"encoding\": {\"color\": {\"type\": \"nominal\", \"field\": \"Hospital\", \"legend\": null}, \"x\": {\"type\": \"quantitative\", \"field\": \"Percentage\", \"title\": [\"Percentage of all operations in 2012-15\", \"that are carried out in each hospital\"]}, \"y\": {\"type\": \"nominal\", \"field\": \"Hospital\", \"sort\": null}}, \"$schema\": \"https://vega.github.io/schema/vega-lite/v4.8.1.json\", \"datasets\": {\"data-9209506772b2e231670bddac974e82e6\": [{\"Hospital\": \"London - Harley Street \", \"Operations\": 418, \"Survivors\": 413, \"Deaths\": 5, \"ThirtyDaySurvival\": 98.8, \"PercentageDying\": 1.2, \"Percentage\": 3.2320420629397666}, {\"Hospital\": \"Leicester\", \"Operations\": 607, \"Survivors\": 593, \"Deaths\": 14, \"ThirtyDaySurvival\": 97.7, \"PercentageDying\": 2.3, \"Percentage\": 4.693419933503441}, {\"Hospital\": \"Newcastle\", \"Operations\": 668, \"Survivors\": 653, \"Deaths\": 15, \"ThirtyDaySurvival\": 97.8, \"PercentageDying\": 2.2, \"Percentage\": 5.165081574267378}, {\"Hospital\": \"Glasgow\", \"Operations\": 760, \"Survivors\": 733, \"Deaths\": 27, \"ThirtyDaySurvival\": 96.3, \"PercentageDying\": 3.7, \"Percentage\": 5.8764401144359395}, {\"Hospital\": \"Southampton\", \"Operations\": 829, \"Survivors\": 815, \"Deaths\": 14, \"ThirtyDaySurvival\": 98.3, \"PercentageDying\": 1.7, \"Percentage\": 6.4099590195623595}, {\"Hospital\": \"Bristol\", \"Operations\": 835, \"Survivors\": 821, \"Deaths\": 14, \"ThirtyDaySurvival\": 98.3, \"PercentageDying\": 1.7, \"Percentage\": 6.456351967834222}, {\"Hospital\": \"Dublin\", \"Operations\": 983, \"Survivors\": 960, \"Deaths\": 23, \"ThirtyDaySurvival\": 97.7, \"PercentageDying\": 2.3, \"Percentage\": 7.600711358540169}, {\"Hospital\": \"Leeds\", \"Operations\": 1038, \"Survivors\": 1016, \"Deaths\": 22, \"ThirtyDaySurvival\": 97.9, \"PercentageDying\": 2.1, \"Percentage\": 8.025980051032244}, {\"Hospital\": \"London - Brompton\", \"Operations\": 1094, \"Survivors\": 1075, \"Deaths\": 19, \"ThirtyDaySurvival\": 98.3, \"PercentageDying\": 1.7, \"Percentage\": 8.458980901569628}, {\"Hospital\": \"Liverpool\", \"Operations\": 1132, \"Survivors\": 1112, \"Deaths\": 20, \"ThirtyDaySurvival\": 98.2, \"PercentageDying\": 1.8, \"Percentage\": 8.752802907291425}, {\"Hospital\": \"London - Evelina\", \"Operations\": 1220, \"Survivors\": 1185, \"Deaths\": 35, \"ThirtyDaySurvival\": 97.1, \"PercentageDying\": 2.9, \"Percentage\": 9.433232815278744}, {\"Hospital\": \"Birmingham\", \"Operations\": 1457, \"Survivors\": 1421, \"Deaths\": 36, \"ThirtyDaySurvival\": 97.5, \"PercentageDying\": 2.5, \"Percentage\": 11.26575427201732}, {\"Hospital\": \"London - Great Ormond Street\", \"Operations\": 1892, \"Survivors\": 1873, \"Deaths\": 19, \"ThirtyDaySurvival\": 99.0, \"PercentageDying\": 1.0, \"Percentage\": 14.629243021727364}]}}, {\"mode\": \"vega-lite\"});\n",
       "</script>"
      ],
      "text/plain": [
       "alt.Chart(...)"
      ]
     },
     "execution_count": 28,
     "metadata": {},
     "output_type": "execute_result"
    }
   ],
   "source": [
    "title = \"Percentage of all operations in 2012-15, that are carried out in each hospital\".split(\", \")\n",
    "alt.Chart(df).mark_bar().encode(\n",
    "    alt.X(\"Percentage\", \n",
    "          title=title,\n",
    "    ),\n",
    "    alt.Y(\"Hospital\", \n",
    "          sort=None\n",
    "         ),\n",
    "    color=alt.Color(\"Hospital\", legend=None)\n",
    " )"
   ]
  }
 ],
 "metadata": {
  "kernelspec": {
   "display_name": "art_of_statistics",
   "language": "python",
   "name": "art_of_statistics"
  },
  "language_info": {
   "codemirror_mode": {
    "name": "ipython",
    "version": 3
   },
   "file_extension": ".py",
   "mimetype": "text/x-python",
   "name": "python",
   "nbconvert_exporter": "python",
   "pygments_lexer": "ipython3",
   "version": "3.8.2"
  }
 },
 "nbformat": 4,
 "nbformat_minor": 2
}
