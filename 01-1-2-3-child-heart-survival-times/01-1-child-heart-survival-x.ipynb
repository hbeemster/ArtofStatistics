{
 "cells": [
  {
   "cell_type": "markdown",
   "metadata": {},
   "source": [
    "## Art of Statistics: 01-1-child-heart-survival-x"
   ]
  },
  {
   "cell_type": "code",
   "execution_count": 1,
   "metadata": {},
   "outputs": [],
   "source": [
    "import altair as alt\n",
    "import pandas as pd"
   ]
  },
  {
   "cell_type": "code",
   "execution_count": 2,
   "metadata": {},
   "outputs": [
    {
     "data": {
      "text/html": [
       "<div>\n",
       "<style scoped>\n",
       "    .dataframe tbody tr th:only-of-type {\n",
       "        vertical-align: middle;\n",
       "    }\n",
       "\n",
       "    .dataframe tbody tr th {\n",
       "        vertical-align: top;\n",
       "    }\n",
       "\n",
       "    .dataframe thead th {\n",
       "        text-align: right;\n",
       "    }\n",
       "</style>\n",
       "<table border=\"1\" class=\"dataframe\">\n",
       "  <thead>\n",
       "    <tr style=\"text-align: right;\">\n",
       "      <th></th>\n",
       "      <th>Hospital</th>\n",
       "      <th>Operations</th>\n",
       "      <th>Survivors</th>\n",
       "      <th>Deaths</th>\n",
       "      <th>ThirtyDaySurvival</th>\n",
       "      <th>PercentageDying</th>\n",
       "    </tr>\n",
       "  </thead>\n",
       "  <tbody>\n",
       "    <tr>\n",
       "      <th>0</th>\n",
       "      <td>London - Harley Street</td>\n",
       "      <td>418</td>\n",
       "      <td>413</td>\n",
       "      <td>5</td>\n",
       "      <td>98.8</td>\n",
       "      <td>1.2</td>\n",
       "    </tr>\n",
       "    <tr>\n",
       "      <th>1</th>\n",
       "      <td>Leicester</td>\n",
       "      <td>607</td>\n",
       "      <td>593</td>\n",
       "      <td>14</td>\n",
       "      <td>97.7</td>\n",
       "      <td>2.3</td>\n",
       "    </tr>\n",
       "    <tr>\n",
       "      <th>2</th>\n",
       "      <td>Newcastle</td>\n",
       "      <td>668</td>\n",
       "      <td>653</td>\n",
       "      <td>15</td>\n",
       "      <td>97.8</td>\n",
       "      <td>2.2</td>\n",
       "    </tr>\n",
       "    <tr>\n",
       "      <th>3</th>\n",
       "      <td>Glasgow</td>\n",
       "      <td>760</td>\n",
       "      <td>733</td>\n",
       "      <td>27</td>\n",
       "      <td>96.3</td>\n",
       "      <td>3.7</td>\n",
       "    </tr>\n",
       "    <tr>\n",
       "      <th>4</th>\n",
       "      <td>Southampton</td>\n",
       "      <td>829</td>\n",
       "      <td>815</td>\n",
       "      <td>14</td>\n",
       "      <td>98.3</td>\n",
       "      <td>1.7</td>\n",
       "    </tr>\n",
       "  </tbody>\n",
       "</table>\n",
       "</div>"
      ],
      "text/plain": [
       "                  Hospital  Operations  Survivors  Deaths  ThirtyDaySurvival  \\\n",
       "0  London - Harley Street          418        413       5               98.8   \n",
       "1                Leicester         607        593      14               97.7   \n",
       "2                Newcastle         668        653      15               97.8   \n",
       "3                  Glasgow         760        733      27               96.3   \n",
       "4              Southampton         829        815      14               98.3   \n",
       "\n",
       "   PercentageDying  \n",
       "0              1.2  \n",
       "1              2.3  \n",
       "2              2.2  \n",
       "3              3.7  \n",
       "4              1.7  "
      ]
     },
     "execution_count": 2,
     "metadata": {},
     "output_type": "execute_result"
    }
   ],
   "source": [
    "df = pd.read_csv(\"01-1-child-heart-survival-x.csv\") \n",
    "df.head()"
   ]
  },
  {
   "cell_type": "markdown",
   "metadata": {},
   "source": [
    "### Bar chart"
   ]
  },
  {
   "cell_type": "code",
   "execution_count": 7,
   "metadata": {},
   "outputs": [],
   "source": [
    "x_scale = 86, 100"
   ]
  },
  {
   "cell_type": "code",
   "execution_count": 11,
   "metadata": {},
   "outputs": [
    {
     "data": {
      "text/html": [
       "\n",
       "<div id=\"altair-viz-4253fa32a9bc406f8731eb4eb73d96cc\"></div>\n",
       "<script type=\"text/javascript\">\n",
       "  (function(spec, embedOpt){\n",
       "    let outputDiv = document.currentScript.previousElementSibling;\n",
       "    if (outputDiv.id !== \"altair-viz-4253fa32a9bc406f8731eb4eb73d96cc\") {\n",
       "      outputDiv = document.getElementById(\"altair-viz-4253fa32a9bc406f8731eb4eb73d96cc\");\n",
       "    }\n",
       "    const paths = {\n",
       "      \"vega\": \"https://cdn.jsdelivr.net/npm//vega@5?noext\",\n",
       "      \"vega-lib\": \"https://cdn.jsdelivr.net/npm//vega-lib?noext\",\n",
       "      \"vega-lite\": \"https://cdn.jsdelivr.net/npm//vega-lite@4.8.1?noext\",\n",
       "      \"vega-embed\": \"https://cdn.jsdelivr.net/npm//vega-embed@6?noext\",\n",
       "    };\n",
       "\n",
       "    function loadScript(lib) {\n",
       "      return new Promise(function(resolve, reject) {\n",
       "        var s = document.createElement('script');\n",
       "        s.src = paths[lib];\n",
       "        s.async = true;\n",
       "        s.onload = () => resolve(paths[lib]);\n",
       "        s.onerror = () => reject(`Error loading script: ${paths[lib]}`);\n",
       "        document.getElementsByTagName(\"head\")[0].appendChild(s);\n",
       "      });\n",
       "    }\n",
       "\n",
       "    function showError(err) {\n",
       "      outputDiv.innerHTML = `<div class=\"error\" style=\"color:red;\">${err}</div>`;\n",
       "      throw err;\n",
       "    }\n",
       "\n",
       "    function displayChart(vegaEmbed) {\n",
       "      vegaEmbed(outputDiv, spec, embedOpt)\n",
       "        .catch(err => showError(`Javascript Error: ${err.message}<br>This usually means there's a typo in your chart specification. See the javascript console for the full traceback.`));\n",
       "    }\n",
       "\n",
       "    if(typeof define === \"function\" && define.amd) {\n",
       "      requirejs.config({paths});\n",
       "      require([\"vega-embed\"], displayChart, err => showError(`Error loading script: ${err.message}`));\n",
       "    } else if (typeof vegaEmbed === \"function\") {\n",
       "      displayChart(vegaEmbed);\n",
       "    } else {\n",
       "      loadScript(\"vega\")\n",
       "        .then(() => loadScript(\"vega-lite\"))\n",
       "        .then(() => loadScript(\"vega-embed\"))\n",
       "        .catch(showError)\n",
       "        .then(() => displayChart(vegaEmbed));\n",
       "    }\n",
       "  })({\"config\": {\"view\": {\"continuousWidth\": 400, \"continuousHeight\": 300}}, \"data\": {\"name\": \"data-c71cce5cf403178ad3194fb61157fac8\"}, \"mark\": \"bar\", \"encoding\": {\"color\": {\"type\": \"nominal\", \"field\": \"Hospital\", \"legend\": null}, \"x\": {\"type\": \"quantitative\", \"field\": \"ThirtyDaySurvival\", \"scale\": {\"domain\": [86, 100]}}, \"y\": {\"type\": \"nominal\", \"field\": \"Hospital\", \"sort\": null}}, \"$schema\": \"https://vega.github.io/schema/vega-lite/v4.8.1.json\", \"datasets\": {\"data-c71cce5cf403178ad3194fb61157fac8\": [{\"Hospital\": \"London - Harley Street \", \"Operations\": 418, \"Survivors\": 413, \"Deaths\": 5, \"ThirtyDaySurvival\": 98.8, \"PercentageDying\": 1.2}, {\"Hospital\": \"Leicester\", \"Operations\": 607, \"Survivors\": 593, \"Deaths\": 14, \"ThirtyDaySurvival\": 97.7, \"PercentageDying\": 2.3}, {\"Hospital\": \"Newcastle\", \"Operations\": 668, \"Survivors\": 653, \"Deaths\": 15, \"ThirtyDaySurvival\": 97.8, \"PercentageDying\": 2.2}, {\"Hospital\": \"Glasgow\", \"Operations\": 760, \"Survivors\": 733, \"Deaths\": 27, \"ThirtyDaySurvival\": 96.3, \"PercentageDying\": 3.7}, {\"Hospital\": \"Southampton\", \"Operations\": 829, \"Survivors\": 815, \"Deaths\": 14, \"ThirtyDaySurvival\": 98.3, \"PercentageDying\": 1.7}, {\"Hospital\": \"Bristol\", \"Operations\": 835, \"Survivors\": 821, \"Deaths\": 14, \"ThirtyDaySurvival\": 98.3, \"PercentageDying\": 1.7}, {\"Hospital\": \"Dublin\", \"Operations\": 983, \"Survivors\": 960, \"Deaths\": 23, \"ThirtyDaySurvival\": 97.7, \"PercentageDying\": 2.3}, {\"Hospital\": \"Leeds\", \"Operations\": 1038, \"Survivors\": 1016, \"Deaths\": 22, \"ThirtyDaySurvival\": 97.9, \"PercentageDying\": 2.1}, {\"Hospital\": \"London - Brompton\", \"Operations\": 1094, \"Survivors\": 1075, \"Deaths\": 19, \"ThirtyDaySurvival\": 98.3, \"PercentageDying\": 1.7}, {\"Hospital\": \"Liverpool\", \"Operations\": 1132, \"Survivors\": 1112, \"Deaths\": 20, \"ThirtyDaySurvival\": 98.2, \"PercentageDying\": 1.8}, {\"Hospital\": \"London - Evelina\", \"Operations\": 1220, \"Survivors\": 1185, \"Deaths\": 35, \"ThirtyDaySurvival\": 97.1, \"PercentageDying\": 2.9}, {\"Hospital\": \"Birmingham\", \"Operations\": 1457, \"Survivors\": 1421, \"Deaths\": 36, \"ThirtyDaySurvival\": 97.5, \"PercentageDying\": 2.5}, {\"Hospital\": \"London - Great Ormond Street\", \"Operations\": 1892, \"Survivors\": 1873, \"Deaths\": 19, \"ThirtyDaySurvival\": 99.0, \"PercentageDying\": 1.0}]}}, {\"mode\": \"vega-lite\"});\n",
       "</script>"
      ],
      "text/plain": [
       "alt.Chart(...)"
      ]
     },
     "execution_count": 11,
     "metadata": {},
     "output_type": "execute_result"
    }
   ],
   "source": [
    "alt.Chart(df).mark_bar().encode(\n",
    "    alt.X(\"ThirtyDaySurvival\",\n",
    "         scale=alt.Scale(domain=(x_scale)),\n",
    "    ),\n",
    "    alt.Y(\"Hospital\", sort=None),\n",
    "    color=alt.Color(\"Hospital\", legend=None)\n",
    "    \n",
    ")"
   ]
  },
  {
   "cell_type": "markdown",
   "metadata": {},
   "source": [
    "### Dot chart"
   ]
  },
  {
   "cell_type": "code",
   "execution_count": 42,
   "metadata": {},
   "outputs": [
    {
     "data": {
      "text/html": [
       "\n",
       "<div id=\"altair-viz-4c6bc7be473b45d387c22d5f71982632\"></div>\n",
       "<script type=\"text/javascript\">\n",
       "  (function(spec, embedOpt){\n",
       "    let outputDiv = document.currentScript.previousElementSibling;\n",
       "    if (outputDiv.id !== \"altair-viz-4c6bc7be473b45d387c22d5f71982632\") {\n",
       "      outputDiv = document.getElementById(\"altair-viz-4c6bc7be473b45d387c22d5f71982632\");\n",
       "    }\n",
       "    const paths = {\n",
       "      \"vega\": \"https://cdn.jsdelivr.net/npm//vega@5?noext\",\n",
       "      \"vega-lib\": \"https://cdn.jsdelivr.net/npm//vega-lib?noext\",\n",
       "      \"vega-lite\": \"https://cdn.jsdelivr.net/npm//vega-lite@4.8.1?noext\",\n",
       "      \"vega-embed\": \"https://cdn.jsdelivr.net/npm//vega-embed@6?noext\",\n",
       "    };\n",
       "\n",
       "    function loadScript(lib) {\n",
       "      return new Promise(function(resolve, reject) {\n",
       "        var s = document.createElement('script');\n",
       "        s.src = paths[lib];\n",
       "        s.async = true;\n",
       "        s.onload = () => resolve(paths[lib]);\n",
       "        s.onerror = () => reject(`Error loading script: ${paths[lib]}`);\n",
       "        document.getElementsByTagName(\"head\")[0].appendChild(s);\n",
       "      });\n",
       "    }\n",
       "\n",
       "    function showError(err) {\n",
       "      outputDiv.innerHTML = `<div class=\"error\" style=\"color:red;\">${err}</div>`;\n",
       "      throw err;\n",
       "    }\n",
       "\n",
       "    function displayChart(vegaEmbed) {\n",
       "      vegaEmbed(outputDiv, spec, embedOpt)\n",
       "        .catch(err => showError(`Javascript Error: ${err.message}<br>This usually means there's a typo in your chart specification. See the javascript console for the full traceback.`));\n",
       "    }\n",
       "\n",
       "    if(typeof define === \"function\" && define.amd) {\n",
       "      requirejs.config({paths});\n",
       "      require([\"vega-embed\"], displayChart, err => showError(`Error loading script: ${err.message}`));\n",
       "    } else if (typeof vegaEmbed === \"function\") {\n",
       "      displayChart(vegaEmbed);\n",
       "    } else {\n",
       "      loadScript(\"vega\")\n",
       "        .then(() => loadScript(\"vega-lite\"))\n",
       "        .then(() => loadScript(\"vega-embed\"))\n",
       "        .catch(showError)\n",
       "        .then(() => displayChart(vegaEmbed));\n",
       "    }\n",
       "  })({\"config\": {\"view\": {\"continuousWidth\": 400, \"continuousHeight\": 300}}, \"data\": {\"name\": \"data-c71cce5cf403178ad3194fb61157fac8\"}, \"mark\": {\"type\": \"circle\", \"size\": 40}, \"encoding\": {\"color\": {\"type\": \"nominal\", \"field\": \"Hospital\", \"legend\": null}, \"x\": {\"type\": \"quantitative\", \"field\": \"ThirtyDaySurvival\", \"scale\": {\"domain\": [86, 100]}}, \"y\": {\"type\": \"nominal\", \"field\": \"Hospital\", \"sort\": null}}, \"$schema\": \"https://vega.github.io/schema/vega-lite/v4.8.1.json\", \"datasets\": {\"data-c71cce5cf403178ad3194fb61157fac8\": [{\"Hospital\": \"London - Harley Street \", \"Operations\": 418, \"Survivors\": 413, \"Deaths\": 5, \"ThirtyDaySurvival\": 98.8, \"PercentageDying\": 1.2}, {\"Hospital\": \"Leicester\", \"Operations\": 607, \"Survivors\": 593, \"Deaths\": 14, \"ThirtyDaySurvival\": 97.7, \"PercentageDying\": 2.3}, {\"Hospital\": \"Newcastle\", \"Operations\": 668, \"Survivors\": 653, \"Deaths\": 15, \"ThirtyDaySurvival\": 97.8, \"PercentageDying\": 2.2}, {\"Hospital\": \"Glasgow\", \"Operations\": 760, \"Survivors\": 733, \"Deaths\": 27, \"ThirtyDaySurvival\": 96.3, \"PercentageDying\": 3.7}, {\"Hospital\": \"Southampton\", \"Operations\": 829, \"Survivors\": 815, \"Deaths\": 14, \"ThirtyDaySurvival\": 98.3, \"PercentageDying\": 1.7}, {\"Hospital\": \"Bristol\", \"Operations\": 835, \"Survivors\": 821, \"Deaths\": 14, \"ThirtyDaySurvival\": 98.3, \"PercentageDying\": 1.7}, {\"Hospital\": \"Dublin\", \"Operations\": 983, \"Survivors\": 960, \"Deaths\": 23, \"ThirtyDaySurvival\": 97.7, \"PercentageDying\": 2.3}, {\"Hospital\": \"Leeds\", \"Operations\": 1038, \"Survivors\": 1016, \"Deaths\": 22, \"ThirtyDaySurvival\": 97.9, \"PercentageDying\": 2.1}, {\"Hospital\": \"London - Brompton\", \"Operations\": 1094, \"Survivors\": 1075, \"Deaths\": 19, \"ThirtyDaySurvival\": 98.3, \"PercentageDying\": 1.7}, {\"Hospital\": \"Liverpool\", \"Operations\": 1132, \"Survivors\": 1112, \"Deaths\": 20, \"ThirtyDaySurvival\": 98.2, \"PercentageDying\": 1.8}, {\"Hospital\": \"London - Evelina\", \"Operations\": 1220, \"Survivors\": 1185, \"Deaths\": 35, \"ThirtyDaySurvival\": 97.1, \"PercentageDying\": 2.9}, {\"Hospital\": \"Birmingham\", \"Operations\": 1457, \"Survivors\": 1421, \"Deaths\": 36, \"ThirtyDaySurvival\": 97.5, \"PercentageDying\": 2.5}, {\"Hospital\": \"London - Great Ormond Street\", \"Operations\": 1892, \"Survivors\": 1873, \"Deaths\": 19, \"ThirtyDaySurvival\": 99.0, \"PercentageDying\": 1.0}]}}, {\"mode\": \"vega-lite\"});\n",
       "</script>"
      ],
      "text/plain": [
       "alt.Chart(...)"
      ]
     },
     "execution_count": 42,
     "metadata": {},
     "output_type": "execute_result"
    }
   ],
   "source": [
    "dot_chart = alt.Chart(df).mark_circle(size=40).encode(\n",
    "    alt.X(\"ThirtyDaySurvival\",\n",
    "         scale=alt.Scale(domain=(x_scale)),\n",
    "    ),\n",
    "    alt.Y(\"Hospital\", sort=None),\n",
    "    color=alt.Color(\"Hospital\", legend=None)\n",
    "    \n",
    ")\n",
    "dot_chart"
   ]
  },
  {
   "cell_type": "markdown",
   "metadata": {},
   "source": [
    "### enhance chart with median"
   ]
  },
  {
   "cell_type": "code",
   "execution_count": 47,
   "metadata": {},
   "outputs": [
    {
     "data": {
      "text/html": [
       "\n",
       "<div id=\"altair-viz-6c676483b0c241a8b432092f22c27ae9\"></div>\n",
       "<script type=\"text/javascript\">\n",
       "  (function(spec, embedOpt){\n",
       "    let outputDiv = document.currentScript.previousElementSibling;\n",
       "    if (outputDiv.id !== \"altair-viz-6c676483b0c241a8b432092f22c27ae9\") {\n",
       "      outputDiv = document.getElementById(\"altair-viz-6c676483b0c241a8b432092f22c27ae9\");\n",
       "    }\n",
       "    const paths = {\n",
       "      \"vega\": \"https://cdn.jsdelivr.net/npm//vega@5?noext\",\n",
       "      \"vega-lib\": \"https://cdn.jsdelivr.net/npm//vega-lib?noext\",\n",
       "      \"vega-lite\": \"https://cdn.jsdelivr.net/npm//vega-lite@4.8.1?noext\",\n",
       "      \"vega-embed\": \"https://cdn.jsdelivr.net/npm//vega-embed@6?noext\",\n",
       "    };\n",
       "\n",
       "    function loadScript(lib) {\n",
       "      return new Promise(function(resolve, reject) {\n",
       "        var s = document.createElement('script');\n",
       "        s.src = paths[lib];\n",
       "        s.async = true;\n",
       "        s.onload = () => resolve(paths[lib]);\n",
       "        s.onerror = () => reject(`Error loading script: ${paths[lib]}`);\n",
       "        document.getElementsByTagName(\"head\")[0].appendChild(s);\n",
       "      });\n",
       "    }\n",
       "\n",
       "    function showError(err) {\n",
       "      outputDiv.innerHTML = `<div class=\"error\" style=\"color:red;\">${err}</div>`;\n",
       "      throw err;\n",
       "    }\n",
       "\n",
       "    function displayChart(vegaEmbed) {\n",
       "      vegaEmbed(outputDiv, spec, embedOpt)\n",
       "        .catch(err => showError(`Javascript Error: ${err.message}<br>This usually means there's a typo in your chart specification. See the javascript console for the full traceback.`));\n",
       "    }\n",
       "\n",
       "    if(typeof define === \"function\" && define.amd) {\n",
       "      requirejs.config({paths});\n",
       "      require([\"vega-embed\"], displayChart, err => showError(`Error loading script: ${err.message}`));\n",
       "    } else if (typeof vegaEmbed === \"function\") {\n",
       "      displayChart(vegaEmbed);\n",
       "    } else {\n",
       "      loadScript(\"vega\")\n",
       "        .then(() => loadScript(\"vega-lite\"))\n",
       "        .then(() => loadScript(\"vega-embed\"))\n",
       "        .catch(showError)\n",
       "        .then(() => displayChart(vegaEmbed));\n",
       "    }\n",
       "  })({\"config\": {\"view\": {\"continuousWidth\": 400, \"continuousHeight\": 300}}, \"data\": {\"name\": \"data-c71cce5cf403178ad3194fb61157fac8\"}, \"mark\": {\"type\": \"rule\", \"color\": \"green\"}, \"encoding\": {\"x\": {\"type\": \"quantitative\", \"aggregate\": \"median\", \"field\": \"ThirtyDaySurvival\"}}, \"$schema\": \"https://vega.github.io/schema/vega-lite/v4.8.1.json\", \"datasets\": {\"data-c71cce5cf403178ad3194fb61157fac8\": [{\"Hospital\": \"London - Harley Street \", \"Operations\": 418, \"Survivors\": 413, \"Deaths\": 5, \"ThirtyDaySurvival\": 98.8, \"PercentageDying\": 1.2}, {\"Hospital\": \"Leicester\", \"Operations\": 607, \"Survivors\": 593, \"Deaths\": 14, \"ThirtyDaySurvival\": 97.7, \"PercentageDying\": 2.3}, {\"Hospital\": \"Newcastle\", \"Operations\": 668, \"Survivors\": 653, \"Deaths\": 15, \"ThirtyDaySurvival\": 97.8, \"PercentageDying\": 2.2}, {\"Hospital\": \"Glasgow\", \"Operations\": 760, \"Survivors\": 733, \"Deaths\": 27, \"ThirtyDaySurvival\": 96.3, \"PercentageDying\": 3.7}, {\"Hospital\": \"Southampton\", \"Operations\": 829, \"Survivors\": 815, \"Deaths\": 14, \"ThirtyDaySurvival\": 98.3, \"PercentageDying\": 1.7}, {\"Hospital\": \"Bristol\", \"Operations\": 835, \"Survivors\": 821, \"Deaths\": 14, \"ThirtyDaySurvival\": 98.3, \"PercentageDying\": 1.7}, {\"Hospital\": \"Dublin\", \"Operations\": 983, \"Survivors\": 960, \"Deaths\": 23, \"ThirtyDaySurvival\": 97.7, \"PercentageDying\": 2.3}, {\"Hospital\": \"Leeds\", \"Operations\": 1038, \"Survivors\": 1016, \"Deaths\": 22, \"ThirtyDaySurvival\": 97.9, \"PercentageDying\": 2.1}, {\"Hospital\": \"London - Brompton\", \"Operations\": 1094, \"Survivors\": 1075, \"Deaths\": 19, \"ThirtyDaySurvival\": 98.3, \"PercentageDying\": 1.7}, {\"Hospital\": \"Liverpool\", \"Operations\": 1132, \"Survivors\": 1112, \"Deaths\": 20, \"ThirtyDaySurvival\": 98.2, \"PercentageDying\": 1.8}, {\"Hospital\": \"London - Evelina\", \"Operations\": 1220, \"Survivors\": 1185, \"Deaths\": 35, \"ThirtyDaySurvival\": 97.1, \"PercentageDying\": 2.9}, {\"Hospital\": \"Birmingham\", \"Operations\": 1457, \"Survivors\": 1421, \"Deaths\": 36, \"ThirtyDaySurvival\": 97.5, \"PercentageDying\": 2.5}, {\"Hospital\": \"London - Great Ormond Street\", \"Operations\": 1892, \"Survivors\": 1873, \"Deaths\": 19, \"ThirtyDaySurvival\": 99.0, \"PercentageDying\": 1.0}]}}, {\"mode\": \"vega-lite\"});\n",
       "</script>"
      ],
      "text/plain": [
       "alt.Chart(...)"
      ]
     },
     "execution_count": 47,
     "metadata": {},
     "output_type": "execute_result"
    }
   ],
   "source": [
    "median_rule = alt.Chart(df).mark_rule(color='green').encode(\n",
    "    alt.X('median(ThirtyDaySurvival):Q')\n",
    ")\n",
    "median_rule"
   ]
  },
  {
   "cell_type": "code",
   "execution_count": 54,
   "metadata": {},
   "outputs": [
    {
     "data": {
      "text/html": [
       "\n",
       "<div id=\"altair-viz-7e3adf02a0454626b3cadd6d3dd2bbed\"></div>\n",
       "<script type=\"text/javascript\">\n",
       "  (function(spec, embedOpt){\n",
       "    let outputDiv = document.currentScript.previousElementSibling;\n",
       "    if (outputDiv.id !== \"altair-viz-7e3adf02a0454626b3cadd6d3dd2bbed\") {\n",
       "      outputDiv = document.getElementById(\"altair-viz-7e3adf02a0454626b3cadd6d3dd2bbed\");\n",
       "    }\n",
       "    const paths = {\n",
       "      \"vega\": \"https://cdn.jsdelivr.net/npm//vega@5?noext\",\n",
       "      \"vega-lib\": \"https://cdn.jsdelivr.net/npm//vega-lib?noext\",\n",
       "      \"vega-lite\": \"https://cdn.jsdelivr.net/npm//vega-lite@4.8.1?noext\",\n",
       "      \"vega-embed\": \"https://cdn.jsdelivr.net/npm//vega-embed@6?noext\",\n",
       "    };\n",
       "\n",
       "    function loadScript(lib) {\n",
       "      return new Promise(function(resolve, reject) {\n",
       "        var s = document.createElement('script');\n",
       "        s.src = paths[lib];\n",
       "        s.async = true;\n",
       "        s.onload = () => resolve(paths[lib]);\n",
       "        s.onerror = () => reject(`Error loading script: ${paths[lib]}`);\n",
       "        document.getElementsByTagName(\"head\")[0].appendChild(s);\n",
       "      });\n",
       "    }\n",
       "\n",
       "    function showError(err) {\n",
       "      outputDiv.innerHTML = `<div class=\"error\" style=\"color:red;\">${err}</div>`;\n",
       "      throw err;\n",
       "    }\n",
       "\n",
       "    function displayChart(vegaEmbed) {\n",
       "      vegaEmbed(outputDiv, spec, embedOpt)\n",
       "        .catch(err => showError(`Javascript Error: ${err.message}<br>This usually means there's a typo in your chart specification. See the javascript console for the full traceback.`));\n",
       "    }\n",
       "\n",
       "    if(typeof define === \"function\" && define.amd) {\n",
       "      requirejs.config({paths});\n",
       "      require([\"vega-embed\"], displayChart, err => showError(`Error loading script: ${err.message}`));\n",
       "    } else if (typeof vegaEmbed === \"function\") {\n",
       "      displayChart(vegaEmbed);\n",
       "    } else {\n",
       "      loadScript(\"vega\")\n",
       "        .then(() => loadScript(\"vega-lite\"))\n",
       "        .then(() => loadScript(\"vega-embed\"))\n",
       "        .catch(showError)\n",
       "        .then(() => displayChart(vegaEmbed));\n",
       "    }\n",
       "  })({\"config\": {\"view\": {\"continuousWidth\": 400, \"continuousHeight\": 300}}, \"layer\": [{\"mark\": {\"type\": \"circle\", \"size\": 40}, \"encoding\": {\"color\": {\"type\": \"nominal\", \"field\": \"Hospital\", \"legend\": null}, \"x\": {\"type\": \"quantitative\", \"field\": \"ThirtyDaySurvival\", \"scale\": {\"domain\": [86, 100]}}, \"y\": {\"type\": \"nominal\", \"field\": \"Hospital\", \"sort\": null}}, \"selection\": {\"selector006\": {\"type\": \"interval\", \"bind\": \"scales\", \"encodings\": [\"x\", \"y\"]}}}, {\"mark\": {\"type\": \"rule\", \"color\": \"green\"}, \"encoding\": {\"x\": {\"type\": \"quantitative\", \"aggregate\": \"median\", \"field\": \"ThirtyDaySurvival\"}}}], \"data\": {\"name\": \"data-c71cce5cf403178ad3194fb61157fac8\"}, \"$schema\": \"https://vega.github.io/schema/vega-lite/v4.8.1.json\", \"datasets\": {\"data-c71cce5cf403178ad3194fb61157fac8\": [{\"Hospital\": \"London - Harley Street \", \"Operations\": 418, \"Survivors\": 413, \"Deaths\": 5, \"ThirtyDaySurvival\": 98.8, \"PercentageDying\": 1.2}, {\"Hospital\": \"Leicester\", \"Operations\": 607, \"Survivors\": 593, \"Deaths\": 14, \"ThirtyDaySurvival\": 97.7, \"PercentageDying\": 2.3}, {\"Hospital\": \"Newcastle\", \"Operations\": 668, \"Survivors\": 653, \"Deaths\": 15, \"ThirtyDaySurvival\": 97.8, \"PercentageDying\": 2.2}, {\"Hospital\": \"Glasgow\", \"Operations\": 760, \"Survivors\": 733, \"Deaths\": 27, \"ThirtyDaySurvival\": 96.3, \"PercentageDying\": 3.7}, {\"Hospital\": \"Southampton\", \"Operations\": 829, \"Survivors\": 815, \"Deaths\": 14, \"ThirtyDaySurvival\": 98.3, \"PercentageDying\": 1.7}, {\"Hospital\": \"Bristol\", \"Operations\": 835, \"Survivors\": 821, \"Deaths\": 14, \"ThirtyDaySurvival\": 98.3, \"PercentageDying\": 1.7}, {\"Hospital\": \"Dublin\", \"Operations\": 983, \"Survivors\": 960, \"Deaths\": 23, \"ThirtyDaySurvival\": 97.7, \"PercentageDying\": 2.3}, {\"Hospital\": \"Leeds\", \"Operations\": 1038, \"Survivors\": 1016, \"Deaths\": 22, \"ThirtyDaySurvival\": 97.9, \"PercentageDying\": 2.1}, {\"Hospital\": \"London - Brompton\", \"Operations\": 1094, \"Survivors\": 1075, \"Deaths\": 19, \"ThirtyDaySurvival\": 98.3, \"PercentageDying\": 1.7}, {\"Hospital\": \"Liverpool\", \"Operations\": 1132, \"Survivors\": 1112, \"Deaths\": 20, \"ThirtyDaySurvival\": 98.2, \"PercentageDying\": 1.8}, {\"Hospital\": \"London - Evelina\", \"Operations\": 1220, \"Survivors\": 1185, \"Deaths\": 35, \"ThirtyDaySurvival\": 97.1, \"PercentageDying\": 2.9}, {\"Hospital\": \"Birmingham\", \"Operations\": 1457, \"Survivors\": 1421, \"Deaths\": 36, \"ThirtyDaySurvival\": 97.5, \"PercentageDying\": 2.5}, {\"Hospital\": \"London - Great Ormond Street\", \"Operations\": 1892, \"Survivors\": 1873, \"Deaths\": 19, \"ThirtyDaySurvival\": 99.0, \"PercentageDying\": 1.0}]}}, {\"mode\": \"vega-lite\"});\n",
       "</script>"
      ],
      "text/plain": [
       "alt.LayerChart(...)"
      ]
     },
     "execution_count": 54,
     "metadata": {},
     "output_type": "execute_result"
    }
   ],
   "source": [
    "chart = (dot_chart + median_rule)\n",
    "\n",
    "chart.interactive()"
   ]
  },
  {
   "cell_type": "code",
   "execution_count": 53,
   "metadata": {},
   "outputs": [
    {
     "data": {
      "text/plain": [
       "Undefined"
      ]
     },
     "execution_count": 53,
     "metadata": {},
     "output_type": "execute_result"
    }
   ],
   "source": []
  },
  {
   "cell_type": "code",
   "execution_count": null,
   "metadata": {},
   "outputs": [],
   "source": []
  }
 ],
 "metadata": {
  "kernelspec": {
   "display_name": "art_of_statistics",
   "language": "python",
   "name": "art_of_statistics"
  },
  "language_info": {
   "codemirror_mode": {
    "name": "ipython",
    "version": 3
   },
   "file_extension": ".py",
   "mimetype": "text/x-python",
   "name": "python",
   "nbconvert_exporter": "python",
   "pygments_lexer": "ipython3",
   "version": "3.8.2"
  }
 },
 "nbformat": 4,
 "nbformat_minor": 2
}
