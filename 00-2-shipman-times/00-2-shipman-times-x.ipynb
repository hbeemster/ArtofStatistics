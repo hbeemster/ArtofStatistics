{
 "cells": [
  {
   "cell_type": "markdown",
   "metadata": {},
   "source": [
    "## Art of Statistics: 00-2-shipman-times-x\n",
    "\n",
    "### Altair prefers long-form (a.k.a. tidy-form) over wide-form\n",
    "#### see: https://altair-viz.github.io/user_guide/data.html#long-form-vs-wide-form-data"
   ]
  },
  {
   "cell_type": "code",
   "execution_count": 1,
   "metadata": {},
   "outputs": [],
   "source": [
    "import altair as alt\n",
    "import pandas as pd"
   ]
  },
  {
   "cell_type": "code",
   "execution_count": 2,
   "metadata": {},
   "outputs": [
    {
     "data": {
      "text/html": [
       "<div>\n",
       "<style scoped>\n",
       "    .dataframe tbody tr th:only-of-type {\n",
       "        vertical-align: middle;\n",
       "    }\n",
       "\n",
       "    .dataframe tbody tr th {\n",
       "        vertical-align: top;\n",
       "    }\n",
       "\n",
       "    .dataframe thead th {\n",
       "        text-align: right;\n",
       "    }\n",
       "</style>\n",
       "<table border=\"1\" class=\"dataframe\">\n",
       "  <thead>\n",
       "    <tr style=\"text-align: right;\">\n",
       "      <th></th>\n",
       "      <th>Hour</th>\n",
       "      <th>Shipman</th>\n",
       "      <th>Comparison</th>\n",
       "    </tr>\n",
       "  </thead>\n",
       "  <tbody>\n",
       "    <tr>\n",
       "      <th>0</th>\n",
       "      <td>0</td>\n",
       "      <td>2.6</td>\n",
       "      <td>1.1</td>\n",
       "    </tr>\n",
       "    <tr>\n",
       "      <th>1</th>\n",
       "      <td>1</td>\n",
       "      <td>1.0</td>\n",
       "      <td>3.0</td>\n",
       "    </tr>\n",
       "    <tr>\n",
       "      <th>2</th>\n",
       "      <td>2</td>\n",
       "      <td>2.6</td>\n",
       "      <td>3.1</td>\n",
       "    </tr>\n",
       "    <tr>\n",
       "      <th>3</th>\n",
       "      <td>3</td>\n",
       "      <td>3.0</td>\n",
       "      <td>3.8</td>\n",
       "    </tr>\n",
       "    <tr>\n",
       "      <th>4</th>\n",
       "      <td>4</td>\n",
       "      <td>0.3</td>\n",
       "      <td>4.0</td>\n",
       "    </tr>\n",
       "  </tbody>\n",
       "</table>\n",
       "</div>"
      ],
      "text/plain": [
       "   Hour  Shipman  Comparison\n",
       "0     0      2.6         1.1\n",
       "1     1      1.0         3.0\n",
       "2     2      2.6         3.1\n",
       "3     3      3.0         3.8\n",
       "4     4      0.3         4.0"
      ]
     },
     "execution_count": 2,
     "metadata": {},
     "output_type": "execute_result"
    }
   ],
   "source": [
    "df = pd.read_csv(\"00-2-shipman-times-x.csv\") \n",
    "df.head()"
   ]
  },
  {
   "cell_type": "markdown",
   "metadata": {},
   "source": [
    "### Pure Altair implementation transform_fold()"
   ]
  },
  {
   "cell_type": "code",
   "execution_count": 3,
   "metadata": {},
   "outputs": [],
   "source": [
    "variable_domain = [\"Shipman\", \"Comparison\"]\n",
    "variable_range = ['blue', 'red']"
   ]
  },
  {
   "cell_type": "code",
   "execution_count": 4,
   "metadata": {},
   "outputs": [
    {
     "data": {
      "text/html": [
       "\n",
       "<div id=\"altair-viz-0ef1519e5419415eb2e2bcc67d496fd4\"></div>\n",
       "<script type=\"text/javascript\">\n",
       "  (function(spec, embedOpt){\n",
       "    let outputDiv = document.currentScript.previousElementSibling;\n",
       "    if (outputDiv.id !== \"altair-viz-0ef1519e5419415eb2e2bcc67d496fd4\") {\n",
       "      outputDiv = document.getElementById(\"altair-viz-0ef1519e5419415eb2e2bcc67d496fd4\");\n",
       "    }\n",
       "    const paths = {\n",
       "      \"vega\": \"https://cdn.jsdelivr.net/npm//vega@5?noext\",\n",
       "      \"vega-lib\": \"https://cdn.jsdelivr.net/npm//vega-lib?noext\",\n",
       "      \"vega-lite\": \"https://cdn.jsdelivr.net/npm//vega-lite@4.8.1?noext\",\n",
       "      \"vega-embed\": \"https://cdn.jsdelivr.net/npm//vega-embed@6?noext\",\n",
       "    };\n",
       "\n",
       "    function loadScript(lib) {\n",
       "      return new Promise(function(resolve, reject) {\n",
       "        var s = document.createElement('script');\n",
       "        s.src = paths[lib];\n",
       "        s.async = true;\n",
       "        s.onload = () => resolve(paths[lib]);\n",
       "        s.onerror = () => reject(`Error loading script: ${paths[lib]}`);\n",
       "        document.getElementsByTagName(\"head\")[0].appendChild(s);\n",
       "      });\n",
       "    }\n",
       "\n",
       "    function showError(err) {\n",
       "      outputDiv.innerHTML = `<div class=\"error\" style=\"color:red;\">${err}</div>`;\n",
       "      throw err;\n",
       "    }\n",
       "\n",
       "    function displayChart(vegaEmbed) {\n",
       "      vegaEmbed(outputDiv, spec, embedOpt)\n",
       "        .catch(err => showError(`Javascript Error: ${err.message}<br>This usually means there's a typo in your chart specification. See the javascript console for the full traceback.`));\n",
       "    }\n",
       "\n",
       "    if(typeof define === \"function\" && define.amd) {\n",
       "      requirejs.config({paths});\n",
       "      require([\"vega-embed\"], displayChart, err => showError(`Error loading script: ${err.message}`));\n",
       "    } else if (typeof vegaEmbed === \"function\") {\n",
       "      displayChart(vegaEmbed);\n",
       "    } else {\n",
       "      loadScript(\"vega\")\n",
       "        .then(() => loadScript(\"vega-lite\"))\n",
       "        .then(() => loadScript(\"vega-embed\"))\n",
       "        .catch(showError)\n",
       "        .then(() => displayChart(vegaEmbed));\n",
       "    }\n",
       "  })({\"config\": {\"view\": {\"continuousWidth\": 400, \"continuousHeight\": 300}}, \"data\": {\"name\": \"data-59639788f0ad2798eda333b837428766\"}, \"mark\": \"line\", \"encoding\": {\"color\": {\"type\": \"nominal\", \"field\": \"entity\", \"scale\": {\"domain\": [\"Shipman\", \"Comparison\"], \"range\": [\"blue\", \"red\"]}, \"title\": null}, \"x\": {\"type\": \"quantitative\", \"field\": \"Hour\", \"title\": \"Hour of Day\"}, \"y\": {\"type\": \"quantitative\", \"field\": \"percentage\", \"title\": \"% of Deaths\"}}, \"transform\": [{\"fold\": [\"Shipman\", \"Comparison\"], \"as\": [\"entity\", \"percentage\"]}], \"$schema\": \"https://vega.github.io/schema/vega-lite/v4.8.1.json\", \"datasets\": {\"data-59639788f0ad2798eda333b837428766\": [{\"Hour\": 0, \"Shipman\": 2.6, \"Comparison\": 1.1}, {\"Hour\": 1, \"Shipman\": 1.0, \"Comparison\": 3.0}, {\"Hour\": 2, \"Shipman\": 2.6, \"Comparison\": 3.1}, {\"Hour\": 3, \"Shipman\": 3.0, \"Comparison\": 3.8}, {\"Hour\": 4, \"Shipman\": 0.3, \"Comparison\": 4.0}, {\"Hour\": 5, \"Shipman\": 1.2, \"Comparison\": 4.3}, {\"Hour\": 6, \"Shipman\": 2.9, \"Comparison\": 4.2}, {\"Hour\": 7, \"Shipman\": 1.8, \"Comparison\": 4.1}, {\"Hour\": 8, \"Shipman\": 3.6, \"Comparison\": 3.4}, {\"Hour\": 9, \"Shipman\": 2.6, \"Comparison\": 5.6}, {\"Hour\": 10, \"Shipman\": 4.6, \"Comparison\": 5.5}, {\"Hour\": 11, \"Shipman\": 5.8, \"Comparison\": 5.8}, {\"Hour\": 12, \"Shipman\": 2.0, \"Comparison\": 4.0}, {\"Hour\": 13, \"Shipman\": 9.0, \"Comparison\": 3.8}, {\"Hour\": 14, \"Shipman\": 14.1, \"Comparison\": 2.0}, {\"Hour\": 15, \"Shipman\": 13.0, \"Comparison\": 3.4}, {\"Hour\": 16, \"Shipman\": 9.0, \"Comparison\": 6.6}, {\"Hour\": 17, \"Shipman\": 5.8, \"Comparison\": 5.2}, {\"Hour\": 18, \"Shipman\": 3.8, \"Comparison\": 3.3}, {\"Hour\": 19, \"Shipman\": 2.9, \"Comparison\": 5.0}, {\"Hour\": 20, \"Shipman\": 3.6, \"Comparison\": 4.1}, {\"Hour\": 21, \"Shipman\": 0.8, \"Comparison\": 3.8}, {\"Hour\": 22, \"Shipman\": 3.6, \"Comparison\": 2.9}, {\"Hour\": 23, \"Shipman\": 2.0, \"Comparison\": 4.1}]}}, {\"mode\": \"vega-lite\"});\n",
       "</script>"
      ],
      "text/plain": [
       "alt.Chart(...)"
      ]
     },
     "execution_count": 4,
     "metadata": {},
     "output_type": "execute_result"
    }
   ],
   "source": [
    "alt.Chart(df).transform_fold(\n",
    "    ['Shipman', 'Comparison'],\n",
    "    as_=['entity', 'percentage']\n",
    ").mark_line().encode(\n",
    "    alt.X(\"Hour\", \n",
    "          title=\"Hour of Day\"),\n",
    "    alt.Y(\"percentage:Q\", \n",
    "          title=\"% of Deaths\"),\n",
    "    color=alt.Color(\"entity:N\",\n",
    "                    scale=alt.Scale(domain=variable_domain, range=variable_range),\n",
    "                    title=None)\n",
    ")"
   ]
  },
  {
   "cell_type": "markdown",
   "metadata": {},
   "source": [
    "### Tidy-form implementation, this is the prefered way to do it."
   ]
  },
  {
   "cell_type": "code",
   "execution_count": 5,
   "metadata": {},
   "outputs": [],
   "source": [
    "# rename column Comparison\n",
    "renamed_df = df.rename(columns={\"Comparison\": \"Comparison GP's\"})"
   ]
  },
  {
   "cell_type": "code",
   "execution_count": 6,
   "metadata": {},
   "outputs": [
    {
     "data": {
      "text/html": [
       "<div>\n",
       "<style scoped>\n",
       "    .dataframe tbody tr th:only-of-type {\n",
       "        vertical-align: middle;\n",
       "    }\n",
       "\n",
       "    .dataframe tbody tr th {\n",
       "        vertical-align: top;\n",
       "    }\n",
       "\n",
       "    .dataframe thead th {\n",
       "        text-align: right;\n",
       "    }\n",
       "</style>\n",
       "<table border=\"1\" class=\"dataframe\">\n",
       "  <thead>\n",
       "    <tr style=\"text-align: right;\">\n",
       "      <th></th>\n",
       "      <th>Hour</th>\n",
       "      <th>entity</th>\n",
       "      <th>percentage</th>\n",
       "    </tr>\n",
       "  </thead>\n",
       "  <tbody>\n",
       "    <tr>\n",
       "      <th>0</th>\n",
       "      <td>0</td>\n",
       "      <td>Shipman</td>\n",
       "      <td>2.6</td>\n",
       "    </tr>\n",
       "    <tr>\n",
       "      <th>1</th>\n",
       "      <td>1</td>\n",
       "      <td>Shipman</td>\n",
       "      <td>1.0</td>\n",
       "    </tr>\n",
       "    <tr>\n",
       "      <th>2</th>\n",
       "      <td>2</td>\n",
       "      <td>Shipman</td>\n",
       "      <td>2.6</td>\n",
       "    </tr>\n",
       "    <tr>\n",
       "      <th>3</th>\n",
       "      <td>3</td>\n",
       "      <td>Shipman</td>\n",
       "      <td>3.0</td>\n",
       "    </tr>\n",
       "    <tr>\n",
       "      <th>4</th>\n",
       "      <td>4</td>\n",
       "      <td>Shipman</td>\n",
       "      <td>0.3</td>\n",
       "    </tr>\n",
       "  </tbody>\n",
       "</table>\n",
       "</div>"
      ],
      "text/plain": [
       "   Hour   entity  percentage\n",
       "0     0  Shipman         2.6\n",
       "1     1  Shipman         1.0\n",
       "2     2  Shipman         2.6\n",
       "3     3  Shipman         3.0\n",
       "4     4  Shipman         0.3"
      ]
     },
     "execution_count": 6,
     "metadata": {},
     "output_type": "execute_result"
    }
   ],
   "source": [
    "tidy_df = renamed_df.melt('Hour', var_name='entity', value_name='percentage')\n",
    "tidy_df.head()"
   ]
  },
  {
   "cell_type": "code",
   "execution_count": 8,
   "metadata": {},
   "outputs": [],
   "source": [
    "variable_domain = [\"Shipman\", \"Comparison GP's\"]\n",
    "variable_range = ['blue', 'red']"
   ]
  },
  {
   "cell_type": "code",
   "execution_count": 9,
   "metadata": {},
   "outputs": [
    {
     "data": {
      "text/html": [
       "\n",
       "<div id=\"altair-viz-b7aea2d814a54004a979087a65bfee0b\"></div>\n",
       "<script type=\"text/javascript\">\n",
       "  (function(spec, embedOpt){\n",
       "    let outputDiv = document.currentScript.previousElementSibling;\n",
       "    if (outputDiv.id !== \"altair-viz-b7aea2d814a54004a979087a65bfee0b\") {\n",
       "      outputDiv = document.getElementById(\"altair-viz-b7aea2d814a54004a979087a65bfee0b\");\n",
       "    }\n",
       "    const paths = {\n",
       "      \"vega\": \"https://cdn.jsdelivr.net/npm//vega@5?noext\",\n",
       "      \"vega-lib\": \"https://cdn.jsdelivr.net/npm//vega-lib?noext\",\n",
       "      \"vega-lite\": \"https://cdn.jsdelivr.net/npm//vega-lite@4.8.1?noext\",\n",
       "      \"vega-embed\": \"https://cdn.jsdelivr.net/npm//vega-embed@6?noext\",\n",
       "    };\n",
       "\n",
       "    function loadScript(lib) {\n",
       "      return new Promise(function(resolve, reject) {\n",
       "        var s = document.createElement('script');\n",
       "        s.src = paths[lib];\n",
       "        s.async = true;\n",
       "        s.onload = () => resolve(paths[lib]);\n",
       "        s.onerror = () => reject(`Error loading script: ${paths[lib]}`);\n",
       "        document.getElementsByTagName(\"head\")[0].appendChild(s);\n",
       "      });\n",
       "    }\n",
       "\n",
       "    function showError(err) {\n",
       "      outputDiv.innerHTML = `<div class=\"error\" style=\"color:red;\">${err}</div>`;\n",
       "      throw err;\n",
       "    }\n",
       "\n",
       "    function displayChart(vegaEmbed) {\n",
       "      vegaEmbed(outputDiv, spec, embedOpt)\n",
       "        .catch(err => showError(`Javascript Error: ${err.message}<br>This usually means there's a typo in your chart specification. See the javascript console for the full traceback.`));\n",
       "    }\n",
       "\n",
       "    if(typeof define === \"function\" && define.amd) {\n",
       "      requirejs.config({paths});\n",
       "      require([\"vega-embed\"], displayChart, err => showError(`Error loading script: ${err.message}`));\n",
       "    } else if (typeof vegaEmbed === \"function\") {\n",
       "      displayChart(vegaEmbed);\n",
       "    } else {\n",
       "      loadScript(\"vega\")\n",
       "        .then(() => loadScript(\"vega-lite\"))\n",
       "        .then(() => loadScript(\"vega-embed\"))\n",
       "        .catch(showError)\n",
       "        .then(() => displayChart(vegaEmbed));\n",
       "    }\n",
       "  })({\"config\": {\"view\": {\"continuousWidth\": 400, \"continuousHeight\": 300}}, \"data\": {\"name\": \"data-d288ad5b6b4d61e8e3eabb9548528f32\"}, \"mark\": \"line\", \"encoding\": {\"color\": {\"type\": \"nominal\", \"field\": \"entity\", \"scale\": {\"domain\": [\"Shipman\", \"Comparison GP's\"], \"range\": [\"blue\", \"red\"]}, \"title\": null}, \"x\": {\"type\": \"quantitative\", \"field\": \"Hour\", \"title\": \"Hour of Day\"}, \"y\": {\"type\": \"quantitative\", \"field\": \"percentage\", \"title\": \"% of Deaths\"}}, \"$schema\": \"https://vega.github.io/schema/vega-lite/v4.8.1.json\", \"datasets\": {\"data-d288ad5b6b4d61e8e3eabb9548528f32\": [{\"Hour\": 0, \"entity\": \"Shipman\", \"percentage\": 2.6}, {\"Hour\": 1, \"entity\": \"Shipman\", \"percentage\": 1.0}, {\"Hour\": 2, \"entity\": \"Shipman\", \"percentage\": 2.6}, {\"Hour\": 3, \"entity\": \"Shipman\", \"percentage\": 3.0}, {\"Hour\": 4, \"entity\": \"Shipman\", \"percentage\": 0.3}, {\"Hour\": 5, \"entity\": \"Shipman\", \"percentage\": 1.2}, {\"Hour\": 6, \"entity\": \"Shipman\", \"percentage\": 2.9}, {\"Hour\": 7, \"entity\": \"Shipman\", \"percentage\": 1.8}, {\"Hour\": 8, \"entity\": \"Shipman\", \"percentage\": 3.6}, {\"Hour\": 9, \"entity\": \"Shipman\", \"percentage\": 2.6}, {\"Hour\": 10, \"entity\": \"Shipman\", \"percentage\": 4.6}, {\"Hour\": 11, \"entity\": \"Shipman\", \"percentage\": 5.8}, {\"Hour\": 12, \"entity\": \"Shipman\", \"percentage\": 2.0}, {\"Hour\": 13, \"entity\": \"Shipman\", \"percentage\": 9.0}, {\"Hour\": 14, \"entity\": \"Shipman\", \"percentage\": 14.1}, {\"Hour\": 15, \"entity\": \"Shipman\", \"percentage\": 13.0}, {\"Hour\": 16, \"entity\": \"Shipman\", \"percentage\": 9.0}, {\"Hour\": 17, \"entity\": \"Shipman\", \"percentage\": 5.8}, {\"Hour\": 18, \"entity\": \"Shipman\", \"percentage\": 3.8}, {\"Hour\": 19, \"entity\": \"Shipman\", \"percentage\": 2.9}, {\"Hour\": 20, \"entity\": \"Shipman\", \"percentage\": 3.6}, {\"Hour\": 21, \"entity\": \"Shipman\", \"percentage\": 0.8}, {\"Hour\": 22, \"entity\": \"Shipman\", \"percentage\": 3.6}, {\"Hour\": 23, \"entity\": \"Shipman\", \"percentage\": 2.0}, {\"Hour\": 0, \"entity\": \"Comparison GP's\", \"percentage\": 1.1}, {\"Hour\": 1, \"entity\": \"Comparison GP's\", \"percentage\": 3.0}, {\"Hour\": 2, \"entity\": \"Comparison GP's\", \"percentage\": 3.1}, {\"Hour\": 3, \"entity\": \"Comparison GP's\", \"percentage\": 3.8}, {\"Hour\": 4, \"entity\": \"Comparison GP's\", \"percentage\": 4.0}, {\"Hour\": 5, \"entity\": \"Comparison GP's\", \"percentage\": 4.3}, {\"Hour\": 6, \"entity\": \"Comparison GP's\", \"percentage\": 4.2}, {\"Hour\": 7, \"entity\": \"Comparison GP's\", \"percentage\": 4.1}, {\"Hour\": 8, \"entity\": \"Comparison GP's\", \"percentage\": 3.4}, {\"Hour\": 9, \"entity\": \"Comparison GP's\", \"percentage\": 5.6}, {\"Hour\": 10, \"entity\": \"Comparison GP's\", \"percentage\": 5.5}, {\"Hour\": 11, \"entity\": \"Comparison GP's\", \"percentage\": 5.8}, {\"Hour\": 12, \"entity\": \"Comparison GP's\", \"percentage\": 4.0}, {\"Hour\": 13, \"entity\": \"Comparison GP's\", \"percentage\": 3.8}, {\"Hour\": 14, \"entity\": \"Comparison GP's\", \"percentage\": 2.0}, {\"Hour\": 15, \"entity\": \"Comparison GP's\", \"percentage\": 3.4}, {\"Hour\": 16, \"entity\": \"Comparison GP's\", \"percentage\": 6.6}, {\"Hour\": 17, \"entity\": \"Comparison GP's\", \"percentage\": 5.2}, {\"Hour\": 18, \"entity\": \"Comparison GP's\", \"percentage\": 3.3}, {\"Hour\": 19, \"entity\": \"Comparison GP's\", \"percentage\": 5.0}, {\"Hour\": 20, \"entity\": \"Comparison GP's\", \"percentage\": 4.1}, {\"Hour\": 21, \"entity\": \"Comparison GP's\", \"percentage\": 3.8}, {\"Hour\": 22, \"entity\": \"Comparison GP's\", \"percentage\": 2.9}, {\"Hour\": 23, \"entity\": \"Comparison GP's\", \"percentage\": 4.1}]}}, {\"mode\": \"vega-lite\"});\n",
       "</script>"
      ],
      "text/plain": [
       "alt.Chart(...)"
      ]
     },
     "execution_count": 9,
     "metadata": {},
     "output_type": "execute_result"
    }
   ],
   "source": [
    "alt.Chart(tidy_df).mark_line().encode(\n",
    "    alt.X(\"Hour\", \n",
    "          title=\"Hour of Day\"),\n",
    "    alt.Y(\"percentage\", \n",
    "          title=\"% of Deaths\"),\n",
    "    color=alt.Color(\"entity\",\n",
    "                    scale=alt.Scale(domain=variable_domain, range=variable_range),\n",
    "                    title=None)\n",
    ")"
   ]
  },
  {
   "cell_type": "code",
   "execution_count": null,
   "metadata": {},
   "outputs": [],
   "source": []
  }
 ],
 "metadata": {
  "kernelspec": {
   "display_name": "art_of_statistics",
   "language": "python",
   "name": "art_of_statistics"
  },
  "language_info": {
   "codemirror_mode": {
    "name": "ipython",
    "version": 3
   },
   "file_extension": ".py",
   "mimetype": "text/x-python",
   "name": "python",
   "nbconvert_exporter": "python",
   "pygments_lexer": "ipython3",
   "version": "3.8.2"
  }
 },
 "nbformat": 4,
 "nbformat_minor": 2
}
