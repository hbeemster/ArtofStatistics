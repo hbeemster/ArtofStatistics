{
 "cells": [
  {
   "cell_type": "markdown",
   "metadata": {},
   "source": [
    "## Art of Statistics: 02-2-3-jelly-bean-counts-x"
   ]
  },
  {
   "cell_type": "code",
   "execution_count": 1,
   "metadata": {},
   "outputs": [],
   "source": [
    "import altair as alt\n",
    "import pandas as pd"
   ]
  },
  {
   "cell_type": "code",
   "execution_count": 10,
   "metadata": {},
   "outputs": [
    {
     "data": {
      "text/html": [
       "<div>\n",
       "<style scoped>\n",
       "    .dataframe tbody tr th:only-of-type {\n",
       "        vertical-align: middle;\n",
       "    }\n",
       "\n",
       "    .dataframe tbody tr th {\n",
       "        vertical-align: top;\n",
       "    }\n",
       "\n",
       "    .dataframe thead th {\n",
       "        text-align: right;\n",
       "    }\n",
       "</style>\n",
       "<table border=\"1\" class=\"dataframe\">\n",
       "  <thead>\n",
       "    <tr style=\"text-align: right;\">\n",
       "      <th></th>\n",
       "      <th>Guesses</th>\n",
       "    </tr>\n",
       "  </thead>\n",
       "  <tbody>\n",
       "    <tr>\n",
       "      <th>0</th>\n",
       "      <td>219</td>\n",
       "    </tr>\n",
       "    <tr>\n",
       "      <th>1</th>\n",
       "      <td>244</td>\n",
       "    </tr>\n",
       "    <tr>\n",
       "      <th>2</th>\n",
       "      <td>260</td>\n",
       "    </tr>\n",
       "    <tr>\n",
       "      <th>3</th>\n",
       "      <td>269</td>\n",
       "    </tr>\n",
       "    <tr>\n",
       "      <th>4</th>\n",
       "      <td>273</td>\n",
       "    </tr>\n",
       "  </tbody>\n",
       "</table>\n",
       "</div>"
      ],
      "text/plain": [
       "   Guesses\n",
       "0      219\n",
       "1      244\n",
       "2      260\n",
       "3      269\n",
       "4      273"
      ]
     },
     "execution_count": 10,
     "metadata": {},
     "output_type": "execute_result"
    }
   ],
   "source": [
    "df = pd.read_csv(\"02-1-bean-data-full-x.csv\", header=None, names=[\"Guesses\"])\n",
    "df.head()"
   ]
  },
  {
   "cell_type": "code",
   "execution_count": 11,
   "metadata": {},
   "outputs": [
    {
     "data": {
      "text/html": [
       "<div>\n",
       "<style scoped>\n",
       "    .dataframe tbody tr th:only-of-type {\n",
       "        vertical-align: middle;\n",
       "    }\n",
       "\n",
       "    .dataframe tbody tr th {\n",
       "        vertical-align: top;\n",
       "    }\n",
       "\n",
       "    .dataframe thead th {\n",
       "        text-align: right;\n",
       "    }\n",
       "</style>\n",
       "<table border=\"1\" class=\"dataframe\">\n",
       "  <thead>\n",
       "    <tr style=\"text-align: right;\">\n",
       "      <th></th>\n",
       "      <th>Guesses</th>\n",
       "    </tr>\n",
       "  </thead>\n",
       "  <tbody>\n",
       "    <tr>\n",
       "      <th>count</th>\n",
       "      <td>915.000000</td>\n",
       "    </tr>\n",
       "    <tr>\n",
       "      <th>mean</th>\n",
       "      <td>2408.745355</td>\n",
       "    </tr>\n",
       "    <tr>\n",
       "      <th>std</th>\n",
       "      <td>2422.170502</td>\n",
       "    </tr>\n",
       "    <tr>\n",
       "      <th>min</th>\n",
       "      <td>219.000000</td>\n",
       "    </tr>\n",
       "    <tr>\n",
       "      <th>25%</th>\n",
       "      <td>1110.000000</td>\n",
       "    </tr>\n",
       "    <tr>\n",
       "      <th>50%</th>\n",
       "      <td>1775.000000</td>\n",
       "    </tr>\n",
       "    <tr>\n",
       "      <th>75%</th>\n",
       "      <td>2599.500000</td>\n",
       "    </tr>\n",
       "    <tr>\n",
       "      <th>max</th>\n",
       "      <td>31337.000000</td>\n",
       "    </tr>\n",
       "  </tbody>\n",
       "</table>\n",
       "</div>"
      ],
      "text/plain": [
       "            Guesses\n",
       "count    915.000000\n",
       "mean    2408.745355\n",
       "std     2422.170502\n",
       "min      219.000000\n",
       "25%     1110.000000\n",
       "50%     1775.000000\n",
       "75%     2599.500000\n",
       "max    31337.000000"
      ]
     },
     "execution_count": 11,
     "metadata": {},
     "output_type": "execute_result"
    }
   ],
   "source": [
    "df.describe()"
   ]
  },
  {
   "cell_type": "markdown",
   "metadata": {},
   "source": [
    "### common"
   ]
  },
  {
   "cell_type": "code",
   "execution_count": 117,
   "metadata": {},
   "outputs": [],
   "source": [
    "no_axis = alt.Axis(ticks=True, \n",
    "                   grid=True, \n",
    "                   labels=True,\n",
    "                   values=list(range(0, 35000, 5000))\n",
    ")"
   ]
  },
  {
   "cell_type": "markdown",
   "metadata": {},
   "source": [
    "### Stripplot"
   ]
  },
  {
   "cell_type": "code",
   "execution_count": 118,
   "metadata": {},
   "outputs": [
    {
     "data": {
      "text/html": [
       "\n",
       "<div id=\"altair-viz-7c1ca3f26e914f089126be4d17e4c1d7\"></div>\n",
       "<script type=\"text/javascript\">\n",
       "  (function(spec, embedOpt){\n",
       "    let outputDiv = document.currentScript.previousElementSibling;\n",
       "    if (outputDiv.id !== \"altair-viz-7c1ca3f26e914f089126be4d17e4c1d7\") {\n",
       "      outputDiv = document.getElementById(\"altair-viz-7c1ca3f26e914f089126be4d17e4c1d7\");\n",
       "    }\n",
       "    const paths = {\n",
       "      \"vega\": \"https://cdn.jsdelivr.net/npm//vega@5?noext\",\n",
       "      \"vega-lib\": \"https://cdn.jsdelivr.net/npm//vega-lib?noext\",\n",
       "      \"vega-lite\": \"https://cdn.jsdelivr.net/npm//vega-lite@4.8.1?noext\",\n",
       "      \"vega-embed\": \"https://cdn.jsdelivr.net/npm//vega-embed@6?noext\",\n",
       "    };\n",
       "\n",
       "    function loadScript(lib) {\n",
       "      return new Promise(function(resolve, reject) {\n",
       "        var s = document.createElement('script');\n",
       "        s.src = paths[lib];\n",
       "        s.async = true;\n",
       "        s.onload = () => resolve(paths[lib]);\n",
       "        s.onerror = () => reject(`Error loading script: ${paths[lib]}`);\n",
       "        document.getElementsByTagName(\"head\")[0].appendChild(s);\n",
       "      });\n",
       "    }\n",
       "\n",
       "    function showError(err) {\n",
       "      outputDiv.innerHTML = `<div class=\"error\" style=\"color:red;\">${err}</div>`;\n",
       "      throw err;\n",
       "    }\n",
       "\n",
       "    function displayChart(vegaEmbed) {\n",
       "      vegaEmbed(outputDiv, spec, embedOpt)\n",
       "        .catch(err => showError(`Javascript Error: ${err.message}<br>This usually means there's a typo in your chart specification. See the javascript console for the full traceback.`));\n",
       "    }\n",
       "\n",
       "    if(typeof define === \"function\" && define.amd) {\n",
       "      requirejs.config({paths});\n",
       "      require([\"vega-embed\"], displayChart, err => showError(`Error loading script: ${err.message}`));\n",
       "    } else if (typeof vegaEmbed === \"function\") {\n",
       "      displayChart(vegaEmbed);\n",
       "    } else {\n",
       "      loadScript(\"vega\")\n",
       "        .then(() => loadScript(\"vega-lite\"))\n",
       "        .then(() => loadScript(\"vega-embed\"))\n",
       "        .catch(showError)\n",
       "        .then(() => displayChart(vegaEmbed));\n",
       "    }\n",
       "  })({\"config\": {\"view\": {\"continuousWidth\": 400, \"continuousHeight\": 300}}, \"data\": {\"name\": \"data-b866206b10a006b04c1367cfa42bb9e8\"}, \"mark\": \"circle\", \"encoding\": {\"x\": {\"type\": \"quantitative\", \"axis\": {\"grid\": true, \"labels\": true, \"ticks\": true, \"values\": [0, 5000, 10000, 15000, 20000, 25000, 30000]}, \"field\": \"Guesses\", \"title\": null}, \"y\": {\"type\": \"quantitative\", \"axis\": {\"grid\": false, \"labels\": false, \"ticks\": false}, \"field\": \"jitter\", \"title\": null}}, \"height\": 150, \"title\": {\"text\": \"A\", \"anchor\": \"start\"}, \"transform\": [{\"calculate\": \"sqrt(-2*log(random()))*cos(2*PI*random())\", \"as\": \"jitter\"}], \"width\": 600, \"$schema\": \"https://vega.github.io/schema/vega-lite/v4.8.1.json\", \"datasets\": {\"data-b866206b10a006b04c1367cfa42bb9e8\": [{\"Guesses\": 219}, {\"Guesses\": 244}, {\"Guesses\": 260}, {\"Guesses\": 269}, {\"Guesses\": 273}, {\"Guesses\": 280}, {\"Guesses\": 300}, {\"Guesses\": 333}, {\"Guesses\": 361}, {\"Guesses\": 400}, {\"Guesses\": 421}, {\"Guesses\": 436}, {\"Guesses\": 441}, {\"Guesses\": 444}, {\"Guesses\": 450}, {\"Guesses\": 450}, {\"Guesses\": 450}, {\"Guesses\": 452}, {\"Guesses\": 458}, {\"Guesses\": 465}, {\"Guesses\": 466}, {\"Guesses\": 467}, {\"Guesses\": 475}, {\"Guesses\": 480}, {\"Guesses\": 486}, {\"Guesses\": 496}, {\"Guesses\": 496}, {\"Guesses\": 500}, {\"Guesses\": 512}, {\"Guesses\": 512}, {\"Guesses\": 514}, {\"Guesses\": 527}, {\"Guesses\": 529}, {\"Guesses\": 536}, {\"Guesses\": 542}, {\"Guesses\": 549}, {\"Guesses\": 553}, {\"Guesses\": 557}, {\"Guesses\": 557}, {\"Guesses\": 562}, {\"Guesses\": 563}, {\"Guesses\": 575}, {\"Guesses\": 575}, {\"Guesses\": 576}, {\"Guesses\": 601}, {\"Guesses\": 603}, {\"Guesses\": 604}, {\"Guesses\": 606}, {\"Guesses\": 611}, {\"Guesses\": 612}, {\"Guesses\": 620}, {\"Guesses\": 622}, {\"Guesses\": 627}, {\"Guesses\": 627}, {\"Guesses\": 628}, {\"Guesses\": 631}, {\"Guesses\": 643}, {\"Guesses\": 650}, {\"Guesses\": 653}, {\"Guesses\": 655}, {\"Guesses\": 657}, {\"Guesses\": 658}, {\"Guesses\": 665}, {\"Guesses\": 666}, {\"Guesses\": 666}, {\"Guesses\": 667}, {\"Guesses\": 668}, {\"Guesses\": 668}, {\"Guesses\": 672}, {\"Guesses\": 674}, {\"Guesses\": 680}, {\"Guesses\": 687}, {\"Guesses\": 692}, {\"Guesses\": 697}, {\"Guesses\": 697}, {\"Guesses\": 698}, {\"Guesses\": 699}, {\"Guesses\": 700}, {\"Guesses\": 706}, {\"Guesses\": 712}, {\"Guesses\": 716}, {\"Guesses\": 722}, {\"Guesses\": 728}, {\"Guesses\": 728}, {\"Guesses\": 731}, {\"Guesses\": 736}, {\"Guesses\": 737}, {\"Guesses\": 738}, {\"Guesses\": 740}, {\"Guesses\": 742}, {\"Guesses\": 748}, {\"Guesses\": 748}, {\"Guesses\": 749}, {\"Guesses\": 754}, {\"Guesses\": 756}, {\"Guesses\": 756}, {\"Guesses\": 780}, {\"Guesses\": 793}, {\"Guesses\": 794}, {\"Guesses\": 800}, {\"Guesses\": 801}, {\"Guesses\": 801}, {\"Guesses\": 801}, {\"Guesses\": 812}, {\"Guesses\": 815}, {\"Guesses\": 817}, {\"Guesses\": 819}, {\"Guesses\": 819}, {\"Guesses\": 822}, {\"Guesses\": 824}, {\"Guesses\": 826}, {\"Guesses\": 826}, {\"Guesses\": 831}, {\"Guesses\": 839}, {\"Guesses\": 843}, {\"Guesses\": 843}, {\"Guesses\": 843}, {\"Guesses\": 844}, {\"Guesses\": 845}, {\"Guesses\": 846}, {\"Guesses\": 849}, {\"Guesses\": 850}, {\"Guesses\": 850}, {\"Guesses\": 853}, {\"Guesses\": 854}, {\"Guesses\": 855}, {\"Guesses\": 856}, {\"Guesses\": 863}, {\"Guesses\": 863}, {\"Guesses\": 863}, {\"Guesses\": 870}, {\"Guesses\": 874}, {\"Guesses\": 874}, {\"Guesses\": 874}, {\"Guesses\": 881}, {\"Guesses\": 886}, {\"Guesses\": 888}, {\"Guesses\": 889}, {\"Guesses\": 893}, {\"Guesses\": 895}, {\"Guesses\": 896}, {\"Guesses\": 897}, {\"Guesses\": 898}, {\"Guesses\": 898}, {\"Guesses\": 899}, {\"Guesses\": 899}, {\"Guesses\": 900}, {\"Guesses\": 900}, {\"Guesses\": 900}, {\"Guesses\": 907}, {\"Guesses\": 907}, {\"Guesses\": 912}, {\"Guesses\": 913}, {\"Guesses\": 913}, {\"Guesses\": 920}, {\"Guesses\": 924}, {\"Guesses\": 929}, {\"Guesses\": 929}, {\"Guesses\": 929}, {\"Guesses\": 930}, {\"Guesses\": 930}, {\"Guesses\": 930}, {\"Guesses\": 931}, {\"Guesses\": 931}, {\"Guesses\": 936}, {\"Guesses\": 937}, {\"Guesses\": 942}, {\"Guesses\": 942}, {\"Guesses\": 942}, {\"Guesses\": 946}, {\"Guesses\": 946}, {\"Guesses\": 946}, {\"Guesses\": 947}, {\"Guesses\": 950}, {\"Guesses\": 953}, {\"Guesses\": 956}, {\"Guesses\": 957}, {\"Guesses\": 957}, {\"Guesses\": 958}, {\"Guesses\": 960}, {\"Guesses\": 962}, {\"Guesses\": 964}, {\"Guesses\": 965}, {\"Guesses\": 965}, {\"Guesses\": 972}, {\"Guesses\": 974}, {\"Guesses\": 976}, {\"Guesses\": 977}, {\"Guesses\": 978}, {\"Guesses\": 979}, {\"Guesses\": 983}, {\"Guesses\": 983}, {\"Guesses\": 984}, {\"Guesses\": 987}, {\"Guesses\": 987}, {\"Guesses\": 992}, {\"Guesses\": 995}, {\"Guesses\": 999}, {\"Guesses\": 1000}, {\"Guesses\": 1000}, {\"Guesses\": 1000}, {\"Guesses\": 1000}, {\"Guesses\": 1000}, {\"Guesses\": 1000}, {\"Guesses\": 1000}, {\"Guesses\": 1001}, {\"Guesses\": 1009}, {\"Guesses\": 1013}, {\"Guesses\": 1020}, {\"Guesses\": 1021}, {\"Guesses\": 1023}, {\"Guesses\": 1036}, {\"Guesses\": 1037}, {\"Guesses\": 1039}, {\"Guesses\": 1044}, {\"Guesses\": 1044}, {\"Guesses\": 1046}, {\"Guesses\": 1050}, {\"Guesses\": 1054}, {\"Guesses\": 1065}, {\"Guesses\": 1082}, {\"Guesses\": 1084}, {\"Guesses\": 1085}, {\"Guesses\": 1089}, {\"Guesses\": 1096}, {\"Guesses\": 1099}, {\"Guesses\": 1100}, {\"Guesses\": 1105}, {\"Guesses\": 1109}, {\"Guesses\": 1111}, {\"Guesses\": 1112}, {\"Guesses\": 1115}, {\"Guesses\": 1121}, {\"Guesses\": 1123}, {\"Guesses\": 1123}, {\"Guesses\": 1128}, {\"Guesses\": 1131}, {\"Guesses\": 1143}, {\"Guesses\": 1146}, {\"Guesses\": 1150}, {\"Guesses\": 1154}, {\"Guesses\": 1154}, {\"Guesses\": 1177}, {\"Guesses\": 1178}, {\"Guesses\": 1189}, {\"Guesses\": 1197}, {\"Guesses\": 1198}, {\"Guesses\": 1198}, {\"Guesses\": 1198}, {\"Guesses\": 1198}, {\"Guesses\": 1198}, {\"Guesses\": 1199}, {\"Guesses\": 1200}, {\"Guesses\": 1200}, {\"Guesses\": 1200}, {\"Guesses\": 1200}, {\"Guesses\": 1202}, {\"Guesses\": 1204}, {\"Guesses\": 1206}, {\"Guesses\": 1210}, {\"Guesses\": 1212}, {\"Guesses\": 1216}, {\"Guesses\": 1216}, {\"Guesses\": 1221}, {\"Guesses\": 1221}, {\"Guesses\": 1225}, {\"Guesses\": 1226}, {\"Guesses\": 1231}, {\"Guesses\": 1233}, {\"Guesses\": 1234}, {\"Guesses\": 1234}, {\"Guesses\": 1234}, {\"Guesses\": 1234}, {\"Guesses\": 1234}, {\"Guesses\": 1241}, {\"Guesses\": 1245}, {\"Guesses\": 1250}, {\"Guesses\": 1254}, {\"Guesses\": 1255}, {\"Guesses\": 1256}, {\"Guesses\": 1256}, {\"Guesses\": 1257}, {\"Guesses\": 1257}, {\"Guesses\": 1260}, {\"Guesses\": 1264}, {\"Guesses\": 1274}, {\"Guesses\": 1275}, {\"Guesses\": 1276}, {\"Guesses\": 1280}, {\"Guesses\": 1280}, {\"Guesses\": 1283}, {\"Guesses\": 1283}, {\"Guesses\": 1286}, {\"Guesses\": 1286}, {\"Guesses\": 1293}, {\"Guesses\": 1295}, {\"Guesses\": 1296}, {\"Guesses\": 1296}, {\"Guesses\": 1296}, {\"Guesses\": 1298}, {\"Guesses\": 1300}, {\"Guesses\": 1300}, {\"Guesses\": 1300}, {\"Guesses\": 1301}, {\"Guesses\": 1312}, {\"Guesses\": 1313}, {\"Guesses\": 1320}, {\"Guesses\": 1332}, {\"Guesses\": 1334}, {\"Guesses\": 1336}, {\"Guesses\": 1336}, {\"Guesses\": 1337}, {\"Guesses\": 1337}, {\"Guesses\": 1337}, {\"Guesses\": 1337}, {\"Guesses\": 1337}, {\"Guesses\": 1337}, {\"Guesses\": 1337}, {\"Guesses\": 1337}, {\"Guesses\": 1337}, {\"Guesses\": 1338}, {\"Guesses\": 1342}, {\"Guesses\": 1348}, {\"Guesses\": 1349}, {\"Guesses\": 1350}, {\"Guesses\": 1350}, {\"Guesses\": 1350}, {\"Guesses\": 1353}, {\"Guesses\": 1356}, {\"Guesses\": 1364}, {\"Guesses\": 1372}, {\"Guesses\": 1372}, {\"Guesses\": 1385}, {\"Guesses\": 1385}, {\"Guesses\": 1387}, {\"Guesses\": 1389}, {\"Guesses\": 1389}, {\"Guesses\": 1394}, {\"Guesses\": 1396}, {\"Guesses\": 1396}, {\"Guesses\": 1399}, {\"Guesses\": 1399}, {\"Guesses\": 1403}, {\"Guesses\": 1404}, {\"Guesses\": 1411}, {\"Guesses\": 1412}, {\"Guesses\": 1414}, {\"Guesses\": 1422}, {\"Guesses\": 1423}, {\"Guesses\": 1428}, {\"Guesses\": 1428}, {\"Guesses\": 1432}, {\"Guesses\": 1432}, {\"Guesses\": 1437}, {\"Guesses\": 1440}, {\"Guesses\": 1445}, {\"Guesses\": 1450}, {\"Guesses\": 1452}, {\"Guesses\": 1452}, {\"Guesses\": 1467}, {\"Guesses\": 1469}, {\"Guesses\": 1473}, {\"Guesses\": 1479}, {\"Guesses\": 1481}, {\"Guesses\": 1485}, {\"Guesses\": 1486}, {\"Guesses\": 1487}, {\"Guesses\": 1495}, {\"Guesses\": 1496}, {\"Guesses\": 1498}, {\"Guesses\": 1499}, {\"Guesses\": 1499}, {\"Guesses\": 1499}, {\"Guesses\": 1499}, {\"Guesses\": 1500}, {\"Guesses\": 1500}, {\"Guesses\": 1500}, {\"Guesses\": 1500}, {\"Guesses\": 1500}, {\"Guesses\": 1500}, {\"Guesses\": 1506}, {\"Guesses\": 1514}, {\"Guesses\": 1517}, {\"Guesses\": 1527}, {\"Guesses\": 1528}, {\"Guesses\": 1529}, {\"Guesses\": 1530}, {\"Guesses\": 1530}, {\"Guesses\": 1541}, {\"Guesses\": 1546}, {\"Guesses\": 1546}, {\"Guesses\": 1548}, {\"Guesses\": 1548}, {\"Guesses\": 1562}, {\"Guesses\": 1563}, {\"Guesses\": 1563}, {\"Guesses\": 1567}, {\"Guesses\": 1567}, {\"Guesses\": 1569}, {\"Guesses\": 1570}, {\"Guesses\": 1573}, {\"Guesses\": 1575}, {\"Guesses\": 1577}, {\"Guesses\": 1581}, {\"Guesses\": 1582}, {\"Guesses\": 1589}, {\"Guesses\": 1598}, {\"Guesses\": 1599}, {\"Guesses\": 1600}, {\"Guesses\": 1600}, {\"Guesses\": 1601}, {\"Guesses\": 1613}, {\"Guesses\": 1616}, {\"Guesses\": 1622}, {\"Guesses\": 1628}, {\"Guesses\": 1629}, {\"Guesses\": 1631}, {\"Guesses\": 1632}, {\"Guesses\": 1633}, {\"Guesses\": 1647}, {\"Guesses\": 1649}, {\"Guesses\": 1649}, {\"Guesses\": 1656}, {\"Guesses\": 1669}, {\"Guesses\": 1676}, {\"Guesses\": 1681}, {\"Guesses\": 1696}, {\"Guesses\": 1696}, {\"Guesses\": 1697}, {\"Guesses\": 1699}, {\"Guesses\": 1700}, {\"Guesses\": 1700}, {\"Guesses\": 1706}, {\"Guesses\": 1710}, {\"Guesses\": 1723}, {\"Guesses\": 1724}, {\"Guesses\": 1724}, {\"Guesses\": 1728}, {\"Guesses\": 1728}, {\"Guesses\": 1728}, {\"Guesses\": 1729}, {\"Guesses\": 1729}, {\"Guesses\": 1729}, {\"Guesses\": 1733}, {\"Guesses\": 1734}, {\"Guesses\": 1738}, {\"Guesses\": 1738}, {\"Guesses\": 1746}, {\"Guesses\": 1749}, {\"Guesses\": 1752}, {\"Guesses\": 1754}, {\"Guesses\": 1756}, {\"Guesses\": 1758}, {\"Guesses\": 1760}, {\"Guesses\": 1765}, {\"Guesses\": 1769}, {\"Guesses\": 1771}, {\"Guesses\": 1775}, {\"Guesses\": 1776}, {\"Guesses\": 1777}, {\"Guesses\": 1780}, {\"Guesses\": 1782}, {\"Guesses\": 1785}, {\"Guesses\": 1785}, {\"Guesses\": 1796}, {\"Guesses\": 1798}, {\"Guesses\": 1799}, {\"Guesses\": 1800}, {\"Guesses\": 1800}, {\"Guesses\": 1800}, {\"Guesses\": 1800}, {\"Guesses\": 1800}, {\"Guesses\": 1800}, {\"Guesses\": 1800}, {\"Guesses\": 1800}, {\"Guesses\": 1821}, {\"Guesses\": 1826}, {\"Guesses\": 1826}, {\"Guesses\": 1833}, {\"Guesses\": 1836}, {\"Guesses\": 1836}, {\"Guesses\": 1836}, {\"Guesses\": 1836}, {\"Guesses\": 1837}, {\"Guesses\": 1845}, {\"Guesses\": 1847}, {\"Guesses\": 1848}, {\"Guesses\": 1850}, {\"Guesses\": 1856}, {\"Guesses\": 1860}, {\"Guesses\": 1867}, {\"Guesses\": 1870}, {\"Guesses\": 1871}, {\"Guesses\": 1879}, {\"Guesses\": 1879}, {\"Guesses\": 1880}, {\"Guesses\": 1880}, {\"Guesses\": 1887}, {\"Guesses\": 1889}, {\"Guesses\": 1890}, {\"Guesses\": 1890}, {\"Guesses\": 1892}, {\"Guesses\": 1899}, {\"Guesses\": 1903}, {\"Guesses\": 1906}, {\"Guesses\": 1906}, {\"Guesses\": 1908}, {\"Guesses\": 1910}, {\"Guesses\": 1919}, {\"Guesses\": 1920}, {\"Guesses\": 1927}, {\"Guesses\": 1931}, {\"Guesses\": 1931}, {\"Guesses\": 1932}, {\"Guesses\": 1937}, {\"Guesses\": 1944}, {\"Guesses\": 1962}, {\"Guesses\": 1964}, {\"Guesses\": 1975}, {\"Guesses\": 1980}, {\"Guesses\": 1982}, {\"Guesses\": 1983}, {\"Guesses\": 1985}, {\"Guesses\": 1985}, {\"Guesses\": 1989}, {\"Guesses\": 1993}, {\"Guesses\": 1994}, {\"Guesses\": 1997}, {\"Guesses\": 1998}, {\"Guesses\": 2000}, {\"Guesses\": 2000}, {\"Guesses\": 2000}, {\"Guesses\": 2000}, {\"Guesses\": 2000}, {\"Guesses\": 2000}, {\"Guesses\": 2000}, {\"Guesses\": 2000}, {\"Guesses\": 2010}, {\"Guesses\": 2011}, {\"Guesses\": 2011}, {\"Guesses\": 2011}, {\"Guesses\": 2012}, {\"Guesses\": 2012}, {\"Guesses\": 2013}, {\"Guesses\": 2013}, {\"Guesses\": 2014}, {\"Guesses\": 2016}, {\"Guesses\": 2020}, {\"Guesses\": 2020}, {\"Guesses\": 2020}, {\"Guesses\": 2032}, {\"Guesses\": 2036}, {\"Guesses\": 2038}, {\"Guesses\": 2041}, {\"Guesses\": 2042}, {\"Guesses\": 2045}, {\"Guesses\": 2049}, {\"Guesses\": 2052}, {\"Guesses\": 2054}, {\"Guesses\": 2056}, {\"Guesses\": 2057}, {\"Guesses\": 2059}, {\"Guesses\": 2060}, {\"Guesses\": 2069}, {\"Guesses\": 2072}, {\"Guesses\": 2075}, {\"Guesses\": 2079}, {\"Guesses\": 2081}, {\"Guesses\": 2081}, {\"Guesses\": 2087}, {\"Guesses\": 2097}, {\"Guesses\": 2104}, {\"Guesses\": 2111}, {\"Guesses\": 2112}, {\"Guesses\": 2119}, {\"Guesses\": 2127}, {\"Guesses\": 2128}, {\"Guesses\": 2133}, {\"Guesses\": 2135}, {\"Guesses\": 2135}, {\"Guesses\": 2137}, {\"Guesses\": 2147}, {\"Guesses\": 2147}, {\"Guesses\": 2150}, {\"Guesses\": 2153}, {\"Guesses\": 2153}, {\"Guesses\": 2159}, {\"Guesses\": 2159}, {\"Guesses\": 2164}, {\"Guesses\": 2164}, {\"Guesses\": 2165}, {\"Guesses\": 2165}, {\"Guesses\": 2168}, {\"Guesses\": 2168}, {\"Guesses\": 2175}, {\"Guesses\": 2176}, {\"Guesses\": 2177}, {\"Guesses\": 2178}, {\"Guesses\": 2189}, {\"Guesses\": 2190}, {\"Guesses\": 2225}, {\"Guesses\": 2233}, {\"Guesses\": 2243}, {\"Guesses\": 2245}, {\"Guesses\": 2248}, {\"Guesses\": 2249}, {\"Guesses\": 2253}, {\"Guesses\": 2258}, {\"Guesses\": 2262}, {\"Guesses\": 2268}, {\"Guesses\": 2268}, {\"Guesses\": 2279}, {\"Guesses\": 2284}, {\"Guesses\": 2292}, {\"Guesses\": 2299}, {\"Guesses\": 2299}, {\"Guesses\": 2299}, {\"Guesses\": 2301}, {\"Guesses\": 2314}, {\"Guesses\": 2317}, {\"Guesses\": 2323}, {\"Guesses\": 2328}, {\"Guesses\": 2333}, {\"Guesses\": 2338}, {\"Guesses\": 2340}, {\"Guesses\": 2345}, {\"Guesses\": 2345}, {\"Guesses\": 2345}, {\"Guesses\": 2353}, {\"Guesses\": 2354}, {\"Guesses\": 2359}, {\"Guesses\": 2362}, {\"Guesses\": 2365}, {\"Guesses\": 2369}, {\"Guesses\": 2374}, {\"Guesses\": 2374}, {\"Guesses\": 2383}, {\"Guesses\": 2401}, {\"Guesses\": 2421}, {\"Guesses\": 2423}, {\"Guesses\": 2427}, {\"Guesses\": 2432}, {\"Guesses\": 2445}, {\"Guesses\": 2445}, {\"Guesses\": 2447}, {\"Guesses\": 2447}, {\"Guesses\": 2448}, {\"Guesses\": 2450}, {\"Guesses\": 2451}, {\"Guesses\": 2456}, {\"Guesses\": 2458}, {\"Guesses\": 2463}, {\"Guesses\": 2466}, {\"Guesses\": 2467}, {\"Guesses\": 2472}, {\"Guesses\": 2473}, {\"Guesses\": 2483}, {\"Guesses\": 2486}, {\"Guesses\": 2494}, {\"Guesses\": 2495}, {\"Guesses\": 2497}, {\"Guesses\": 2499}, {\"Guesses\": 2500}, {\"Guesses\": 2500}, {\"Guesses\": 2500}, {\"Guesses\": 2500}, {\"Guesses\": 2527}, {\"Guesses\": 2533}, {\"Guesses\": 2537}, {\"Guesses\": 2540}, {\"Guesses\": 2541}, {\"Guesses\": 2542}, {\"Guesses\": 2544}, {\"Guesses\": 2546}, {\"Guesses\": 2547}, {\"Guesses\": 2547}, {\"Guesses\": 2549}, {\"Guesses\": 2553}, {\"Guesses\": 2562}, {\"Guesses\": 2562}, {\"Guesses\": 2567}, {\"Guesses\": 2568}, {\"Guesses\": 2568}, {\"Guesses\": 2586}, {\"Guesses\": 2596}, {\"Guesses\": 2599}, {\"Guesses\": 2600}, {\"Guesses\": 2600}, {\"Guesses\": 2600}, {\"Guesses\": 2609}, {\"Guesses\": 2636}, {\"Guesses\": 2647}, {\"Guesses\": 2672}, {\"Guesses\": 2673}, {\"Guesses\": 2690}, {\"Guesses\": 2693}, {\"Guesses\": 2710}, {\"Guesses\": 2727}, {\"Guesses\": 2732}, {\"Guesses\": 2750}, {\"Guesses\": 2760}, {\"Guesses\": 2766}, {\"Guesses\": 2804}, {\"Guesses\": 2805}, {\"Guesses\": 2816}, {\"Guesses\": 2819}, {\"Guesses\": 2826}, {\"Guesses\": 2843}, {\"Guesses\": 2843}, {\"Guesses\": 2856}, {\"Guesses\": 2856}, {\"Guesses\": 2859}, {\"Guesses\": 2861}, {\"Guesses\": 2863}, {\"Guesses\": 2865}, {\"Guesses\": 2873}, {\"Guesses\": 2874}, {\"Guesses\": 2874}, {\"Guesses\": 2880}, {\"Guesses\": 2899}, {\"Guesses\": 2989}, {\"Guesses\": 2993}, {\"Guesses\": 3000}, {\"Guesses\": 3000}, {\"Guesses\": 3000}, {\"Guesses\": 3000}, {\"Guesses\": 3003}, {\"Guesses\": 3009}, {\"Guesses\": 3010}, {\"Guesses\": 3011}, {\"Guesses\": 3014}, {\"Guesses\": 3024}, {\"Guesses\": 3050}, {\"Guesses\": 3067}, {\"Guesses\": 3098}, {\"Guesses\": 3114}, {\"Guesses\": 3122}, {\"Guesses\": 3147}, {\"Guesses\": 3149}, {\"Guesses\": 3159}, {\"Guesses\": 3200}, {\"Guesses\": 3208}, {\"Guesses\": 3209}, {\"Guesses\": 3221}, {\"Guesses\": 3225}, {\"Guesses\": 3257}, {\"Guesses\": 3269}, {\"Guesses\": 3278}, {\"Guesses\": 3281}, {\"Guesses\": 3294}, {\"Guesses\": 3316}, {\"Guesses\": 3332}, {\"Guesses\": 3333}, {\"Guesses\": 3360}, {\"Guesses\": 3375}, {\"Guesses\": 3421}, {\"Guesses\": 3425}, {\"Guesses\": 3447}, {\"Guesses\": 3452}, {\"Guesses\": 3455}, {\"Guesses\": 3456}, {\"Guesses\": 3459}, {\"Guesses\": 3467}, {\"Guesses\": 3472}, {\"Guesses\": 3485}, {\"Guesses\": 3485}, {\"Guesses\": 3487}, {\"Guesses\": 3492}, {\"Guesses\": 3550}, {\"Guesses\": 3568}, {\"Guesses\": 3575}, {\"Guesses\": 3576}, {\"Guesses\": 3577}, {\"Guesses\": 3578}, {\"Guesses\": 3584}, {\"Guesses\": 3585}, {\"Guesses\": 3600}, {\"Guesses\": 3637}, {\"Guesses\": 3652}, {\"Guesses\": 3678}, {\"Guesses\": 3689}, {\"Guesses\": 3733}, {\"Guesses\": 3765}, {\"Guesses\": 3768}, {\"Guesses\": 3780}, {\"Guesses\": 3782}, {\"Guesses\": 3825}, {\"Guesses\": 3843}, {\"Guesses\": 3846}, {\"Guesses\": 3860}, {\"Guesses\": 3872}, {\"Guesses\": 3873}, {\"Guesses\": 3879}, {\"Guesses\": 3895}, {\"Guesses\": 3961}, {\"Guesses\": 3972}, {\"Guesses\": 3976}, {\"Guesses\": 3999}, {\"Guesses\": 4000}, {\"Guesses\": 4050}, {\"Guesses\": 4051}, {\"Guesses\": 4064}, {\"Guesses\": 4096}, {\"Guesses\": 4120}, {\"Guesses\": 4132}, {\"Guesses\": 4132}, {\"Guesses\": 4150}, {\"Guesses\": 4158}, {\"Guesses\": 4200}, {\"Guesses\": 4209}, {\"Guesses\": 4218}, {\"Guesses\": 4251}, {\"Guesses\": 4269}, {\"Guesses\": 4273}, {\"Guesses\": 4275}, {\"Guesses\": 4287}, {\"Guesses\": 4297}, {\"Guesses\": 4319}, {\"Guesses\": 4320}, {\"Guesses\": 4531}, {\"Guesses\": 4566}, {\"Guesses\": 4567}, {\"Guesses\": 4567}, {\"Guesses\": 4568}, {\"Guesses\": 4573}, {\"Guesses\": 4586}, {\"Guesses\": 4675}, {\"Guesses\": 4682}, {\"Guesses\": 4689}, {\"Guesses\": 4747}, {\"Guesses\": 4764}, {\"Guesses\": 4824}, {\"Guesses\": 4869}, {\"Guesses\": 4952}, {\"Guesses\": 4968}, {\"Guesses\": 5000}, {\"Guesses\": 5000}, {\"Guesses\": 5000}, {\"Guesses\": 5000}, {\"Guesses\": 5005}, {\"Guesses\": 5006}, {\"Guesses\": 5027}, {\"Guesses\": 5032}, {\"Guesses\": 5040}, {\"Guesses\": 5048}, {\"Guesses\": 5259}, {\"Guesses\": 5312}, {\"Guesses\": 5328}, {\"Guesses\": 5352}, {\"Guesses\": 5489}, {\"Guesses\": 5629}, {\"Guesses\": 5672}, {\"Guesses\": 5687}, {\"Guesses\": 5880}, {\"Guesses\": 5892}, {\"Guesses\": 5895}, {\"Guesses\": 5898}, {\"Guesses\": 5964}, {\"Guesses\": 5971}, {\"Guesses\": 6083}, {\"Guesses\": 6100}, {\"Guesses\": 6382}, {\"Guesses\": 6432}, {\"Guesses\": 6458}, {\"Guesses\": 6487}, {\"Guesses\": 6553}, {\"Guesses\": 6563}, {\"Guesses\": 6589}, {\"Guesses\": 6594}, {\"Guesses\": 6711}, {\"Guesses\": 6744}, {\"Guesses\": 6754}, {\"Guesses\": 7075}, {\"Guesses\": 7145}, {\"Guesses\": 7693}, {\"Guesses\": 7965}, {\"Guesses\": 8000}, {\"Guesses\": 8211}, {\"Guesses\": 8400}, {\"Guesses\": 8569}, {\"Guesses\": 9000}, {\"Guesses\": 9901}, {\"Guesses\": 9999}, {\"Guesses\": 9999}, {\"Guesses\": 9999}, {\"Guesses\": 9999}, {\"Guesses\": 9999}, {\"Guesses\": 9999}, {\"Guesses\": 9999}, {\"Guesses\": 9999}, {\"Guesses\": 9999}, {\"Guesses\": 10000}, {\"Guesses\": 10000}, {\"Guesses\": 10000}, {\"Guesses\": 10000}, {\"Guesses\": 10000}, {\"Guesses\": 10000}, {\"Guesses\": 10000}, {\"Guesses\": 10000}, {\"Guesses\": 10000}, {\"Guesses\": 10000}, {\"Guesses\": 10000}, {\"Guesses\": 10001}, {\"Guesses\": 10001}, {\"Guesses\": 10368}, {\"Guesses\": 10467}, {\"Guesses\": 11000}, {\"Guesses\": 11987}, {\"Guesses\": 12240}, {\"Guesses\": 12344}, {\"Guesses\": 14137}, {\"Guesses\": 14237}, {\"Guesses\": 18375}, {\"Guesses\": 21000}, {\"Guesses\": 31337}]}}, {\"mode\": \"vega-lite\"});\n",
       "</script>"
      ],
      "text/plain": [
       "alt.Chart(...)"
      ]
     },
     "execution_count": 118,
     "metadata": {},
     "output_type": "execute_result"
    }
   ],
   "source": [
    "stripplot = alt.Chart(df, title=alt.TitleParams(\"A\", anchor=\"start\"), height=150, width=600).mark_circle().encode(\n",
    "    alt.X(\"Guesses\",\n",
    "          title=None,\n",
    "          axis=no_axis,\n",
    "    ),\n",
    "    alt.Y(\"jitter:Q\",\n",
    "          title=None,\n",
    "          axis=alt.Axis(ticks=False, \n",
    "                        grid=False, \n",
    "                        labels=False\n",
    "                       ),\n",
    "    ),\n",
    "    \n",
    ").transform_calculate(\n",
    "    # Generate Gaussian jitter with a Box-Muller transform\n",
    "    jitter=\"sqrt(-2*log(random()))*cos(2*PI*random())\"\n",
    ")\n",
    "\n",
    "stripplot"
   ]
  },
  {
   "cell_type": "markdown",
   "metadata": {},
   "source": [
    "### Boxplot"
   ]
  },
  {
   "cell_type": "code",
   "execution_count": 109,
   "metadata": {},
   "outputs": [
    {
     "data": {
      "text/html": [
       "\n",
       "<div id=\"altair-viz-6d818509a89d436b92d2953948f3db2a\"></div>\n",
       "<script type=\"text/javascript\">\n",
       "  (function(spec, embedOpt){\n",
       "    let outputDiv = document.currentScript.previousElementSibling;\n",
       "    if (outputDiv.id !== \"altair-viz-6d818509a89d436b92d2953948f3db2a\") {\n",
       "      outputDiv = document.getElementById(\"altair-viz-6d818509a89d436b92d2953948f3db2a\");\n",
       "    }\n",
       "    const paths = {\n",
       "      \"vega\": \"https://cdn.jsdelivr.net/npm//vega@5?noext\",\n",
       "      \"vega-lib\": \"https://cdn.jsdelivr.net/npm//vega-lib?noext\",\n",
       "      \"vega-lite\": \"https://cdn.jsdelivr.net/npm//vega-lite@4.8.1?noext\",\n",
       "      \"vega-embed\": \"https://cdn.jsdelivr.net/npm//vega-embed@6?noext\",\n",
       "    };\n",
       "\n",
       "    function loadScript(lib) {\n",
       "      return new Promise(function(resolve, reject) {\n",
       "        var s = document.createElement('script');\n",
       "        s.src = paths[lib];\n",
       "        s.async = true;\n",
       "        s.onload = () => resolve(paths[lib]);\n",
       "        s.onerror = () => reject(`Error loading script: ${paths[lib]}`);\n",
       "        document.getElementsByTagName(\"head\")[0].appendChild(s);\n",
       "      });\n",
       "    }\n",
       "\n",
       "    function showError(err) {\n",
       "      outputDiv.innerHTML = `<div class=\"error\" style=\"color:red;\">${err}</div>`;\n",
       "      throw err;\n",
       "    }\n",
       "\n",
       "    function displayChart(vegaEmbed) {\n",
       "      vegaEmbed(outputDiv, spec, embedOpt)\n",
       "        .catch(err => showError(`Javascript Error: ${err.message}<br>This usually means there's a typo in your chart specification. See the javascript console for the full traceback.`));\n",
       "    }\n",
       "\n",
       "    if(typeof define === \"function\" && define.amd) {\n",
       "      requirejs.config({paths});\n",
       "      require([\"vega-embed\"], displayChart, err => showError(`Error loading script: ${err.message}`));\n",
       "    } else if (typeof vegaEmbed === \"function\") {\n",
       "      displayChart(vegaEmbed);\n",
       "    } else {\n",
       "      loadScript(\"vega\")\n",
       "        .then(() => loadScript(\"vega-lite\"))\n",
       "        .then(() => loadScript(\"vega-embed\"))\n",
       "        .catch(showError)\n",
       "        .then(() => displayChart(vegaEmbed));\n",
       "    }\n",
       "  })({\"config\": {\"view\": {\"continuousWidth\": 400, \"continuousHeight\": 300}}, \"data\": {\"name\": \"data-b866206b10a006b04c1367cfa42bb9e8\"}, \"mark\": {\"type\": \"boxplot\", \"size\": 140}, \"encoding\": {\"x\": {\"type\": \"quantitative\", \"axis\": {\"grid\": true, \"labels\": false, \"ticks\": false, \"values\": [0, 5000, 10000, 15000, 20000, 25000, 30000]}, \"field\": \"Guesses\", \"title\": null}}, \"height\": 150, \"title\": {\"text\": \"(b)\", \"anchor\": \"start\"}, \"width\": 600, \"$schema\": \"https://vega.github.io/schema/vega-lite/v4.8.1.json\", \"datasets\": {\"data-b866206b10a006b04c1367cfa42bb9e8\": [{\"Guesses\": 219}, {\"Guesses\": 244}, {\"Guesses\": 260}, {\"Guesses\": 269}, {\"Guesses\": 273}, {\"Guesses\": 280}, {\"Guesses\": 300}, {\"Guesses\": 333}, {\"Guesses\": 361}, {\"Guesses\": 400}, {\"Guesses\": 421}, {\"Guesses\": 436}, {\"Guesses\": 441}, {\"Guesses\": 444}, {\"Guesses\": 450}, {\"Guesses\": 450}, {\"Guesses\": 450}, {\"Guesses\": 452}, {\"Guesses\": 458}, {\"Guesses\": 465}, {\"Guesses\": 466}, {\"Guesses\": 467}, {\"Guesses\": 475}, {\"Guesses\": 480}, {\"Guesses\": 486}, {\"Guesses\": 496}, {\"Guesses\": 496}, {\"Guesses\": 500}, {\"Guesses\": 512}, {\"Guesses\": 512}, {\"Guesses\": 514}, {\"Guesses\": 527}, {\"Guesses\": 529}, {\"Guesses\": 536}, {\"Guesses\": 542}, {\"Guesses\": 549}, {\"Guesses\": 553}, {\"Guesses\": 557}, {\"Guesses\": 557}, {\"Guesses\": 562}, {\"Guesses\": 563}, {\"Guesses\": 575}, {\"Guesses\": 575}, {\"Guesses\": 576}, {\"Guesses\": 601}, {\"Guesses\": 603}, {\"Guesses\": 604}, {\"Guesses\": 606}, {\"Guesses\": 611}, {\"Guesses\": 612}, {\"Guesses\": 620}, {\"Guesses\": 622}, {\"Guesses\": 627}, {\"Guesses\": 627}, {\"Guesses\": 628}, {\"Guesses\": 631}, {\"Guesses\": 643}, {\"Guesses\": 650}, {\"Guesses\": 653}, {\"Guesses\": 655}, {\"Guesses\": 657}, {\"Guesses\": 658}, {\"Guesses\": 665}, {\"Guesses\": 666}, {\"Guesses\": 666}, {\"Guesses\": 667}, {\"Guesses\": 668}, {\"Guesses\": 668}, {\"Guesses\": 672}, {\"Guesses\": 674}, {\"Guesses\": 680}, {\"Guesses\": 687}, {\"Guesses\": 692}, {\"Guesses\": 697}, {\"Guesses\": 697}, {\"Guesses\": 698}, {\"Guesses\": 699}, {\"Guesses\": 700}, {\"Guesses\": 706}, {\"Guesses\": 712}, {\"Guesses\": 716}, {\"Guesses\": 722}, {\"Guesses\": 728}, {\"Guesses\": 728}, {\"Guesses\": 731}, {\"Guesses\": 736}, {\"Guesses\": 737}, {\"Guesses\": 738}, {\"Guesses\": 740}, {\"Guesses\": 742}, {\"Guesses\": 748}, {\"Guesses\": 748}, {\"Guesses\": 749}, {\"Guesses\": 754}, {\"Guesses\": 756}, {\"Guesses\": 756}, {\"Guesses\": 780}, {\"Guesses\": 793}, {\"Guesses\": 794}, {\"Guesses\": 800}, {\"Guesses\": 801}, {\"Guesses\": 801}, {\"Guesses\": 801}, {\"Guesses\": 812}, {\"Guesses\": 815}, {\"Guesses\": 817}, {\"Guesses\": 819}, {\"Guesses\": 819}, {\"Guesses\": 822}, {\"Guesses\": 824}, {\"Guesses\": 826}, {\"Guesses\": 826}, {\"Guesses\": 831}, {\"Guesses\": 839}, {\"Guesses\": 843}, {\"Guesses\": 843}, {\"Guesses\": 843}, {\"Guesses\": 844}, {\"Guesses\": 845}, {\"Guesses\": 846}, {\"Guesses\": 849}, {\"Guesses\": 850}, {\"Guesses\": 850}, {\"Guesses\": 853}, {\"Guesses\": 854}, {\"Guesses\": 855}, {\"Guesses\": 856}, {\"Guesses\": 863}, {\"Guesses\": 863}, {\"Guesses\": 863}, {\"Guesses\": 870}, {\"Guesses\": 874}, {\"Guesses\": 874}, {\"Guesses\": 874}, {\"Guesses\": 881}, {\"Guesses\": 886}, {\"Guesses\": 888}, {\"Guesses\": 889}, {\"Guesses\": 893}, {\"Guesses\": 895}, {\"Guesses\": 896}, {\"Guesses\": 897}, {\"Guesses\": 898}, {\"Guesses\": 898}, {\"Guesses\": 899}, {\"Guesses\": 899}, {\"Guesses\": 900}, {\"Guesses\": 900}, {\"Guesses\": 900}, {\"Guesses\": 907}, {\"Guesses\": 907}, {\"Guesses\": 912}, {\"Guesses\": 913}, {\"Guesses\": 913}, {\"Guesses\": 920}, {\"Guesses\": 924}, {\"Guesses\": 929}, {\"Guesses\": 929}, {\"Guesses\": 929}, {\"Guesses\": 930}, {\"Guesses\": 930}, {\"Guesses\": 930}, {\"Guesses\": 931}, {\"Guesses\": 931}, {\"Guesses\": 936}, {\"Guesses\": 937}, {\"Guesses\": 942}, {\"Guesses\": 942}, {\"Guesses\": 942}, {\"Guesses\": 946}, {\"Guesses\": 946}, {\"Guesses\": 946}, {\"Guesses\": 947}, {\"Guesses\": 950}, {\"Guesses\": 953}, {\"Guesses\": 956}, {\"Guesses\": 957}, {\"Guesses\": 957}, {\"Guesses\": 958}, {\"Guesses\": 960}, {\"Guesses\": 962}, {\"Guesses\": 964}, {\"Guesses\": 965}, {\"Guesses\": 965}, {\"Guesses\": 972}, {\"Guesses\": 974}, {\"Guesses\": 976}, {\"Guesses\": 977}, {\"Guesses\": 978}, {\"Guesses\": 979}, {\"Guesses\": 983}, {\"Guesses\": 983}, {\"Guesses\": 984}, {\"Guesses\": 987}, {\"Guesses\": 987}, {\"Guesses\": 992}, {\"Guesses\": 995}, {\"Guesses\": 999}, {\"Guesses\": 1000}, {\"Guesses\": 1000}, {\"Guesses\": 1000}, {\"Guesses\": 1000}, {\"Guesses\": 1000}, {\"Guesses\": 1000}, {\"Guesses\": 1000}, {\"Guesses\": 1001}, {\"Guesses\": 1009}, {\"Guesses\": 1013}, {\"Guesses\": 1020}, {\"Guesses\": 1021}, {\"Guesses\": 1023}, {\"Guesses\": 1036}, {\"Guesses\": 1037}, {\"Guesses\": 1039}, {\"Guesses\": 1044}, {\"Guesses\": 1044}, {\"Guesses\": 1046}, {\"Guesses\": 1050}, {\"Guesses\": 1054}, {\"Guesses\": 1065}, {\"Guesses\": 1082}, {\"Guesses\": 1084}, {\"Guesses\": 1085}, {\"Guesses\": 1089}, {\"Guesses\": 1096}, {\"Guesses\": 1099}, {\"Guesses\": 1100}, {\"Guesses\": 1105}, {\"Guesses\": 1109}, {\"Guesses\": 1111}, {\"Guesses\": 1112}, {\"Guesses\": 1115}, {\"Guesses\": 1121}, {\"Guesses\": 1123}, {\"Guesses\": 1123}, {\"Guesses\": 1128}, {\"Guesses\": 1131}, {\"Guesses\": 1143}, {\"Guesses\": 1146}, {\"Guesses\": 1150}, {\"Guesses\": 1154}, {\"Guesses\": 1154}, {\"Guesses\": 1177}, {\"Guesses\": 1178}, {\"Guesses\": 1189}, {\"Guesses\": 1197}, {\"Guesses\": 1198}, {\"Guesses\": 1198}, {\"Guesses\": 1198}, {\"Guesses\": 1198}, {\"Guesses\": 1198}, {\"Guesses\": 1199}, {\"Guesses\": 1200}, {\"Guesses\": 1200}, {\"Guesses\": 1200}, {\"Guesses\": 1200}, {\"Guesses\": 1202}, {\"Guesses\": 1204}, {\"Guesses\": 1206}, {\"Guesses\": 1210}, {\"Guesses\": 1212}, {\"Guesses\": 1216}, {\"Guesses\": 1216}, {\"Guesses\": 1221}, {\"Guesses\": 1221}, {\"Guesses\": 1225}, {\"Guesses\": 1226}, {\"Guesses\": 1231}, {\"Guesses\": 1233}, {\"Guesses\": 1234}, {\"Guesses\": 1234}, {\"Guesses\": 1234}, {\"Guesses\": 1234}, {\"Guesses\": 1234}, {\"Guesses\": 1241}, {\"Guesses\": 1245}, {\"Guesses\": 1250}, {\"Guesses\": 1254}, {\"Guesses\": 1255}, {\"Guesses\": 1256}, {\"Guesses\": 1256}, {\"Guesses\": 1257}, {\"Guesses\": 1257}, {\"Guesses\": 1260}, {\"Guesses\": 1264}, {\"Guesses\": 1274}, {\"Guesses\": 1275}, {\"Guesses\": 1276}, {\"Guesses\": 1280}, {\"Guesses\": 1280}, {\"Guesses\": 1283}, {\"Guesses\": 1283}, {\"Guesses\": 1286}, {\"Guesses\": 1286}, {\"Guesses\": 1293}, {\"Guesses\": 1295}, {\"Guesses\": 1296}, {\"Guesses\": 1296}, {\"Guesses\": 1296}, {\"Guesses\": 1298}, {\"Guesses\": 1300}, {\"Guesses\": 1300}, {\"Guesses\": 1300}, {\"Guesses\": 1301}, {\"Guesses\": 1312}, {\"Guesses\": 1313}, {\"Guesses\": 1320}, {\"Guesses\": 1332}, {\"Guesses\": 1334}, {\"Guesses\": 1336}, {\"Guesses\": 1336}, {\"Guesses\": 1337}, {\"Guesses\": 1337}, {\"Guesses\": 1337}, {\"Guesses\": 1337}, {\"Guesses\": 1337}, {\"Guesses\": 1337}, {\"Guesses\": 1337}, {\"Guesses\": 1337}, {\"Guesses\": 1337}, {\"Guesses\": 1338}, {\"Guesses\": 1342}, {\"Guesses\": 1348}, {\"Guesses\": 1349}, {\"Guesses\": 1350}, {\"Guesses\": 1350}, {\"Guesses\": 1350}, {\"Guesses\": 1353}, {\"Guesses\": 1356}, {\"Guesses\": 1364}, {\"Guesses\": 1372}, {\"Guesses\": 1372}, {\"Guesses\": 1385}, {\"Guesses\": 1385}, {\"Guesses\": 1387}, {\"Guesses\": 1389}, {\"Guesses\": 1389}, {\"Guesses\": 1394}, {\"Guesses\": 1396}, {\"Guesses\": 1396}, {\"Guesses\": 1399}, {\"Guesses\": 1399}, {\"Guesses\": 1403}, {\"Guesses\": 1404}, {\"Guesses\": 1411}, {\"Guesses\": 1412}, {\"Guesses\": 1414}, {\"Guesses\": 1422}, {\"Guesses\": 1423}, {\"Guesses\": 1428}, {\"Guesses\": 1428}, {\"Guesses\": 1432}, {\"Guesses\": 1432}, {\"Guesses\": 1437}, {\"Guesses\": 1440}, {\"Guesses\": 1445}, {\"Guesses\": 1450}, {\"Guesses\": 1452}, {\"Guesses\": 1452}, {\"Guesses\": 1467}, {\"Guesses\": 1469}, {\"Guesses\": 1473}, {\"Guesses\": 1479}, {\"Guesses\": 1481}, {\"Guesses\": 1485}, {\"Guesses\": 1486}, {\"Guesses\": 1487}, {\"Guesses\": 1495}, {\"Guesses\": 1496}, {\"Guesses\": 1498}, {\"Guesses\": 1499}, {\"Guesses\": 1499}, {\"Guesses\": 1499}, {\"Guesses\": 1499}, {\"Guesses\": 1500}, {\"Guesses\": 1500}, {\"Guesses\": 1500}, {\"Guesses\": 1500}, {\"Guesses\": 1500}, {\"Guesses\": 1500}, {\"Guesses\": 1506}, {\"Guesses\": 1514}, {\"Guesses\": 1517}, {\"Guesses\": 1527}, {\"Guesses\": 1528}, {\"Guesses\": 1529}, {\"Guesses\": 1530}, {\"Guesses\": 1530}, {\"Guesses\": 1541}, {\"Guesses\": 1546}, {\"Guesses\": 1546}, {\"Guesses\": 1548}, {\"Guesses\": 1548}, {\"Guesses\": 1562}, {\"Guesses\": 1563}, {\"Guesses\": 1563}, {\"Guesses\": 1567}, {\"Guesses\": 1567}, {\"Guesses\": 1569}, {\"Guesses\": 1570}, {\"Guesses\": 1573}, {\"Guesses\": 1575}, {\"Guesses\": 1577}, {\"Guesses\": 1581}, {\"Guesses\": 1582}, {\"Guesses\": 1589}, {\"Guesses\": 1598}, {\"Guesses\": 1599}, {\"Guesses\": 1600}, {\"Guesses\": 1600}, {\"Guesses\": 1601}, {\"Guesses\": 1613}, {\"Guesses\": 1616}, {\"Guesses\": 1622}, {\"Guesses\": 1628}, {\"Guesses\": 1629}, {\"Guesses\": 1631}, {\"Guesses\": 1632}, {\"Guesses\": 1633}, {\"Guesses\": 1647}, {\"Guesses\": 1649}, {\"Guesses\": 1649}, {\"Guesses\": 1656}, {\"Guesses\": 1669}, {\"Guesses\": 1676}, {\"Guesses\": 1681}, {\"Guesses\": 1696}, {\"Guesses\": 1696}, {\"Guesses\": 1697}, {\"Guesses\": 1699}, {\"Guesses\": 1700}, {\"Guesses\": 1700}, {\"Guesses\": 1706}, {\"Guesses\": 1710}, {\"Guesses\": 1723}, {\"Guesses\": 1724}, {\"Guesses\": 1724}, {\"Guesses\": 1728}, {\"Guesses\": 1728}, {\"Guesses\": 1728}, {\"Guesses\": 1729}, {\"Guesses\": 1729}, {\"Guesses\": 1729}, {\"Guesses\": 1733}, {\"Guesses\": 1734}, {\"Guesses\": 1738}, {\"Guesses\": 1738}, {\"Guesses\": 1746}, {\"Guesses\": 1749}, {\"Guesses\": 1752}, {\"Guesses\": 1754}, {\"Guesses\": 1756}, {\"Guesses\": 1758}, {\"Guesses\": 1760}, {\"Guesses\": 1765}, {\"Guesses\": 1769}, {\"Guesses\": 1771}, {\"Guesses\": 1775}, {\"Guesses\": 1776}, {\"Guesses\": 1777}, {\"Guesses\": 1780}, {\"Guesses\": 1782}, {\"Guesses\": 1785}, {\"Guesses\": 1785}, {\"Guesses\": 1796}, {\"Guesses\": 1798}, {\"Guesses\": 1799}, {\"Guesses\": 1800}, {\"Guesses\": 1800}, {\"Guesses\": 1800}, {\"Guesses\": 1800}, {\"Guesses\": 1800}, {\"Guesses\": 1800}, {\"Guesses\": 1800}, {\"Guesses\": 1800}, {\"Guesses\": 1821}, {\"Guesses\": 1826}, {\"Guesses\": 1826}, {\"Guesses\": 1833}, {\"Guesses\": 1836}, {\"Guesses\": 1836}, {\"Guesses\": 1836}, {\"Guesses\": 1836}, {\"Guesses\": 1837}, {\"Guesses\": 1845}, {\"Guesses\": 1847}, {\"Guesses\": 1848}, {\"Guesses\": 1850}, {\"Guesses\": 1856}, {\"Guesses\": 1860}, {\"Guesses\": 1867}, {\"Guesses\": 1870}, {\"Guesses\": 1871}, {\"Guesses\": 1879}, {\"Guesses\": 1879}, {\"Guesses\": 1880}, {\"Guesses\": 1880}, {\"Guesses\": 1887}, {\"Guesses\": 1889}, {\"Guesses\": 1890}, {\"Guesses\": 1890}, {\"Guesses\": 1892}, {\"Guesses\": 1899}, {\"Guesses\": 1903}, {\"Guesses\": 1906}, {\"Guesses\": 1906}, {\"Guesses\": 1908}, {\"Guesses\": 1910}, {\"Guesses\": 1919}, {\"Guesses\": 1920}, {\"Guesses\": 1927}, {\"Guesses\": 1931}, {\"Guesses\": 1931}, {\"Guesses\": 1932}, {\"Guesses\": 1937}, {\"Guesses\": 1944}, {\"Guesses\": 1962}, {\"Guesses\": 1964}, {\"Guesses\": 1975}, {\"Guesses\": 1980}, {\"Guesses\": 1982}, {\"Guesses\": 1983}, {\"Guesses\": 1985}, {\"Guesses\": 1985}, {\"Guesses\": 1989}, {\"Guesses\": 1993}, {\"Guesses\": 1994}, {\"Guesses\": 1997}, {\"Guesses\": 1998}, {\"Guesses\": 2000}, {\"Guesses\": 2000}, {\"Guesses\": 2000}, {\"Guesses\": 2000}, {\"Guesses\": 2000}, {\"Guesses\": 2000}, {\"Guesses\": 2000}, {\"Guesses\": 2000}, {\"Guesses\": 2010}, {\"Guesses\": 2011}, {\"Guesses\": 2011}, {\"Guesses\": 2011}, {\"Guesses\": 2012}, {\"Guesses\": 2012}, {\"Guesses\": 2013}, {\"Guesses\": 2013}, {\"Guesses\": 2014}, {\"Guesses\": 2016}, {\"Guesses\": 2020}, {\"Guesses\": 2020}, {\"Guesses\": 2020}, {\"Guesses\": 2032}, {\"Guesses\": 2036}, {\"Guesses\": 2038}, {\"Guesses\": 2041}, {\"Guesses\": 2042}, {\"Guesses\": 2045}, {\"Guesses\": 2049}, {\"Guesses\": 2052}, {\"Guesses\": 2054}, {\"Guesses\": 2056}, {\"Guesses\": 2057}, {\"Guesses\": 2059}, {\"Guesses\": 2060}, {\"Guesses\": 2069}, {\"Guesses\": 2072}, {\"Guesses\": 2075}, {\"Guesses\": 2079}, {\"Guesses\": 2081}, {\"Guesses\": 2081}, {\"Guesses\": 2087}, {\"Guesses\": 2097}, {\"Guesses\": 2104}, {\"Guesses\": 2111}, {\"Guesses\": 2112}, {\"Guesses\": 2119}, {\"Guesses\": 2127}, {\"Guesses\": 2128}, {\"Guesses\": 2133}, {\"Guesses\": 2135}, {\"Guesses\": 2135}, {\"Guesses\": 2137}, {\"Guesses\": 2147}, {\"Guesses\": 2147}, {\"Guesses\": 2150}, {\"Guesses\": 2153}, {\"Guesses\": 2153}, {\"Guesses\": 2159}, {\"Guesses\": 2159}, {\"Guesses\": 2164}, {\"Guesses\": 2164}, {\"Guesses\": 2165}, {\"Guesses\": 2165}, {\"Guesses\": 2168}, {\"Guesses\": 2168}, {\"Guesses\": 2175}, {\"Guesses\": 2176}, {\"Guesses\": 2177}, {\"Guesses\": 2178}, {\"Guesses\": 2189}, {\"Guesses\": 2190}, {\"Guesses\": 2225}, {\"Guesses\": 2233}, {\"Guesses\": 2243}, {\"Guesses\": 2245}, {\"Guesses\": 2248}, {\"Guesses\": 2249}, {\"Guesses\": 2253}, {\"Guesses\": 2258}, {\"Guesses\": 2262}, {\"Guesses\": 2268}, {\"Guesses\": 2268}, {\"Guesses\": 2279}, {\"Guesses\": 2284}, {\"Guesses\": 2292}, {\"Guesses\": 2299}, {\"Guesses\": 2299}, {\"Guesses\": 2299}, {\"Guesses\": 2301}, {\"Guesses\": 2314}, {\"Guesses\": 2317}, {\"Guesses\": 2323}, {\"Guesses\": 2328}, {\"Guesses\": 2333}, {\"Guesses\": 2338}, {\"Guesses\": 2340}, {\"Guesses\": 2345}, {\"Guesses\": 2345}, {\"Guesses\": 2345}, {\"Guesses\": 2353}, {\"Guesses\": 2354}, {\"Guesses\": 2359}, {\"Guesses\": 2362}, {\"Guesses\": 2365}, {\"Guesses\": 2369}, {\"Guesses\": 2374}, {\"Guesses\": 2374}, {\"Guesses\": 2383}, {\"Guesses\": 2401}, {\"Guesses\": 2421}, {\"Guesses\": 2423}, {\"Guesses\": 2427}, {\"Guesses\": 2432}, {\"Guesses\": 2445}, {\"Guesses\": 2445}, {\"Guesses\": 2447}, {\"Guesses\": 2447}, {\"Guesses\": 2448}, {\"Guesses\": 2450}, {\"Guesses\": 2451}, {\"Guesses\": 2456}, {\"Guesses\": 2458}, {\"Guesses\": 2463}, {\"Guesses\": 2466}, {\"Guesses\": 2467}, {\"Guesses\": 2472}, {\"Guesses\": 2473}, {\"Guesses\": 2483}, {\"Guesses\": 2486}, {\"Guesses\": 2494}, {\"Guesses\": 2495}, {\"Guesses\": 2497}, {\"Guesses\": 2499}, {\"Guesses\": 2500}, {\"Guesses\": 2500}, {\"Guesses\": 2500}, {\"Guesses\": 2500}, {\"Guesses\": 2527}, {\"Guesses\": 2533}, {\"Guesses\": 2537}, {\"Guesses\": 2540}, {\"Guesses\": 2541}, {\"Guesses\": 2542}, {\"Guesses\": 2544}, {\"Guesses\": 2546}, {\"Guesses\": 2547}, {\"Guesses\": 2547}, {\"Guesses\": 2549}, {\"Guesses\": 2553}, {\"Guesses\": 2562}, {\"Guesses\": 2562}, {\"Guesses\": 2567}, {\"Guesses\": 2568}, {\"Guesses\": 2568}, {\"Guesses\": 2586}, {\"Guesses\": 2596}, {\"Guesses\": 2599}, {\"Guesses\": 2600}, {\"Guesses\": 2600}, {\"Guesses\": 2600}, {\"Guesses\": 2609}, {\"Guesses\": 2636}, {\"Guesses\": 2647}, {\"Guesses\": 2672}, {\"Guesses\": 2673}, {\"Guesses\": 2690}, {\"Guesses\": 2693}, {\"Guesses\": 2710}, {\"Guesses\": 2727}, {\"Guesses\": 2732}, {\"Guesses\": 2750}, {\"Guesses\": 2760}, {\"Guesses\": 2766}, {\"Guesses\": 2804}, {\"Guesses\": 2805}, {\"Guesses\": 2816}, {\"Guesses\": 2819}, {\"Guesses\": 2826}, {\"Guesses\": 2843}, {\"Guesses\": 2843}, {\"Guesses\": 2856}, {\"Guesses\": 2856}, {\"Guesses\": 2859}, {\"Guesses\": 2861}, {\"Guesses\": 2863}, {\"Guesses\": 2865}, {\"Guesses\": 2873}, {\"Guesses\": 2874}, {\"Guesses\": 2874}, {\"Guesses\": 2880}, {\"Guesses\": 2899}, {\"Guesses\": 2989}, {\"Guesses\": 2993}, {\"Guesses\": 3000}, {\"Guesses\": 3000}, {\"Guesses\": 3000}, {\"Guesses\": 3000}, {\"Guesses\": 3003}, {\"Guesses\": 3009}, {\"Guesses\": 3010}, {\"Guesses\": 3011}, {\"Guesses\": 3014}, {\"Guesses\": 3024}, {\"Guesses\": 3050}, {\"Guesses\": 3067}, {\"Guesses\": 3098}, {\"Guesses\": 3114}, {\"Guesses\": 3122}, {\"Guesses\": 3147}, {\"Guesses\": 3149}, {\"Guesses\": 3159}, {\"Guesses\": 3200}, {\"Guesses\": 3208}, {\"Guesses\": 3209}, {\"Guesses\": 3221}, {\"Guesses\": 3225}, {\"Guesses\": 3257}, {\"Guesses\": 3269}, {\"Guesses\": 3278}, {\"Guesses\": 3281}, {\"Guesses\": 3294}, {\"Guesses\": 3316}, {\"Guesses\": 3332}, {\"Guesses\": 3333}, {\"Guesses\": 3360}, {\"Guesses\": 3375}, {\"Guesses\": 3421}, {\"Guesses\": 3425}, {\"Guesses\": 3447}, {\"Guesses\": 3452}, {\"Guesses\": 3455}, {\"Guesses\": 3456}, {\"Guesses\": 3459}, {\"Guesses\": 3467}, {\"Guesses\": 3472}, {\"Guesses\": 3485}, {\"Guesses\": 3485}, {\"Guesses\": 3487}, {\"Guesses\": 3492}, {\"Guesses\": 3550}, {\"Guesses\": 3568}, {\"Guesses\": 3575}, {\"Guesses\": 3576}, {\"Guesses\": 3577}, {\"Guesses\": 3578}, {\"Guesses\": 3584}, {\"Guesses\": 3585}, {\"Guesses\": 3600}, {\"Guesses\": 3637}, {\"Guesses\": 3652}, {\"Guesses\": 3678}, {\"Guesses\": 3689}, {\"Guesses\": 3733}, {\"Guesses\": 3765}, {\"Guesses\": 3768}, {\"Guesses\": 3780}, {\"Guesses\": 3782}, {\"Guesses\": 3825}, {\"Guesses\": 3843}, {\"Guesses\": 3846}, {\"Guesses\": 3860}, {\"Guesses\": 3872}, {\"Guesses\": 3873}, {\"Guesses\": 3879}, {\"Guesses\": 3895}, {\"Guesses\": 3961}, {\"Guesses\": 3972}, {\"Guesses\": 3976}, {\"Guesses\": 3999}, {\"Guesses\": 4000}, {\"Guesses\": 4050}, {\"Guesses\": 4051}, {\"Guesses\": 4064}, {\"Guesses\": 4096}, {\"Guesses\": 4120}, {\"Guesses\": 4132}, {\"Guesses\": 4132}, {\"Guesses\": 4150}, {\"Guesses\": 4158}, {\"Guesses\": 4200}, {\"Guesses\": 4209}, {\"Guesses\": 4218}, {\"Guesses\": 4251}, {\"Guesses\": 4269}, {\"Guesses\": 4273}, {\"Guesses\": 4275}, {\"Guesses\": 4287}, {\"Guesses\": 4297}, {\"Guesses\": 4319}, {\"Guesses\": 4320}, {\"Guesses\": 4531}, {\"Guesses\": 4566}, {\"Guesses\": 4567}, {\"Guesses\": 4567}, {\"Guesses\": 4568}, {\"Guesses\": 4573}, {\"Guesses\": 4586}, {\"Guesses\": 4675}, {\"Guesses\": 4682}, {\"Guesses\": 4689}, {\"Guesses\": 4747}, {\"Guesses\": 4764}, {\"Guesses\": 4824}, {\"Guesses\": 4869}, {\"Guesses\": 4952}, {\"Guesses\": 4968}, {\"Guesses\": 5000}, {\"Guesses\": 5000}, {\"Guesses\": 5000}, {\"Guesses\": 5000}, {\"Guesses\": 5005}, {\"Guesses\": 5006}, {\"Guesses\": 5027}, {\"Guesses\": 5032}, {\"Guesses\": 5040}, {\"Guesses\": 5048}, {\"Guesses\": 5259}, {\"Guesses\": 5312}, {\"Guesses\": 5328}, {\"Guesses\": 5352}, {\"Guesses\": 5489}, {\"Guesses\": 5629}, {\"Guesses\": 5672}, {\"Guesses\": 5687}, {\"Guesses\": 5880}, {\"Guesses\": 5892}, {\"Guesses\": 5895}, {\"Guesses\": 5898}, {\"Guesses\": 5964}, {\"Guesses\": 5971}, {\"Guesses\": 6083}, {\"Guesses\": 6100}, {\"Guesses\": 6382}, {\"Guesses\": 6432}, {\"Guesses\": 6458}, {\"Guesses\": 6487}, {\"Guesses\": 6553}, {\"Guesses\": 6563}, {\"Guesses\": 6589}, {\"Guesses\": 6594}, {\"Guesses\": 6711}, {\"Guesses\": 6744}, {\"Guesses\": 6754}, {\"Guesses\": 7075}, {\"Guesses\": 7145}, {\"Guesses\": 7693}, {\"Guesses\": 7965}, {\"Guesses\": 8000}, {\"Guesses\": 8211}, {\"Guesses\": 8400}, {\"Guesses\": 8569}, {\"Guesses\": 9000}, {\"Guesses\": 9901}, {\"Guesses\": 9999}, {\"Guesses\": 9999}, {\"Guesses\": 9999}, {\"Guesses\": 9999}, {\"Guesses\": 9999}, {\"Guesses\": 9999}, {\"Guesses\": 9999}, {\"Guesses\": 9999}, {\"Guesses\": 9999}, {\"Guesses\": 10000}, {\"Guesses\": 10000}, {\"Guesses\": 10000}, {\"Guesses\": 10000}, {\"Guesses\": 10000}, {\"Guesses\": 10000}, {\"Guesses\": 10000}, {\"Guesses\": 10000}, {\"Guesses\": 10000}, {\"Guesses\": 10000}, {\"Guesses\": 10000}, {\"Guesses\": 10001}, {\"Guesses\": 10001}, {\"Guesses\": 10368}, {\"Guesses\": 10467}, {\"Guesses\": 11000}, {\"Guesses\": 11987}, {\"Guesses\": 12240}, {\"Guesses\": 12344}, {\"Guesses\": 14137}, {\"Guesses\": 14237}, {\"Guesses\": 18375}, {\"Guesses\": 21000}, {\"Guesses\": 31337}]}}, {\"mode\": \"vega-lite\"});\n",
       "</script>"
      ],
      "text/plain": [
       "alt.Chart(...)"
      ]
     },
     "execution_count": 109,
     "metadata": {},
     "output_type": "execute_result"
    }
   ],
   "source": [
    "boxplot = alt.Chart(df, title=alt.TitleParams(\"(b)\", anchor=\"start\"), height=150, width=600).mark_boxplot(size=140).encode(\n",
    "    alt.X(\"Guesses\",\n",
    "          title=None,\n",
    "          axis=no_axis,          \n",
    "    ),\n",
    ")\n",
    "boxplot"
   ]
  },
  {
   "cell_type": "markdown",
   "metadata": {},
   "source": [
    "### Histogram"
   ]
  },
  {
   "cell_type": "code",
   "execution_count": 134,
   "metadata": {},
   "outputs": [
    {
     "data": {
      "text/html": [
       "\n",
       "<div id=\"altair-viz-2f3725e501cd45958ee01b5ab5432d97\"></div>\n",
       "<script type=\"text/javascript\">\n",
       "  (function(spec, embedOpt){\n",
       "    let outputDiv = document.currentScript.previousElementSibling;\n",
       "    if (outputDiv.id !== \"altair-viz-2f3725e501cd45958ee01b5ab5432d97\") {\n",
       "      outputDiv = document.getElementById(\"altair-viz-2f3725e501cd45958ee01b5ab5432d97\");\n",
       "    }\n",
       "    const paths = {\n",
       "      \"vega\": \"https://cdn.jsdelivr.net/npm//vega@5?noext\",\n",
       "      \"vega-lib\": \"https://cdn.jsdelivr.net/npm//vega-lib?noext\",\n",
       "      \"vega-lite\": \"https://cdn.jsdelivr.net/npm//vega-lite@4.8.1?noext\",\n",
       "      \"vega-embed\": \"https://cdn.jsdelivr.net/npm//vega-embed@6?noext\",\n",
       "    };\n",
       "\n",
       "    function loadScript(lib) {\n",
       "      return new Promise(function(resolve, reject) {\n",
       "        var s = document.createElement('script');\n",
       "        s.src = paths[lib];\n",
       "        s.async = true;\n",
       "        s.onload = () => resolve(paths[lib]);\n",
       "        s.onerror = () => reject(`Error loading script: ${paths[lib]}`);\n",
       "        document.getElementsByTagName(\"head\")[0].appendChild(s);\n",
       "      });\n",
       "    }\n",
       "\n",
       "    function showError(err) {\n",
       "      outputDiv.innerHTML = `<div class=\"error\" style=\"color:red;\">${err}</div>`;\n",
       "      throw err;\n",
       "    }\n",
       "\n",
       "    function displayChart(vegaEmbed) {\n",
       "      vegaEmbed(outputDiv, spec, embedOpt)\n",
       "        .catch(err => showError(`Javascript Error: ${err.message}<br>This usually means there's a typo in your chart specification. See the javascript console for the full traceback.`));\n",
       "    }\n",
       "\n",
       "    if(typeof define === \"function\" && define.amd) {\n",
       "      requirejs.config({paths});\n",
       "      require([\"vega-embed\"], displayChart, err => showError(`Error loading script: ${err.message}`));\n",
       "    } else if (typeof vegaEmbed === \"function\") {\n",
       "      displayChart(vegaEmbed);\n",
       "    } else {\n",
       "      loadScript(\"vega\")\n",
       "        .then(() => loadScript(\"vega-lite\"))\n",
       "        .then(() => loadScript(\"vega-embed\"))\n",
       "        .catch(showError)\n",
       "        .then(() => displayChart(vegaEmbed));\n",
       "    }\n",
       "  })({\"config\": {\"view\": {\"continuousWidth\": 400, \"continuousHeight\": 300}}, \"data\": {\"name\": \"data-b866206b10a006b04c1367cfa42bb9e8\"}, \"mark\": \"bar\", \"encoding\": {\"x\": {\"type\": \"quantitative\", \"axis\": {\"grid\": true, \"maxExtent\": 10, \"tickMinStep\": 5000, \"ticks\": true, \"values\": [0, 5000, 10000, 15000, 20000, 25000, 30000]}, \"bin\": {\"maxbins\": 50}, \"field\": \"Guesses\", \"title\": null}, \"y\": {\"type\": \"quantitative\", \"aggregate\": \"count\", \"axis\": {\"grid\": true, \"labels\": true, \"ticks\": true, \"values\": [0, 5000, 10000, 15000, 20000, 25000, 30000]}, \"title\": null}}, \"height\": 150, \"title\": {\"text\": \"(c)\", \"anchor\": \"start\"}, \"width\": 600, \"$schema\": \"https://vega.github.io/schema/vega-lite/v4.8.1.json\", \"datasets\": {\"data-b866206b10a006b04c1367cfa42bb9e8\": [{\"Guesses\": 219}, {\"Guesses\": 244}, {\"Guesses\": 260}, {\"Guesses\": 269}, {\"Guesses\": 273}, {\"Guesses\": 280}, {\"Guesses\": 300}, {\"Guesses\": 333}, {\"Guesses\": 361}, {\"Guesses\": 400}, {\"Guesses\": 421}, {\"Guesses\": 436}, {\"Guesses\": 441}, {\"Guesses\": 444}, {\"Guesses\": 450}, {\"Guesses\": 450}, {\"Guesses\": 450}, {\"Guesses\": 452}, {\"Guesses\": 458}, {\"Guesses\": 465}, {\"Guesses\": 466}, {\"Guesses\": 467}, {\"Guesses\": 475}, {\"Guesses\": 480}, {\"Guesses\": 486}, {\"Guesses\": 496}, {\"Guesses\": 496}, {\"Guesses\": 500}, {\"Guesses\": 512}, {\"Guesses\": 512}, {\"Guesses\": 514}, {\"Guesses\": 527}, {\"Guesses\": 529}, {\"Guesses\": 536}, {\"Guesses\": 542}, {\"Guesses\": 549}, {\"Guesses\": 553}, {\"Guesses\": 557}, {\"Guesses\": 557}, {\"Guesses\": 562}, {\"Guesses\": 563}, {\"Guesses\": 575}, {\"Guesses\": 575}, {\"Guesses\": 576}, {\"Guesses\": 601}, {\"Guesses\": 603}, {\"Guesses\": 604}, {\"Guesses\": 606}, {\"Guesses\": 611}, {\"Guesses\": 612}, {\"Guesses\": 620}, {\"Guesses\": 622}, {\"Guesses\": 627}, {\"Guesses\": 627}, {\"Guesses\": 628}, {\"Guesses\": 631}, {\"Guesses\": 643}, {\"Guesses\": 650}, {\"Guesses\": 653}, {\"Guesses\": 655}, {\"Guesses\": 657}, {\"Guesses\": 658}, {\"Guesses\": 665}, {\"Guesses\": 666}, {\"Guesses\": 666}, {\"Guesses\": 667}, {\"Guesses\": 668}, {\"Guesses\": 668}, {\"Guesses\": 672}, {\"Guesses\": 674}, {\"Guesses\": 680}, {\"Guesses\": 687}, {\"Guesses\": 692}, {\"Guesses\": 697}, {\"Guesses\": 697}, {\"Guesses\": 698}, {\"Guesses\": 699}, {\"Guesses\": 700}, {\"Guesses\": 706}, {\"Guesses\": 712}, {\"Guesses\": 716}, {\"Guesses\": 722}, {\"Guesses\": 728}, {\"Guesses\": 728}, {\"Guesses\": 731}, {\"Guesses\": 736}, {\"Guesses\": 737}, {\"Guesses\": 738}, {\"Guesses\": 740}, {\"Guesses\": 742}, {\"Guesses\": 748}, {\"Guesses\": 748}, {\"Guesses\": 749}, {\"Guesses\": 754}, {\"Guesses\": 756}, {\"Guesses\": 756}, {\"Guesses\": 780}, {\"Guesses\": 793}, {\"Guesses\": 794}, {\"Guesses\": 800}, {\"Guesses\": 801}, {\"Guesses\": 801}, {\"Guesses\": 801}, {\"Guesses\": 812}, {\"Guesses\": 815}, {\"Guesses\": 817}, {\"Guesses\": 819}, {\"Guesses\": 819}, {\"Guesses\": 822}, {\"Guesses\": 824}, {\"Guesses\": 826}, {\"Guesses\": 826}, {\"Guesses\": 831}, {\"Guesses\": 839}, {\"Guesses\": 843}, {\"Guesses\": 843}, {\"Guesses\": 843}, {\"Guesses\": 844}, {\"Guesses\": 845}, {\"Guesses\": 846}, {\"Guesses\": 849}, {\"Guesses\": 850}, {\"Guesses\": 850}, {\"Guesses\": 853}, {\"Guesses\": 854}, {\"Guesses\": 855}, {\"Guesses\": 856}, {\"Guesses\": 863}, {\"Guesses\": 863}, {\"Guesses\": 863}, {\"Guesses\": 870}, {\"Guesses\": 874}, {\"Guesses\": 874}, {\"Guesses\": 874}, {\"Guesses\": 881}, {\"Guesses\": 886}, {\"Guesses\": 888}, {\"Guesses\": 889}, {\"Guesses\": 893}, {\"Guesses\": 895}, {\"Guesses\": 896}, {\"Guesses\": 897}, {\"Guesses\": 898}, {\"Guesses\": 898}, {\"Guesses\": 899}, {\"Guesses\": 899}, {\"Guesses\": 900}, {\"Guesses\": 900}, {\"Guesses\": 900}, {\"Guesses\": 907}, {\"Guesses\": 907}, {\"Guesses\": 912}, {\"Guesses\": 913}, {\"Guesses\": 913}, {\"Guesses\": 920}, {\"Guesses\": 924}, {\"Guesses\": 929}, {\"Guesses\": 929}, {\"Guesses\": 929}, {\"Guesses\": 930}, {\"Guesses\": 930}, {\"Guesses\": 930}, {\"Guesses\": 931}, {\"Guesses\": 931}, {\"Guesses\": 936}, {\"Guesses\": 937}, {\"Guesses\": 942}, {\"Guesses\": 942}, {\"Guesses\": 942}, {\"Guesses\": 946}, {\"Guesses\": 946}, {\"Guesses\": 946}, {\"Guesses\": 947}, {\"Guesses\": 950}, {\"Guesses\": 953}, {\"Guesses\": 956}, {\"Guesses\": 957}, {\"Guesses\": 957}, {\"Guesses\": 958}, {\"Guesses\": 960}, {\"Guesses\": 962}, {\"Guesses\": 964}, {\"Guesses\": 965}, {\"Guesses\": 965}, {\"Guesses\": 972}, {\"Guesses\": 974}, {\"Guesses\": 976}, {\"Guesses\": 977}, {\"Guesses\": 978}, {\"Guesses\": 979}, {\"Guesses\": 983}, {\"Guesses\": 983}, {\"Guesses\": 984}, {\"Guesses\": 987}, {\"Guesses\": 987}, {\"Guesses\": 992}, {\"Guesses\": 995}, {\"Guesses\": 999}, {\"Guesses\": 1000}, {\"Guesses\": 1000}, {\"Guesses\": 1000}, {\"Guesses\": 1000}, {\"Guesses\": 1000}, {\"Guesses\": 1000}, {\"Guesses\": 1000}, {\"Guesses\": 1001}, {\"Guesses\": 1009}, {\"Guesses\": 1013}, {\"Guesses\": 1020}, {\"Guesses\": 1021}, {\"Guesses\": 1023}, {\"Guesses\": 1036}, {\"Guesses\": 1037}, {\"Guesses\": 1039}, {\"Guesses\": 1044}, {\"Guesses\": 1044}, {\"Guesses\": 1046}, {\"Guesses\": 1050}, {\"Guesses\": 1054}, {\"Guesses\": 1065}, {\"Guesses\": 1082}, {\"Guesses\": 1084}, {\"Guesses\": 1085}, {\"Guesses\": 1089}, {\"Guesses\": 1096}, {\"Guesses\": 1099}, {\"Guesses\": 1100}, {\"Guesses\": 1105}, {\"Guesses\": 1109}, {\"Guesses\": 1111}, {\"Guesses\": 1112}, {\"Guesses\": 1115}, {\"Guesses\": 1121}, {\"Guesses\": 1123}, {\"Guesses\": 1123}, {\"Guesses\": 1128}, {\"Guesses\": 1131}, {\"Guesses\": 1143}, {\"Guesses\": 1146}, {\"Guesses\": 1150}, {\"Guesses\": 1154}, {\"Guesses\": 1154}, {\"Guesses\": 1177}, {\"Guesses\": 1178}, {\"Guesses\": 1189}, {\"Guesses\": 1197}, {\"Guesses\": 1198}, {\"Guesses\": 1198}, {\"Guesses\": 1198}, {\"Guesses\": 1198}, {\"Guesses\": 1198}, {\"Guesses\": 1199}, {\"Guesses\": 1200}, {\"Guesses\": 1200}, {\"Guesses\": 1200}, {\"Guesses\": 1200}, {\"Guesses\": 1202}, {\"Guesses\": 1204}, {\"Guesses\": 1206}, {\"Guesses\": 1210}, {\"Guesses\": 1212}, {\"Guesses\": 1216}, {\"Guesses\": 1216}, {\"Guesses\": 1221}, {\"Guesses\": 1221}, {\"Guesses\": 1225}, {\"Guesses\": 1226}, {\"Guesses\": 1231}, {\"Guesses\": 1233}, {\"Guesses\": 1234}, {\"Guesses\": 1234}, {\"Guesses\": 1234}, {\"Guesses\": 1234}, {\"Guesses\": 1234}, {\"Guesses\": 1241}, {\"Guesses\": 1245}, {\"Guesses\": 1250}, {\"Guesses\": 1254}, {\"Guesses\": 1255}, {\"Guesses\": 1256}, {\"Guesses\": 1256}, {\"Guesses\": 1257}, {\"Guesses\": 1257}, {\"Guesses\": 1260}, {\"Guesses\": 1264}, {\"Guesses\": 1274}, {\"Guesses\": 1275}, {\"Guesses\": 1276}, {\"Guesses\": 1280}, {\"Guesses\": 1280}, {\"Guesses\": 1283}, {\"Guesses\": 1283}, {\"Guesses\": 1286}, {\"Guesses\": 1286}, {\"Guesses\": 1293}, {\"Guesses\": 1295}, {\"Guesses\": 1296}, {\"Guesses\": 1296}, {\"Guesses\": 1296}, {\"Guesses\": 1298}, {\"Guesses\": 1300}, {\"Guesses\": 1300}, {\"Guesses\": 1300}, {\"Guesses\": 1301}, {\"Guesses\": 1312}, {\"Guesses\": 1313}, {\"Guesses\": 1320}, {\"Guesses\": 1332}, {\"Guesses\": 1334}, {\"Guesses\": 1336}, {\"Guesses\": 1336}, {\"Guesses\": 1337}, {\"Guesses\": 1337}, {\"Guesses\": 1337}, {\"Guesses\": 1337}, {\"Guesses\": 1337}, {\"Guesses\": 1337}, {\"Guesses\": 1337}, {\"Guesses\": 1337}, {\"Guesses\": 1337}, {\"Guesses\": 1338}, {\"Guesses\": 1342}, {\"Guesses\": 1348}, {\"Guesses\": 1349}, {\"Guesses\": 1350}, {\"Guesses\": 1350}, {\"Guesses\": 1350}, {\"Guesses\": 1353}, {\"Guesses\": 1356}, {\"Guesses\": 1364}, {\"Guesses\": 1372}, {\"Guesses\": 1372}, {\"Guesses\": 1385}, {\"Guesses\": 1385}, {\"Guesses\": 1387}, {\"Guesses\": 1389}, {\"Guesses\": 1389}, {\"Guesses\": 1394}, {\"Guesses\": 1396}, {\"Guesses\": 1396}, {\"Guesses\": 1399}, {\"Guesses\": 1399}, {\"Guesses\": 1403}, {\"Guesses\": 1404}, {\"Guesses\": 1411}, {\"Guesses\": 1412}, {\"Guesses\": 1414}, {\"Guesses\": 1422}, {\"Guesses\": 1423}, {\"Guesses\": 1428}, {\"Guesses\": 1428}, {\"Guesses\": 1432}, {\"Guesses\": 1432}, {\"Guesses\": 1437}, {\"Guesses\": 1440}, {\"Guesses\": 1445}, {\"Guesses\": 1450}, {\"Guesses\": 1452}, {\"Guesses\": 1452}, {\"Guesses\": 1467}, {\"Guesses\": 1469}, {\"Guesses\": 1473}, {\"Guesses\": 1479}, {\"Guesses\": 1481}, {\"Guesses\": 1485}, {\"Guesses\": 1486}, {\"Guesses\": 1487}, {\"Guesses\": 1495}, {\"Guesses\": 1496}, {\"Guesses\": 1498}, {\"Guesses\": 1499}, {\"Guesses\": 1499}, {\"Guesses\": 1499}, {\"Guesses\": 1499}, {\"Guesses\": 1500}, {\"Guesses\": 1500}, {\"Guesses\": 1500}, {\"Guesses\": 1500}, {\"Guesses\": 1500}, {\"Guesses\": 1500}, {\"Guesses\": 1506}, {\"Guesses\": 1514}, {\"Guesses\": 1517}, {\"Guesses\": 1527}, {\"Guesses\": 1528}, {\"Guesses\": 1529}, {\"Guesses\": 1530}, {\"Guesses\": 1530}, {\"Guesses\": 1541}, {\"Guesses\": 1546}, {\"Guesses\": 1546}, {\"Guesses\": 1548}, {\"Guesses\": 1548}, {\"Guesses\": 1562}, {\"Guesses\": 1563}, {\"Guesses\": 1563}, {\"Guesses\": 1567}, {\"Guesses\": 1567}, {\"Guesses\": 1569}, {\"Guesses\": 1570}, {\"Guesses\": 1573}, {\"Guesses\": 1575}, {\"Guesses\": 1577}, {\"Guesses\": 1581}, {\"Guesses\": 1582}, {\"Guesses\": 1589}, {\"Guesses\": 1598}, {\"Guesses\": 1599}, {\"Guesses\": 1600}, {\"Guesses\": 1600}, {\"Guesses\": 1601}, {\"Guesses\": 1613}, {\"Guesses\": 1616}, {\"Guesses\": 1622}, {\"Guesses\": 1628}, {\"Guesses\": 1629}, {\"Guesses\": 1631}, {\"Guesses\": 1632}, {\"Guesses\": 1633}, {\"Guesses\": 1647}, {\"Guesses\": 1649}, {\"Guesses\": 1649}, {\"Guesses\": 1656}, {\"Guesses\": 1669}, {\"Guesses\": 1676}, {\"Guesses\": 1681}, {\"Guesses\": 1696}, {\"Guesses\": 1696}, {\"Guesses\": 1697}, {\"Guesses\": 1699}, {\"Guesses\": 1700}, {\"Guesses\": 1700}, {\"Guesses\": 1706}, {\"Guesses\": 1710}, {\"Guesses\": 1723}, {\"Guesses\": 1724}, {\"Guesses\": 1724}, {\"Guesses\": 1728}, {\"Guesses\": 1728}, {\"Guesses\": 1728}, {\"Guesses\": 1729}, {\"Guesses\": 1729}, {\"Guesses\": 1729}, {\"Guesses\": 1733}, {\"Guesses\": 1734}, {\"Guesses\": 1738}, {\"Guesses\": 1738}, {\"Guesses\": 1746}, {\"Guesses\": 1749}, {\"Guesses\": 1752}, {\"Guesses\": 1754}, {\"Guesses\": 1756}, {\"Guesses\": 1758}, {\"Guesses\": 1760}, {\"Guesses\": 1765}, {\"Guesses\": 1769}, {\"Guesses\": 1771}, {\"Guesses\": 1775}, {\"Guesses\": 1776}, {\"Guesses\": 1777}, {\"Guesses\": 1780}, {\"Guesses\": 1782}, {\"Guesses\": 1785}, {\"Guesses\": 1785}, {\"Guesses\": 1796}, {\"Guesses\": 1798}, {\"Guesses\": 1799}, {\"Guesses\": 1800}, {\"Guesses\": 1800}, {\"Guesses\": 1800}, {\"Guesses\": 1800}, {\"Guesses\": 1800}, {\"Guesses\": 1800}, {\"Guesses\": 1800}, {\"Guesses\": 1800}, {\"Guesses\": 1821}, {\"Guesses\": 1826}, {\"Guesses\": 1826}, {\"Guesses\": 1833}, {\"Guesses\": 1836}, {\"Guesses\": 1836}, {\"Guesses\": 1836}, {\"Guesses\": 1836}, {\"Guesses\": 1837}, {\"Guesses\": 1845}, {\"Guesses\": 1847}, {\"Guesses\": 1848}, {\"Guesses\": 1850}, {\"Guesses\": 1856}, {\"Guesses\": 1860}, {\"Guesses\": 1867}, {\"Guesses\": 1870}, {\"Guesses\": 1871}, {\"Guesses\": 1879}, {\"Guesses\": 1879}, {\"Guesses\": 1880}, {\"Guesses\": 1880}, {\"Guesses\": 1887}, {\"Guesses\": 1889}, {\"Guesses\": 1890}, {\"Guesses\": 1890}, {\"Guesses\": 1892}, {\"Guesses\": 1899}, {\"Guesses\": 1903}, {\"Guesses\": 1906}, {\"Guesses\": 1906}, {\"Guesses\": 1908}, {\"Guesses\": 1910}, {\"Guesses\": 1919}, {\"Guesses\": 1920}, {\"Guesses\": 1927}, {\"Guesses\": 1931}, {\"Guesses\": 1931}, {\"Guesses\": 1932}, {\"Guesses\": 1937}, {\"Guesses\": 1944}, {\"Guesses\": 1962}, {\"Guesses\": 1964}, {\"Guesses\": 1975}, {\"Guesses\": 1980}, {\"Guesses\": 1982}, {\"Guesses\": 1983}, {\"Guesses\": 1985}, {\"Guesses\": 1985}, {\"Guesses\": 1989}, {\"Guesses\": 1993}, {\"Guesses\": 1994}, {\"Guesses\": 1997}, {\"Guesses\": 1998}, {\"Guesses\": 2000}, {\"Guesses\": 2000}, {\"Guesses\": 2000}, {\"Guesses\": 2000}, {\"Guesses\": 2000}, {\"Guesses\": 2000}, {\"Guesses\": 2000}, {\"Guesses\": 2000}, {\"Guesses\": 2010}, {\"Guesses\": 2011}, {\"Guesses\": 2011}, {\"Guesses\": 2011}, {\"Guesses\": 2012}, {\"Guesses\": 2012}, {\"Guesses\": 2013}, {\"Guesses\": 2013}, {\"Guesses\": 2014}, {\"Guesses\": 2016}, {\"Guesses\": 2020}, {\"Guesses\": 2020}, {\"Guesses\": 2020}, {\"Guesses\": 2032}, {\"Guesses\": 2036}, {\"Guesses\": 2038}, {\"Guesses\": 2041}, {\"Guesses\": 2042}, {\"Guesses\": 2045}, {\"Guesses\": 2049}, {\"Guesses\": 2052}, {\"Guesses\": 2054}, {\"Guesses\": 2056}, {\"Guesses\": 2057}, {\"Guesses\": 2059}, {\"Guesses\": 2060}, {\"Guesses\": 2069}, {\"Guesses\": 2072}, {\"Guesses\": 2075}, {\"Guesses\": 2079}, {\"Guesses\": 2081}, {\"Guesses\": 2081}, {\"Guesses\": 2087}, {\"Guesses\": 2097}, {\"Guesses\": 2104}, {\"Guesses\": 2111}, {\"Guesses\": 2112}, {\"Guesses\": 2119}, {\"Guesses\": 2127}, {\"Guesses\": 2128}, {\"Guesses\": 2133}, {\"Guesses\": 2135}, {\"Guesses\": 2135}, {\"Guesses\": 2137}, {\"Guesses\": 2147}, {\"Guesses\": 2147}, {\"Guesses\": 2150}, {\"Guesses\": 2153}, {\"Guesses\": 2153}, {\"Guesses\": 2159}, {\"Guesses\": 2159}, {\"Guesses\": 2164}, {\"Guesses\": 2164}, {\"Guesses\": 2165}, {\"Guesses\": 2165}, {\"Guesses\": 2168}, {\"Guesses\": 2168}, {\"Guesses\": 2175}, {\"Guesses\": 2176}, {\"Guesses\": 2177}, {\"Guesses\": 2178}, {\"Guesses\": 2189}, {\"Guesses\": 2190}, {\"Guesses\": 2225}, {\"Guesses\": 2233}, {\"Guesses\": 2243}, {\"Guesses\": 2245}, {\"Guesses\": 2248}, {\"Guesses\": 2249}, {\"Guesses\": 2253}, {\"Guesses\": 2258}, {\"Guesses\": 2262}, {\"Guesses\": 2268}, {\"Guesses\": 2268}, {\"Guesses\": 2279}, {\"Guesses\": 2284}, {\"Guesses\": 2292}, {\"Guesses\": 2299}, {\"Guesses\": 2299}, {\"Guesses\": 2299}, {\"Guesses\": 2301}, {\"Guesses\": 2314}, {\"Guesses\": 2317}, {\"Guesses\": 2323}, {\"Guesses\": 2328}, {\"Guesses\": 2333}, {\"Guesses\": 2338}, {\"Guesses\": 2340}, {\"Guesses\": 2345}, {\"Guesses\": 2345}, {\"Guesses\": 2345}, {\"Guesses\": 2353}, {\"Guesses\": 2354}, {\"Guesses\": 2359}, {\"Guesses\": 2362}, {\"Guesses\": 2365}, {\"Guesses\": 2369}, {\"Guesses\": 2374}, {\"Guesses\": 2374}, {\"Guesses\": 2383}, {\"Guesses\": 2401}, {\"Guesses\": 2421}, {\"Guesses\": 2423}, {\"Guesses\": 2427}, {\"Guesses\": 2432}, {\"Guesses\": 2445}, {\"Guesses\": 2445}, {\"Guesses\": 2447}, {\"Guesses\": 2447}, {\"Guesses\": 2448}, {\"Guesses\": 2450}, {\"Guesses\": 2451}, {\"Guesses\": 2456}, {\"Guesses\": 2458}, {\"Guesses\": 2463}, {\"Guesses\": 2466}, {\"Guesses\": 2467}, {\"Guesses\": 2472}, {\"Guesses\": 2473}, {\"Guesses\": 2483}, {\"Guesses\": 2486}, {\"Guesses\": 2494}, {\"Guesses\": 2495}, {\"Guesses\": 2497}, {\"Guesses\": 2499}, {\"Guesses\": 2500}, {\"Guesses\": 2500}, {\"Guesses\": 2500}, {\"Guesses\": 2500}, {\"Guesses\": 2527}, {\"Guesses\": 2533}, {\"Guesses\": 2537}, {\"Guesses\": 2540}, {\"Guesses\": 2541}, {\"Guesses\": 2542}, {\"Guesses\": 2544}, {\"Guesses\": 2546}, {\"Guesses\": 2547}, {\"Guesses\": 2547}, {\"Guesses\": 2549}, {\"Guesses\": 2553}, {\"Guesses\": 2562}, {\"Guesses\": 2562}, {\"Guesses\": 2567}, {\"Guesses\": 2568}, {\"Guesses\": 2568}, {\"Guesses\": 2586}, {\"Guesses\": 2596}, {\"Guesses\": 2599}, {\"Guesses\": 2600}, {\"Guesses\": 2600}, {\"Guesses\": 2600}, {\"Guesses\": 2609}, {\"Guesses\": 2636}, {\"Guesses\": 2647}, {\"Guesses\": 2672}, {\"Guesses\": 2673}, {\"Guesses\": 2690}, {\"Guesses\": 2693}, {\"Guesses\": 2710}, {\"Guesses\": 2727}, {\"Guesses\": 2732}, {\"Guesses\": 2750}, {\"Guesses\": 2760}, {\"Guesses\": 2766}, {\"Guesses\": 2804}, {\"Guesses\": 2805}, {\"Guesses\": 2816}, {\"Guesses\": 2819}, {\"Guesses\": 2826}, {\"Guesses\": 2843}, {\"Guesses\": 2843}, {\"Guesses\": 2856}, {\"Guesses\": 2856}, {\"Guesses\": 2859}, {\"Guesses\": 2861}, {\"Guesses\": 2863}, {\"Guesses\": 2865}, {\"Guesses\": 2873}, {\"Guesses\": 2874}, {\"Guesses\": 2874}, {\"Guesses\": 2880}, {\"Guesses\": 2899}, {\"Guesses\": 2989}, {\"Guesses\": 2993}, {\"Guesses\": 3000}, {\"Guesses\": 3000}, {\"Guesses\": 3000}, {\"Guesses\": 3000}, {\"Guesses\": 3003}, {\"Guesses\": 3009}, {\"Guesses\": 3010}, {\"Guesses\": 3011}, {\"Guesses\": 3014}, {\"Guesses\": 3024}, {\"Guesses\": 3050}, {\"Guesses\": 3067}, {\"Guesses\": 3098}, {\"Guesses\": 3114}, {\"Guesses\": 3122}, {\"Guesses\": 3147}, {\"Guesses\": 3149}, {\"Guesses\": 3159}, {\"Guesses\": 3200}, {\"Guesses\": 3208}, {\"Guesses\": 3209}, {\"Guesses\": 3221}, {\"Guesses\": 3225}, {\"Guesses\": 3257}, {\"Guesses\": 3269}, {\"Guesses\": 3278}, {\"Guesses\": 3281}, {\"Guesses\": 3294}, {\"Guesses\": 3316}, {\"Guesses\": 3332}, {\"Guesses\": 3333}, {\"Guesses\": 3360}, {\"Guesses\": 3375}, {\"Guesses\": 3421}, {\"Guesses\": 3425}, {\"Guesses\": 3447}, {\"Guesses\": 3452}, {\"Guesses\": 3455}, {\"Guesses\": 3456}, {\"Guesses\": 3459}, {\"Guesses\": 3467}, {\"Guesses\": 3472}, {\"Guesses\": 3485}, {\"Guesses\": 3485}, {\"Guesses\": 3487}, {\"Guesses\": 3492}, {\"Guesses\": 3550}, {\"Guesses\": 3568}, {\"Guesses\": 3575}, {\"Guesses\": 3576}, {\"Guesses\": 3577}, {\"Guesses\": 3578}, {\"Guesses\": 3584}, {\"Guesses\": 3585}, {\"Guesses\": 3600}, {\"Guesses\": 3637}, {\"Guesses\": 3652}, {\"Guesses\": 3678}, {\"Guesses\": 3689}, {\"Guesses\": 3733}, {\"Guesses\": 3765}, {\"Guesses\": 3768}, {\"Guesses\": 3780}, {\"Guesses\": 3782}, {\"Guesses\": 3825}, {\"Guesses\": 3843}, {\"Guesses\": 3846}, {\"Guesses\": 3860}, {\"Guesses\": 3872}, {\"Guesses\": 3873}, {\"Guesses\": 3879}, {\"Guesses\": 3895}, {\"Guesses\": 3961}, {\"Guesses\": 3972}, {\"Guesses\": 3976}, {\"Guesses\": 3999}, {\"Guesses\": 4000}, {\"Guesses\": 4050}, {\"Guesses\": 4051}, {\"Guesses\": 4064}, {\"Guesses\": 4096}, {\"Guesses\": 4120}, {\"Guesses\": 4132}, {\"Guesses\": 4132}, {\"Guesses\": 4150}, {\"Guesses\": 4158}, {\"Guesses\": 4200}, {\"Guesses\": 4209}, {\"Guesses\": 4218}, {\"Guesses\": 4251}, {\"Guesses\": 4269}, {\"Guesses\": 4273}, {\"Guesses\": 4275}, {\"Guesses\": 4287}, {\"Guesses\": 4297}, {\"Guesses\": 4319}, {\"Guesses\": 4320}, {\"Guesses\": 4531}, {\"Guesses\": 4566}, {\"Guesses\": 4567}, {\"Guesses\": 4567}, {\"Guesses\": 4568}, {\"Guesses\": 4573}, {\"Guesses\": 4586}, {\"Guesses\": 4675}, {\"Guesses\": 4682}, {\"Guesses\": 4689}, {\"Guesses\": 4747}, {\"Guesses\": 4764}, {\"Guesses\": 4824}, {\"Guesses\": 4869}, {\"Guesses\": 4952}, {\"Guesses\": 4968}, {\"Guesses\": 5000}, {\"Guesses\": 5000}, {\"Guesses\": 5000}, {\"Guesses\": 5000}, {\"Guesses\": 5005}, {\"Guesses\": 5006}, {\"Guesses\": 5027}, {\"Guesses\": 5032}, {\"Guesses\": 5040}, {\"Guesses\": 5048}, {\"Guesses\": 5259}, {\"Guesses\": 5312}, {\"Guesses\": 5328}, {\"Guesses\": 5352}, {\"Guesses\": 5489}, {\"Guesses\": 5629}, {\"Guesses\": 5672}, {\"Guesses\": 5687}, {\"Guesses\": 5880}, {\"Guesses\": 5892}, {\"Guesses\": 5895}, {\"Guesses\": 5898}, {\"Guesses\": 5964}, {\"Guesses\": 5971}, {\"Guesses\": 6083}, {\"Guesses\": 6100}, {\"Guesses\": 6382}, {\"Guesses\": 6432}, {\"Guesses\": 6458}, {\"Guesses\": 6487}, {\"Guesses\": 6553}, {\"Guesses\": 6563}, {\"Guesses\": 6589}, {\"Guesses\": 6594}, {\"Guesses\": 6711}, {\"Guesses\": 6744}, {\"Guesses\": 6754}, {\"Guesses\": 7075}, {\"Guesses\": 7145}, {\"Guesses\": 7693}, {\"Guesses\": 7965}, {\"Guesses\": 8000}, {\"Guesses\": 8211}, {\"Guesses\": 8400}, {\"Guesses\": 8569}, {\"Guesses\": 9000}, {\"Guesses\": 9901}, {\"Guesses\": 9999}, {\"Guesses\": 9999}, {\"Guesses\": 9999}, {\"Guesses\": 9999}, {\"Guesses\": 9999}, {\"Guesses\": 9999}, {\"Guesses\": 9999}, {\"Guesses\": 9999}, {\"Guesses\": 9999}, {\"Guesses\": 10000}, {\"Guesses\": 10000}, {\"Guesses\": 10000}, {\"Guesses\": 10000}, {\"Guesses\": 10000}, {\"Guesses\": 10000}, {\"Guesses\": 10000}, {\"Guesses\": 10000}, {\"Guesses\": 10000}, {\"Guesses\": 10000}, {\"Guesses\": 10000}, {\"Guesses\": 10001}, {\"Guesses\": 10001}, {\"Guesses\": 10368}, {\"Guesses\": 10467}, {\"Guesses\": 11000}, {\"Guesses\": 11987}, {\"Guesses\": 12240}, {\"Guesses\": 12344}, {\"Guesses\": 14137}, {\"Guesses\": 14237}, {\"Guesses\": 18375}, {\"Guesses\": 21000}, {\"Guesses\": 31337}]}}, {\"mode\": \"vega-lite\"});\n",
       "</script>"
      ],
      "text/plain": [
       "alt.Chart(...)"
      ]
     },
     "execution_count": 134,
     "metadata": {},
     "output_type": "execute_result"
    }
   ],
   "source": [
    "histogram = alt.Chart(df, title=alt.TitleParams(\"(c)\", anchor=\"start\"), height=150, width=600).mark_bar().encode(\n",
    "    alt.X(\"Guesses\",\n",
    "          bin=alt.Bin(maxbins=50),\n",
    "          title=None,\n",
    "          axis=alt.Axis(ticks=True, \n",
    "                        grid=True,\n",
    "                        tickMinStep=5000,\n",
    "                        maxExtent=10,\n",
    "                        values=list(range(0, 35000, 5000))\n",
    "          )\n",
    "    ),\n",
    "    alt.Y(\"count()\",\n",
    "          title=None,\n",
    "          axis=no_axis,\n",
    "    )\n",
    ")\n",
    "histogram"
   ]
  },
  {
   "cell_type": "markdown",
   "metadata": {},
   "source": [
    "### Final plot"
   ]
  },
  {
   "cell_type": "code",
   "execution_count": 133,
   "metadata": {},
   "outputs": [
    {
     "data": {
      "text/html": [
       "\n",
       "<div id=\"altair-viz-792505c3fc0d4e438d397c9266f02cdc\"></div>\n",
       "<script type=\"text/javascript\">\n",
       "  (function(spec, embedOpt){\n",
       "    let outputDiv = document.currentScript.previousElementSibling;\n",
       "    if (outputDiv.id !== \"altair-viz-792505c3fc0d4e438d397c9266f02cdc\") {\n",
       "      outputDiv = document.getElementById(\"altair-viz-792505c3fc0d4e438d397c9266f02cdc\");\n",
       "    }\n",
       "    const paths = {\n",
       "      \"vega\": \"https://cdn.jsdelivr.net/npm//vega@5?noext\",\n",
       "      \"vega-lib\": \"https://cdn.jsdelivr.net/npm//vega-lib?noext\",\n",
       "      \"vega-lite\": \"https://cdn.jsdelivr.net/npm//vega-lite@4.8.1?noext\",\n",
       "      \"vega-embed\": \"https://cdn.jsdelivr.net/npm//vega-embed@6?noext\",\n",
       "    };\n",
       "\n",
       "    function loadScript(lib) {\n",
       "      return new Promise(function(resolve, reject) {\n",
       "        var s = document.createElement('script');\n",
       "        s.src = paths[lib];\n",
       "        s.async = true;\n",
       "        s.onload = () => resolve(paths[lib]);\n",
       "        s.onerror = () => reject(`Error loading script: ${paths[lib]}`);\n",
       "        document.getElementsByTagName(\"head\")[0].appendChild(s);\n",
       "      });\n",
       "    }\n",
       "\n",
       "    function showError(err) {\n",
       "      outputDiv.innerHTML = `<div class=\"error\" style=\"color:red;\">${err}</div>`;\n",
       "      throw err;\n",
       "    }\n",
       "\n",
       "    function displayChart(vegaEmbed) {\n",
       "      vegaEmbed(outputDiv, spec, embedOpt)\n",
       "        .catch(err => showError(`Javascript Error: ${err.message}<br>This usually means there's a typo in your chart specification. See the javascript console for the full traceback.`));\n",
       "    }\n",
       "\n",
       "    if(typeof define === \"function\" && define.amd) {\n",
       "      requirejs.config({paths});\n",
       "      require([\"vega-embed\"], displayChart, err => showError(`Error loading script: ${err.message}`));\n",
       "    } else if (typeof vegaEmbed === \"function\") {\n",
       "      displayChart(vegaEmbed);\n",
       "    } else {\n",
       "      loadScript(\"vega\")\n",
       "        .then(() => loadScript(\"vega-lite\"))\n",
       "        .then(() => loadScript(\"vega-embed\"))\n",
       "        .catch(showError)\n",
       "        .then(() => displayChart(vegaEmbed));\n",
       "    }\n",
       "  })({\"config\": {\"view\": {\"continuousWidth\": 400, \"continuousHeight\": 300}}, \"vconcat\": [{\"mark\": \"circle\", \"encoding\": {\"x\": {\"type\": \"quantitative\", \"axis\": {\"grid\": true, \"labels\": true, \"ticks\": true, \"values\": [0, 5000, 10000, 15000, 20000, 25000, 30000]}, \"field\": \"Guesses\", \"title\": null}, \"y\": {\"type\": \"quantitative\", \"axis\": {\"grid\": false, \"labels\": false, \"ticks\": false}, \"field\": \"jitter\", \"title\": null}}, \"height\": 150, \"title\": {\"text\": \"A\", \"anchor\": \"start\"}, \"transform\": [{\"calculate\": \"sqrt(-2*log(random()))*cos(2*PI*random())\", \"as\": \"jitter\"}], \"width\": 600}, {\"mark\": {\"type\": \"boxplot\", \"size\": 140}, \"encoding\": {\"x\": {\"type\": \"quantitative\", \"axis\": {\"grid\": true, \"labels\": false, \"ticks\": false, \"values\": [0, 5000, 10000, 15000, 20000, 25000, 30000]}, \"field\": \"Guesses\", \"title\": null}}, \"height\": 150, \"title\": {\"text\": \"(b)\", \"anchor\": \"start\"}, \"width\": 600}, {\"mark\": \"bar\", \"encoding\": {\"x\": {\"type\": \"quantitative\", \"axis\": {\"grid\": true, \"maxExtent\": 20, \"tickMinStep\": 5000, \"ticks\": true, \"values\": [0, 5000, 10000, 15000, 20000, 25000, 30000]}, \"bin\": {\"maxbins\": 50}, \"field\": \"Guesses\", \"title\": null}, \"y\": {\"type\": \"quantitative\", \"aggregate\": \"count\", \"axis\": {\"grid\": true, \"labels\": true, \"ticks\": true, \"values\": [0, 5000, 10000, 15000, 20000, 25000, 30000]}, \"title\": null}}, \"height\": 150, \"title\": {\"text\": \"(c)\", \"anchor\": \"start\"}, \"width\": 600}], \"data\": {\"name\": \"data-b866206b10a006b04c1367cfa42bb9e8\"}, \"$schema\": \"https://vega.github.io/schema/vega-lite/v4.8.1.json\", \"datasets\": {\"data-b866206b10a006b04c1367cfa42bb9e8\": [{\"Guesses\": 219}, {\"Guesses\": 244}, {\"Guesses\": 260}, {\"Guesses\": 269}, {\"Guesses\": 273}, {\"Guesses\": 280}, {\"Guesses\": 300}, {\"Guesses\": 333}, {\"Guesses\": 361}, {\"Guesses\": 400}, {\"Guesses\": 421}, {\"Guesses\": 436}, {\"Guesses\": 441}, {\"Guesses\": 444}, {\"Guesses\": 450}, {\"Guesses\": 450}, {\"Guesses\": 450}, {\"Guesses\": 452}, {\"Guesses\": 458}, {\"Guesses\": 465}, {\"Guesses\": 466}, {\"Guesses\": 467}, {\"Guesses\": 475}, {\"Guesses\": 480}, {\"Guesses\": 486}, {\"Guesses\": 496}, {\"Guesses\": 496}, {\"Guesses\": 500}, {\"Guesses\": 512}, {\"Guesses\": 512}, {\"Guesses\": 514}, {\"Guesses\": 527}, {\"Guesses\": 529}, {\"Guesses\": 536}, {\"Guesses\": 542}, {\"Guesses\": 549}, {\"Guesses\": 553}, {\"Guesses\": 557}, {\"Guesses\": 557}, {\"Guesses\": 562}, {\"Guesses\": 563}, {\"Guesses\": 575}, {\"Guesses\": 575}, {\"Guesses\": 576}, {\"Guesses\": 601}, {\"Guesses\": 603}, {\"Guesses\": 604}, {\"Guesses\": 606}, {\"Guesses\": 611}, {\"Guesses\": 612}, {\"Guesses\": 620}, {\"Guesses\": 622}, {\"Guesses\": 627}, {\"Guesses\": 627}, {\"Guesses\": 628}, {\"Guesses\": 631}, {\"Guesses\": 643}, {\"Guesses\": 650}, {\"Guesses\": 653}, {\"Guesses\": 655}, {\"Guesses\": 657}, {\"Guesses\": 658}, {\"Guesses\": 665}, {\"Guesses\": 666}, {\"Guesses\": 666}, {\"Guesses\": 667}, {\"Guesses\": 668}, {\"Guesses\": 668}, {\"Guesses\": 672}, {\"Guesses\": 674}, {\"Guesses\": 680}, {\"Guesses\": 687}, {\"Guesses\": 692}, {\"Guesses\": 697}, {\"Guesses\": 697}, {\"Guesses\": 698}, {\"Guesses\": 699}, {\"Guesses\": 700}, {\"Guesses\": 706}, {\"Guesses\": 712}, {\"Guesses\": 716}, {\"Guesses\": 722}, {\"Guesses\": 728}, {\"Guesses\": 728}, {\"Guesses\": 731}, {\"Guesses\": 736}, {\"Guesses\": 737}, {\"Guesses\": 738}, {\"Guesses\": 740}, {\"Guesses\": 742}, {\"Guesses\": 748}, {\"Guesses\": 748}, {\"Guesses\": 749}, {\"Guesses\": 754}, {\"Guesses\": 756}, {\"Guesses\": 756}, {\"Guesses\": 780}, {\"Guesses\": 793}, {\"Guesses\": 794}, {\"Guesses\": 800}, {\"Guesses\": 801}, {\"Guesses\": 801}, {\"Guesses\": 801}, {\"Guesses\": 812}, {\"Guesses\": 815}, {\"Guesses\": 817}, {\"Guesses\": 819}, {\"Guesses\": 819}, {\"Guesses\": 822}, {\"Guesses\": 824}, {\"Guesses\": 826}, {\"Guesses\": 826}, {\"Guesses\": 831}, {\"Guesses\": 839}, {\"Guesses\": 843}, {\"Guesses\": 843}, {\"Guesses\": 843}, {\"Guesses\": 844}, {\"Guesses\": 845}, {\"Guesses\": 846}, {\"Guesses\": 849}, {\"Guesses\": 850}, {\"Guesses\": 850}, {\"Guesses\": 853}, {\"Guesses\": 854}, {\"Guesses\": 855}, {\"Guesses\": 856}, {\"Guesses\": 863}, {\"Guesses\": 863}, {\"Guesses\": 863}, {\"Guesses\": 870}, {\"Guesses\": 874}, {\"Guesses\": 874}, {\"Guesses\": 874}, {\"Guesses\": 881}, {\"Guesses\": 886}, {\"Guesses\": 888}, {\"Guesses\": 889}, {\"Guesses\": 893}, {\"Guesses\": 895}, {\"Guesses\": 896}, {\"Guesses\": 897}, {\"Guesses\": 898}, {\"Guesses\": 898}, {\"Guesses\": 899}, {\"Guesses\": 899}, {\"Guesses\": 900}, {\"Guesses\": 900}, {\"Guesses\": 900}, {\"Guesses\": 907}, {\"Guesses\": 907}, {\"Guesses\": 912}, {\"Guesses\": 913}, {\"Guesses\": 913}, {\"Guesses\": 920}, {\"Guesses\": 924}, {\"Guesses\": 929}, {\"Guesses\": 929}, {\"Guesses\": 929}, {\"Guesses\": 930}, {\"Guesses\": 930}, {\"Guesses\": 930}, {\"Guesses\": 931}, {\"Guesses\": 931}, {\"Guesses\": 936}, {\"Guesses\": 937}, {\"Guesses\": 942}, {\"Guesses\": 942}, {\"Guesses\": 942}, {\"Guesses\": 946}, {\"Guesses\": 946}, {\"Guesses\": 946}, {\"Guesses\": 947}, {\"Guesses\": 950}, {\"Guesses\": 953}, {\"Guesses\": 956}, {\"Guesses\": 957}, {\"Guesses\": 957}, {\"Guesses\": 958}, {\"Guesses\": 960}, {\"Guesses\": 962}, {\"Guesses\": 964}, {\"Guesses\": 965}, {\"Guesses\": 965}, {\"Guesses\": 972}, {\"Guesses\": 974}, {\"Guesses\": 976}, {\"Guesses\": 977}, {\"Guesses\": 978}, {\"Guesses\": 979}, {\"Guesses\": 983}, {\"Guesses\": 983}, {\"Guesses\": 984}, {\"Guesses\": 987}, {\"Guesses\": 987}, {\"Guesses\": 992}, {\"Guesses\": 995}, {\"Guesses\": 999}, {\"Guesses\": 1000}, {\"Guesses\": 1000}, {\"Guesses\": 1000}, {\"Guesses\": 1000}, {\"Guesses\": 1000}, {\"Guesses\": 1000}, {\"Guesses\": 1000}, {\"Guesses\": 1001}, {\"Guesses\": 1009}, {\"Guesses\": 1013}, {\"Guesses\": 1020}, {\"Guesses\": 1021}, {\"Guesses\": 1023}, {\"Guesses\": 1036}, {\"Guesses\": 1037}, {\"Guesses\": 1039}, {\"Guesses\": 1044}, {\"Guesses\": 1044}, {\"Guesses\": 1046}, {\"Guesses\": 1050}, {\"Guesses\": 1054}, {\"Guesses\": 1065}, {\"Guesses\": 1082}, {\"Guesses\": 1084}, {\"Guesses\": 1085}, {\"Guesses\": 1089}, {\"Guesses\": 1096}, {\"Guesses\": 1099}, {\"Guesses\": 1100}, {\"Guesses\": 1105}, {\"Guesses\": 1109}, {\"Guesses\": 1111}, {\"Guesses\": 1112}, {\"Guesses\": 1115}, {\"Guesses\": 1121}, {\"Guesses\": 1123}, {\"Guesses\": 1123}, {\"Guesses\": 1128}, {\"Guesses\": 1131}, {\"Guesses\": 1143}, {\"Guesses\": 1146}, {\"Guesses\": 1150}, {\"Guesses\": 1154}, {\"Guesses\": 1154}, {\"Guesses\": 1177}, {\"Guesses\": 1178}, {\"Guesses\": 1189}, {\"Guesses\": 1197}, {\"Guesses\": 1198}, {\"Guesses\": 1198}, {\"Guesses\": 1198}, {\"Guesses\": 1198}, {\"Guesses\": 1198}, {\"Guesses\": 1199}, {\"Guesses\": 1200}, {\"Guesses\": 1200}, {\"Guesses\": 1200}, {\"Guesses\": 1200}, {\"Guesses\": 1202}, {\"Guesses\": 1204}, {\"Guesses\": 1206}, {\"Guesses\": 1210}, {\"Guesses\": 1212}, {\"Guesses\": 1216}, {\"Guesses\": 1216}, {\"Guesses\": 1221}, {\"Guesses\": 1221}, {\"Guesses\": 1225}, {\"Guesses\": 1226}, {\"Guesses\": 1231}, {\"Guesses\": 1233}, {\"Guesses\": 1234}, {\"Guesses\": 1234}, {\"Guesses\": 1234}, {\"Guesses\": 1234}, {\"Guesses\": 1234}, {\"Guesses\": 1241}, {\"Guesses\": 1245}, {\"Guesses\": 1250}, {\"Guesses\": 1254}, {\"Guesses\": 1255}, {\"Guesses\": 1256}, {\"Guesses\": 1256}, {\"Guesses\": 1257}, {\"Guesses\": 1257}, {\"Guesses\": 1260}, {\"Guesses\": 1264}, {\"Guesses\": 1274}, {\"Guesses\": 1275}, {\"Guesses\": 1276}, {\"Guesses\": 1280}, {\"Guesses\": 1280}, {\"Guesses\": 1283}, {\"Guesses\": 1283}, {\"Guesses\": 1286}, {\"Guesses\": 1286}, {\"Guesses\": 1293}, {\"Guesses\": 1295}, {\"Guesses\": 1296}, {\"Guesses\": 1296}, {\"Guesses\": 1296}, {\"Guesses\": 1298}, {\"Guesses\": 1300}, {\"Guesses\": 1300}, {\"Guesses\": 1300}, {\"Guesses\": 1301}, {\"Guesses\": 1312}, {\"Guesses\": 1313}, {\"Guesses\": 1320}, {\"Guesses\": 1332}, {\"Guesses\": 1334}, {\"Guesses\": 1336}, {\"Guesses\": 1336}, {\"Guesses\": 1337}, {\"Guesses\": 1337}, {\"Guesses\": 1337}, {\"Guesses\": 1337}, {\"Guesses\": 1337}, {\"Guesses\": 1337}, {\"Guesses\": 1337}, {\"Guesses\": 1337}, {\"Guesses\": 1337}, {\"Guesses\": 1338}, {\"Guesses\": 1342}, {\"Guesses\": 1348}, {\"Guesses\": 1349}, {\"Guesses\": 1350}, {\"Guesses\": 1350}, {\"Guesses\": 1350}, {\"Guesses\": 1353}, {\"Guesses\": 1356}, {\"Guesses\": 1364}, {\"Guesses\": 1372}, {\"Guesses\": 1372}, {\"Guesses\": 1385}, {\"Guesses\": 1385}, {\"Guesses\": 1387}, {\"Guesses\": 1389}, {\"Guesses\": 1389}, {\"Guesses\": 1394}, {\"Guesses\": 1396}, {\"Guesses\": 1396}, {\"Guesses\": 1399}, {\"Guesses\": 1399}, {\"Guesses\": 1403}, {\"Guesses\": 1404}, {\"Guesses\": 1411}, {\"Guesses\": 1412}, {\"Guesses\": 1414}, {\"Guesses\": 1422}, {\"Guesses\": 1423}, {\"Guesses\": 1428}, {\"Guesses\": 1428}, {\"Guesses\": 1432}, {\"Guesses\": 1432}, {\"Guesses\": 1437}, {\"Guesses\": 1440}, {\"Guesses\": 1445}, {\"Guesses\": 1450}, {\"Guesses\": 1452}, {\"Guesses\": 1452}, {\"Guesses\": 1467}, {\"Guesses\": 1469}, {\"Guesses\": 1473}, {\"Guesses\": 1479}, {\"Guesses\": 1481}, {\"Guesses\": 1485}, {\"Guesses\": 1486}, {\"Guesses\": 1487}, {\"Guesses\": 1495}, {\"Guesses\": 1496}, {\"Guesses\": 1498}, {\"Guesses\": 1499}, {\"Guesses\": 1499}, {\"Guesses\": 1499}, {\"Guesses\": 1499}, {\"Guesses\": 1500}, {\"Guesses\": 1500}, {\"Guesses\": 1500}, {\"Guesses\": 1500}, {\"Guesses\": 1500}, {\"Guesses\": 1500}, {\"Guesses\": 1506}, {\"Guesses\": 1514}, {\"Guesses\": 1517}, {\"Guesses\": 1527}, {\"Guesses\": 1528}, {\"Guesses\": 1529}, {\"Guesses\": 1530}, {\"Guesses\": 1530}, {\"Guesses\": 1541}, {\"Guesses\": 1546}, {\"Guesses\": 1546}, {\"Guesses\": 1548}, {\"Guesses\": 1548}, {\"Guesses\": 1562}, {\"Guesses\": 1563}, {\"Guesses\": 1563}, {\"Guesses\": 1567}, {\"Guesses\": 1567}, {\"Guesses\": 1569}, {\"Guesses\": 1570}, {\"Guesses\": 1573}, {\"Guesses\": 1575}, {\"Guesses\": 1577}, {\"Guesses\": 1581}, {\"Guesses\": 1582}, {\"Guesses\": 1589}, {\"Guesses\": 1598}, {\"Guesses\": 1599}, {\"Guesses\": 1600}, {\"Guesses\": 1600}, {\"Guesses\": 1601}, {\"Guesses\": 1613}, {\"Guesses\": 1616}, {\"Guesses\": 1622}, {\"Guesses\": 1628}, {\"Guesses\": 1629}, {\"Guesses\": 1631}, {\"Guesses\": 1632}, {\"Guesses\": 1633}, {\"Guesses\": 1647}, {\"Guesses\": 1649}, {\"Guesses\": 1649}, {\"Guesses\": 1656}, {\"Guesses\": 1669}, {\"Guesses\": 1676}, {\"Guesses\": 1681}, {\"Guesses\": 1696}, {\"Guesses\": 1696}, {\"Guesses\": 1697}, {\"Guesses\": 1699}, {\"Guesses\": 1700}, {\"Guesses\": 1700}, {\"Guesses\": 1706}, {\"Guesses\": 1710}, {\"Guesses\": 1723}, {\"Guesses\": 1724}, {\"Guesses\": 1724}, {\"Guesses\": 1728}, {\"Guesses\": 1728}, {\"Guesses\": 1728}, {\"Guesses\": 1729}, {\"Guesses\": 1729}, {\"Guesses\": 1729}, {\"Guesses\": 1733}, {\"Guesses\": 1734}, {\"Guesses\": 1738}, {\"Guesses\": 1738}, {\"Guesses\": 1746}, {\"Guesses\": 1749}, {\"Guesses\": 1752}, {\"Guesses\": 1754}, {\"Guesses\": 1756}, {\"Guesses\": 1758}, {\"Guesses\": 1760}, {\"Guesses\": 1765}, {\"Guesses\": 1769}, {\"Guesses\": 1771}, {\"Guesses\": 1775}, {\"Guesses\": 1776}, {\"Guesses\": 1777}, {\"Guesses\": 1780}, {\"Guesses\": 1782}, {\"Guesses\": 1785}, {\"Guesses\": 1785}, {\"Guesses\": 1796}, {\"Guesses\": 1798}, {\"Guesses\": 1799}, {\"Guesses\": 1800}, {\"Guesses\": 1800}, {\"Guesses\": 1800}, {\"Guesses\": 1800}, {\"Guesses\": 1800}, {\"Guesses\": 1800}, {\"Guesses\": 1800}, {\"Guesses\": 1800}, {\"Guesses\": 1821}, {\"Guesses\": 1826}, {\"Guesses\": 1826}, {\"Guesses\": 1833}, {\"Guesses\": 1836}, {\"Guesses\": 1836}, {\"Guesses\": 1836}, {\"Guesses\": 1836}, {\"Guesses\": 1837}, {\"Guesses\": 1845}, {\"Guesses\": 1847}, {\"Guesses\": 1848}, {\"Guesses\": 1850}, {\"Guesses\": 1856}, {\"Guesses\": 1860}, {\"Guesses\": 1867}, {\"Guesses\": 1870}, {\"Guesses\": 1871}, {\"Guesses\": 1879}, {\"Guesses\": 1879}, {\"Guesses\": 1880}, {\"Guesses\": 1880}, {\"Guesses\": 1887}, {\"Guesses\": 1889}, {\"Guesses\": 1890}, {\"Guesses\": 1890}, {\"Guesses\": 1892}, {\"Guesses\": 1899}, {\"Guesses\": 1903}, {\"Guesses\": 1906}, {\"Guesses\": 1906}, {\"Guesses\": 1908}, {\"Guesses\": 1910}, {\"Guesses\": 1919}, {\"Guesses\": 1920}, {\"Guesses\": 1927}, {\"Guesses\": 1931}, {\"Guesses\": 1931}, {\"Guesses\": 1932}, {\"Guesses\": 1937}, {\"Guesses\": 1944}, {\"Guesses\": 1962}, {\"Guesses\": 1964}, {\"Guesses\": 1975}, {\"Guesses\": 1980}, {\"Guesses\": 1982}, {\"Guesses\": 1983}, {\"Guesses\": 1985}, {\"Guesses\": 1985}, {\"Guesses\": 1989}, {\"Guesses\": 1993}, {\"Guesses\": 1994}, {\"Guesses\": 1997}, {\"Guesses\": 1998}, {\"Guesses\": 2000}, {\"Guesses\": 2000}, {\"Guesses\": 2000}, {\"Guesses\": 2000}, {\"Guesses\": 2000}, {\"Guesses\": 2000}, {\"Guesses\": 2000}, {\"Guesses\": 2000}, {\"Guesses\": 2010}, {\"Guesses\": 2011}, {\"Guesses\": 2011}, {\"Guesses\": 2011}, {\"Guesses\": 2012}, {\"Guesses\": 2012}, {\"Guesses\": 2013}, {\"Guesses\": 2013}, {\"Guesses\": 2014}, {\"Guesses\": 2016}, {\"Guesses\": 2020}, {\"Guesses\": 2020}, {\"Guesses\": 2020}, {\"Guesses\": 2032}, {\"Guesses\": 2036}, {\"Guesses\": 2038}, {\"Guesses\": 2041}, {\"Guesses\": 2042}, {\"Guesses\": 2045}, {\"Guesses\": 2049}, {\"Guesses\": 2052}, {\"Guesses\": 2054}, {\"Guesses\": 2056}, {\"Guesses\": 2057}, {\"Guesses\": 2059}, {\"Guesses\": 2060}, {\"Guesses\": 2069}, {\"Guesses\": 2072}, {\"Guesses\": 2075}, {\"Guesses\": 2079}, {\"Guesses\": 2081}, {\"Guesses\": 2081}, {\"Guesses\": 2087}, {\"Guesses\": 2097}, {\"Guesses\": 2104}, {\"Guesses\": 2111}, {\"Guesses\": 2112}, {\"Guesses\": 2119}, {\"Guesses\": 2127}, {\"Guesses\": 2128}, {\"Guesses\": 2133}, {\"Guesses\": 2135}, {\"Guesses\": 2135}, {\"Guesses\": 2137}, {\"Guesses\": 2147}, {\"Guesses\": 2147}, {\"Guesses\": 2150}, {\"Guesses\": 2153}, {\"Guesses\": 2153}, {\"Guesses\": 2159}, {\"Guesses\": 2159}, {\"Guesses\": 2164}, {\"Guesses\": 2164}, {\"Guesses\": 2165}, {\"Guesses\": 2165}, {\"Guesses\": 2168}, {\"Guesses\": 2168}, {\"Guesses\": 2175}, {\"Guesses\": 2176}, {\"Guesses\": 2177}, {\"Guesses\": 2178}, {\"Guesses\": 2189}, {\"Guesses\": 2190}, {\"Guesses\": 2225}, {\"Guesses\": 2233}, {\"Guesses\": 2243}, {\"Guesses\": 2245}, {\"Guesses\": 2248}, {\"Guesses\": 2249}, {\"Guesses\": 2253}, {\"Guesses\": 2258}, {\"Guesses\": 2262}, {\"Guesses\": 2268}, {\"Guesses\": 2268}, {\"Guesses\": 2279}, {\"Guesses\": 2284}, {\"Guesses\": 2292}, {\"Guesses\": 2299}, {\"Guesses\": 2299}, {\"Guesses\": 2299}, {\"Guesses\": 2301}, {\"Guesses\": 2314}, {\"Guesses\": 2317}, {\"Guesses\": 2323}, {\"Guesses\": 2328}, {\"Guesses\": 2333}, {\"Guesses\": 2338}, {\"Guesses\": 2340}, {\"Guesses\": 2345}, {\"Guesses\": 2345}, {\"Guesses\": 2345}, {\"Guesses\": 2353}, {\"Guesses\": 2354}, {\"Guesses\": 2359}, {\"Guesses\": 2362}, {\"Guesses\": 2365}, {\"Guesses\": 2369}, {\"Guesses\": 2374}, {\"Guesses\": 2374}, {\"Guesses\": 2383}, {\"Guesses\": 2401}, {\"Guesses\": 2421}, {\"Guesses\": 2423}, {\"Guesses\": 2427}, {\"Guesses\": 2432}, {\"Guesses\": 2445}, {\"Guesses\": 2445}, {\"Guesses\": 2447}, {\"Guesses\": 2447}, {\"Guesses\": 2448}, {\"Guesses\": 2450}, {\"Guesses\": 2451}, {\"Guesses\": 2456}, {\"Guesses\": 2458}, {\"Guesses\": 2463}, {\"Guesses\": 2466}, {\"Guesses\": 2467}, {\"Guesses\": 2472}, {\"Guesses\": 2473}, {\"Guesses\": 2483}, {\"Guesses\": 2486}, {\"Guesses\": 2494}, {\"Guesses\": 2495}, {\"Guesses\": 2497}, {\"Guesses\": 2499}, {\"Guesses\": 2500}, {\"Guesses\": 2500}, {\"Guesses\": 2500}, {\"Guesses\": 2500}, {\"Guesses\": 2527}, {\"Guesses\": 2533}, {\"Guesses\": 2537}, {\"Guesses\": 2540}, {\"Guesses\": 2541}, {\"Guesses\": 2542}, {\"Guesses\": 2544}, {\"Guesses\": 2546}, {\"Guesses\": 2547}, {\"Guesses\": 2547}, {\"Guesses\": 2549}, {\"Guesses\": 2553}, {\"Guesses\": 2562}, {\"Guesses\": 2562}, {\"Guesses\": 2567}, {\"Guesses\": 2568}, {\"Guesses\": 2568}, {\"Guesses\": 2586}, {\"Guesses\": 2596}, {\"Guesses\": 2599}, {\"Guesses\": 2600}, {\"Guesses\": 2600}, {\"Guesses\": 2600}, {\"Guesses\": 2609}, {\"Guesses\": 2636}, {\"Guesses\": 2647}, {\"Guesses\": 2672}, {\"Guesses\": 2673}, {\"Guesses\": 2690}, {\"Guesses\": 2693}, {\"Guesses\": 2710}, {\"Guesses\": 2727}, {\"Guesses\": 2732}, {\"Guesses\": 2750}, {\"Guesses\": 2760}, {\"Guesses\": 2766}, {\"Guesses\": 2804}, {\"Guesses\": 2805}, {\"Guesses\": 2816}, {\"Guesses\": 2819}, {\"Guesses\": 2826}, {\"Guesses\": 2843}, {\"Guesses\": 2843}, {\"Guesses\": 2856}, {\"Guesses\": 2856}, {\"Guesses\": 2859}, {\"Guesses\": 2861}, {\"Guesses\": 2863}, {\"Guesses\": 2865}, {\"Guesses\": 2873}, {\"Guesses\": 2874}, {\"Guesses\": 2874}, {\"Guesses\": 2880}, {\"Guesses\": 2899}, {\"Guesses\": 2989}, {\"Guesses\": 2993}, {\"Guesses\": 3000}, {\"Guesses\": 3000}, {\"Guesses\": 3000}, {\"Guesses\": 3000}, {\"Guesses\": 3003}, {\"Guesses\": 3009}, {\"Guesses\": 3010}, {\"Guesses\": 3011}, {\"Guesses\": 3014}, {\"Guesses\": 3024}, {\"Guesses\": 3050}, {\"Guesses\": 3067}, {\"Guesses\": 3098}, {\"Guesses\": 3114}, {\"Guesses\": 3122}, {\"Guesses\": 3147}, {\"Guesses\": 3149}, {\"Guesses\": 3159}, {\"Guesses\": 3200}, {\"Guesses\": 3208}, {\"Guesses\": 3209}, {\"Guesses\": 3221}, {\"Guesses\": 3225}, {\"Guesses\": 3257}, {\"Guesses\": 3269}, {\"Guesses\": 3278}, {\"Guesses\": 3281}, {\"Guesses\": 3294}, {\"Guesses\": 3316}, {\"Guesses\": 3332}, {\"Guesses\": 3333}, {\"Guesses\": 3360}, {\"Guesses\": 3375}, {\"Guesses\": 3421}, {\"Guesses\": 3425}, {\"Guesses\": 3447}, {\"Guesses\": 3452}, {\"Guesses\": 3455}, {\"Guesses\": 3456}, {\"Guesses\": 3459}, {\"Guesses\": 3467}, {\"Guesses\": 3472}, {\"Guesses\": 3485}, {\"Guesses\": 3485}, {\"Guesses\": 3487}, {\"Guesses\": 3492}, {\"Guesses\": 3550}, {\"Guesses\": 3568}, {\"Guesses\": 3575}, {\"Guesses\": 3576}, {\"Guesses\": 3577}, {\"Guesses\": 3578}, {\"Guesses\": 3584}, {\"Guesses\": 3585}, {\"Guesses\": 3600}, {\"Guesses\": 3637}, {\"Guesses\": 3652}, {\"Guesses\": 3678}, {\"Guesses\": 3689}, {\"Guesses\": 3733}, {\"Guesses\": 3765}, {\"Guesses\": 3768}, {\"Guesses\": 3780}, {\"Guesses\": 3782}, {\"Guesses\": 3825}, {\"Guesses\": 3843}, {\"Guesses\": 3846}, {\"Guesses\": 3860}, {\"Guesses\": 3872}, {\"Guesses\": 3873}, {\"Guesses\": 3879}, {\"Guesses\": 3895}, {\"Guesses\": 3961}, {\"Guesses\": 3972}, {\"Guesses\": 3976}, {\"Guesses\": 3999}, {\"Guesses\": 4000}, {\"Guesses\": 4050}, {\"Guesses\": 4051}, {\"Guesses\": 4064}, {\"Guesses\": 4096}, {\"Guesses\": 4120}, {\"Guesses\": 4132}, {\"Guesses\": 4132}, {\"Guesses\": 4150}, {\"Guesses\": 4158}, {\"Guesses\": 4200}, {\"Guesses\": 4209}, {\"Guesses\": 4218}, {\"Guesses\": 4251}, {\"Guesses\": 4269}, {\"Guesses\": 4273}, {\"Guesses\": 4275}, {\"Guesses\": 4287}, {\"Guesses\": 4297}, {\"Guesses\": 4319}, {\"Guesses\": 4320}, {\"Guesses\": 4531}, {\"Guesses\": 4566}, {\"Guesses\": 4567}, {\"Guesses\": 4567}, {\"Guesses\": 4568}, {\"Guesses\": 4573}, {\"Guesses\": 4586}, {\"Guesses\": 4675}, {\"Guesses\": 4682}, {\"Guesses\": 4689}, {\"Guesses\": 4747}, {\"Guesses\": 4764}, {\"Guesses\": 4824}, {\"Guesses\": 4869}, {\"Guesses\": 4952}, {\"Guesses\": 4968}, {\"Guesses\": 5000}, {\"Guesses\": 5000}, {\"Guesses\": 5000}, {\"Guesses\": 5000}, {\"Guesses\": 5005}, {\"Guesses\": 5006}, {\"Guesses\": 5027}, {\"Guesses\": 5032}, {\"Guesses\": 5040}, {\"Guesses\": 5048}, {\"Guesses\": 5259}, {\"Guesses\": 5312}, {\"Guesses\": 5328}, {\"Guesses\": 5352}, {\"Guesses\": 5489}, {\"Guesses\": 5629}, {\"Guesses\": 5672}, {\"Guesses\": 5687}, {\"Guesses\": 5880}, {\"Guesses\": 5892}, {\"Guesses\": 5895}, {\"Guesses\": 5898}, {\"Guesses\": 5964}, {\"Guesses\": 5971}, {\"Guesses\": 6083}, {\"Guesses\": 6100}, {\"Guesses\": 6382}, {\"Guesses\": 6432}, {\"Guesses\": 6458}, {\"Guesses\": 6487}, {\"Guesses\": 6553}, {\"Guesses\": 6563}, {\"Guesses\": 6589}, {\"Guesses\": 6594}, {\"Guesses\": 6711}, {\"Guesses\": 6744}, {\"Guesses\": 6754}, {\"Guesses\": 7075}, {\"Guesses\": 7145}, {\"Guesses\": 7693}, {\"Guesses\": 7965}, {\"Guesses\": 8000}, {\"Guesses\": 8211}, {\"Guesses\": 8400}, {\"Guesses\": 8569}, {\"Guesses\": 9000}, {\"Guesses\": 9901}, {\"Guesses\": 9999}, {\"Guesses\": 9999}, {\"Guesses\": 9999}, {\"Guesses\": 9999}, {\"Guesses\": 9999}, {\"Guesses\": 9999}, {\"Guesses\": 9999}, {\"Guesses\": 9999}, {\"Guesses\": 9999}, {\"Guesses\": 10000}, {\"Guesses\": 10000}, {\"Guesses\": 10000}, {\"Guesses\": 10000}, {\"Guesses\": 10000}, {\"Guesses\": 10000}, {\"Guesses\": 10000}, {\"Guesses\": 10000}, {\"Guesses\": 10000}, {\"Guesses\": 10000}, {\"Guesses\": 10000}, {\"Guesses\": 10001}, {\"Guesses\": 10001}, {\"Guesses\": 10368}, {\"Guesses\": 10467}, {\"Guesses\": 11000}, {\"Guesses\": 11987}, {\"Guesses\": 12240}, {\"Guesses\": 12344}, {\"Guesses\": 14137}, {\"Guesses\": 14237}, {\"Guesses\": 18375}, {\"Guesses\": 21000}, {\"Guesses\": 31337}]}}, {\"mode\": \"vega-lite\"});\n",
       "</script>"
      ],
      "text/plain": [
       "alt.VConcatChart(...)"
      ]
     },
     "execution_count": 133,
     "metadata": {},
     "output_type": "execute_result"
    }
   ],
   "source": [
    "stripplot & boxplot & histogram "
   ]
  },
  {
   "cell_type": "code",
   "execution_count": null,
   "metadata": {},
   "outputs": [],
   "source": []
  }
 ],
 "metadata": {
  "kernelspec": {
   "display_name": "art_of_statistics",
   "language": "python",
   "name": "art_of_statistics"
  },
  "language_info": {
   "codemirror_mode": {
    "name": "ipython",
    "version": 3
   },
   "file_extension": ".py",
   "mimetype": "text/x-python",
   "name": "python",
   "nbconvert_exporter": "python",
   "pygments_lexer": "ipython3",
   "version": "3.8.2"
  }
 },
 "nbformat": 4,
 "nbformat_minor": 2
}
